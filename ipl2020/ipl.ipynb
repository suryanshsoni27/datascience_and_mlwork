{
 "cells": [
  {
   "cell_type": "code",
   "execution_count": 28,
   "metadata": {},
   "outputs": [],
   "source": [
    "import pandas as pd\n",
    "import numpy as np \n",
    "import matplotlib.pyplot as plt\n",
    "import keras\n",
    "from sklearn.compose import ColumnTransformer\n",
    "from sklearn.preprocessing import OneHotEncoder,LabelEncoder\n",
    "from sklearn.model_selection import train_test_split as tts\n",
    "from sklearn.linear_model import LogisticRegression"
   ]
  },
  {
   "cell_type": "code",
   "execution_count": 29,
   "metadata": {},
   "outputs": [],
   "source": [
    "dataset = pd.read_csv(\"data/iplmatches.csv\")"
   ]
  },
  {
   "cell_type": "code",
   "execution_count": 30,
   "metadata": {},
   "outputs": [
    {
     "output_type": "execute_result",
     "data": {
      "text/plain": "       id        city        date player_of_match  \\\n0  335982   Bangalore  2008-04-18     BB McCullum   \n1  335983  Chandigarh  2008-04-19      MEK Hussey   \n2  335984       Delhi  2008-04-19     MF Maharoof   \n3  335985      Mumbai  2008-04-20      MV Boucher   \n4  335986     Kolkata  2008-04-20       DJ Hussey   \n\n                                        venue  neutral_venue  \\\n0                       M Chinnaswamy Stadium              0   \n1  Punjab Cricket Association Stadium, Mohali              0   \n2                            Feroz Shah Kotla              0   \n3                            Wankhede Stadium              0   \n4                                Eden Gardens              0   \n\n                         team1                        team2  \\\n0  Royal Challengers Bangalore        Kolkata Knight Riders   \n1              Kings XI Punjab          Chennai Super Kings   \n2             Delhi Daredevils             Rajasthan Royals   \n3               Mumbai Indians  Royal Challengers Bangalore   \n4        Kolkata Knight Riders              Deccan Chargers   \n\n                   toss_winner toss_decision                       winner  \\\n0  Royal Challengers Bangalore         field        Kolkata Knight Riders   \n1          Chennai Super Kings           bat          Chennai Super Kings   \n2             Rajasthan Royals           bat             Delhi Daredevils   \n3               Mumbai Indians           bat  Royal Challengers Bangalore   \n4              Deccan Chargers           bat        Kolkata Knight Riders   \n\n    result  result_margin eliminator method    umpire1         umpire2  \n0     runs          140.0          N    NaN  Asad Rauf     RE Koertzen  \n1     runs           33.0          N    NaN  MR Benson      SL Shastri  \n2  wickets            9.0          N    NaN  Aleem Dar  GA Pratapkumar  \n3  wickets            5.0          N    NaN   SJ Davis       DJ Harper  \n4  wickets            5.0          N    NaN  BF Bowden     K Hariharan  ",
      "text/html": "<div>\n<style scoped>\n    .dataframe tbody tr th:only-of-type {\n        vertical-align: middle;\n    }\n\n    .dataframe tbody tr th {\n        vertical-align: top;\n    }\n\n    .dataframe thead th {\n        text-align: right;\n    }\n</style>\n<table border=\"1\" class=\"dataframe\">\n  <thead>\n    <tr style=\"text-align: right;\">\n      <th></th>\n      <th>id</th>\n      <th>city</th>\n      <th>date</th>\n      <th>player_of_match</th>\n      <th>venue</th>\n      <th>neutral_venue</th>\n      <th>team1</th>\n      <th>team2</th>\n      <th>toss_winner</th>\n      <th>toss_decision</th>\n      <th>winner</th>\n      <th>result</th>\n      <th>result_margin</th>\n      <th>eliminator</th>\n      <th>method</th>\n      <th>umpire1</th>\n      <th>umpire2</th>\n    </tr>\n  </thead>\n  <tbody>\n    <tr>\n      <th>0</th>\n      <td>335982</td>\n      <td>Bangalore</td>\n      <td>2008-04-18</td>\n      <td>BB McCullum</td>\n      <td>M Chinnaswamy Stadium</td>\n      <td>0</td>\n      <td>Royal Challengers Bangalore</td>\n      <td>Kolkata Knight Riders</td>\n      <td>Royal Challengers Bangalore</td>\n      <td>field</td>\n      <td>Kolkata Knight Riders</td>\n      <td>runs</td>\n      <td>140.0</td>\n      <td>N</td>\n      <td>NaN</td>\n      <td>Asad Rauf</td>\n      <td>RE Koertzen</td>\n    </tr>\n    <tr>\n      <th>1</th>\n      <td>335983</td>\n      <td>Chandigarh</td>\n      <td>2008-04-19</td>\n      <td>MEK Hussey</td>\n      <td>Punjab Cricket Association Stadium, Mohali</td>\n      <td>0</td>\n      <td>Kings XI Punjab</td>\n      <td>Chennai Super Kings</td>\n      <td>Chennai Super Kings</td>\n      <td>bat</td>\n      <td>Chennai Super Kings</td>\n      <td>runs</td>\n      <td>33.0</td>\n      <td>N</td>\n      <td>NaN</td>\n      <td>MR Benson</td>\n      <td>SL Shastri</td>\n    </tr>\n    <tr>\n      <th>2</th>\n      <td>335984</td>\n      <td>Delhi</td>\n      <td>2008-04-19</td>\n      <td>MF Maharoof</td>\n      <td>Feroz Shah Kotla</td>\n      <td>0</td>\n      <td>Delhi Daredevils</td>\n      <td>Rajasthan Royals</td>\n      <td>Rajasthan Royals</td>\n      <td>bat</td>\n      <td>Delhi Daredevils</td>\n      <td>wickets</td>\n      <td>9.0</td>\n      <td>N</td>\n      <td>NaN</td>\n      <td>Aleem Dar</td>\n      <td>GA Pratapkumar</td>\n    </tr>\n    <tr>\n      <th>3</th>\n      <td>335985</td>\n      <td>Mumbai</td>\n      <td>2008-04-20</td>\n      <td>MV Boucher</td>\n      <td>Wankhede Stadium</td>\n      <td>0</td>\n      <td>Mumbai Indians</td>\n      <td>Royal Challengers Bangalore</td>\n      <td>Mumbai Indians</td>\n      <td>bat</td>\n      <td>Royal Challengers Bangalore</td>\n      <td>wickets</td>\n      <td>5.0</td>\n      <td>N</td>\n      <td>NaN</td>\n      <td>SJ Davis</td>\n      <td>DJ Harper</td>\n    </tr>\n    <tr>\n      <th>4</th>\n      <td>335986</td>\n      <td>Kolkata</td>\n      <td>2008-04-20</td>\n      <td>DJ Hussey</td>\n      <td>Eden Gardens</td>\n      <td>0</td>\n      <td>Kolkata Knight Riders</td>\n      <td>Deccan Chargers</td>\n      <td>Deccan Chargers</td>\n      <td>bat</td>\n      <td>Kolkata Knight Riders</td>\n      <td>wickets</td>\n      <td>5.0</td>\n      <td>N</td>\n      <td>NaN</td>\n      <td>BF Bowden</td>\n      <td>K Hariharan</td>\n    </tr>\n  </tbody>\n</table>\n</div>"
     },
     "metadata": {},
     "execution_count": 30
    }
   ],
   "source": [
    "dataset.head()"
   ]
  },
  {
   "cell_type": "code",
   "execution_count": 31,
   "metadata": {
    "tags": []
   },
   "outputs": [
    {
     "output_type": "stream",
     "name": "stdout",
     "text": "<class 'pandas.core.frame.DataFrame'>\nRangeIndex: 816 entries, 0 to 815\nData columns (total 17 columns):\n #   Column           Non-Null Count  Dtype  \n---  ------           --------------  -----  \n 0   id               816 non-null    int64  \n 1   city             803 non-null    object \n 2   date             816 non-null    object \n 3   player_of_match  812 non-null    object \n 4   venue            816 non-null    object \n 5   neutral_venue    816 non-null    int64  \n 6   team1            816 non-null    object \n 7   team2            816 non-null    object \n 8   toss_winner      816 non-null    object \n 9   toss_decision    816 non-null    object \n 10  winner           812 non-null    object \n 11  result           812 non-null    object \n 12  result_margin    799 non-null    float64\n 13  eliminator       812 non-null    object \n 14  method           19 non-null     object \n 15  umpire1          816 non-null    object \n 16  umpire2          816 non-null    object \ndtypes: float64(1), int64(2), object(14)\nmemory usage: 108.5+ KB\n"
    }
   ],
   "source": [
    "dataset.info()\n",
    "\n"
   ]
  },
  {
   "cell_type": "code",
   "execution_count": 32,
   "metadata": {},
   "outputs": [],
   "source": [
    "\n",
    "conditions = [dataset[\"venue\"] == \"Rajiv Gandhi International Stadium, Uppal\",dataset[\"venue\"] == \"Maharashtra Cricket Association Stadium\",\n",
    "              dataset[\"venue\"] == \"Saurashtra Cricket Association Stadium\", dataset[\"venue\"] == \"Holkar Cricket Stadium\",\n",
    "              dataset[\"venue\"] == \"M Chinnaswamy Stadium\",dataset[\"venue\"] == \"Wankhede Stadium\",\n",
    "              dataset[\"venue\"] == \"Eden Gardens\",dataset[\"venue\"] == \"Feroz Shah Kotla\",\n",
    "              dataset[\"venue\"] == \"Punjab Cricket Association IS Bindra Stadium, Mohali\",dataset[\"venue\"] == \"Green Park\",\n",
    "              dataset[\"venue\"] == \"Punjab Cricket Association Stadium, Mohali\",dataset[\"venue\"] == \"Dr DY Patil Sports Academy\",\n",
    "              dataset[\"venue\"] == \"Sawai Mansingh Stadium\", dataset[\"venue\"] == \"MA Chidambaram Stadium, Chepauk\", \n",
    "              dataset[\"venue\"] == \"Newlands\", dataset[\"venue\"] == \"St George's Park\" , \n",
    "              dataset[\"venue\"] == \"Kingsmead\", dataset[\"venue\"] == \"SuperSport Park\",\n",
    "              dataset[\"venue\"] == \"Buffalo Park\", dataset[\"venue\"] == \"New Wanderers Stadium\",\n",
    "              dataset[\"venue\"] == \"De Beers Diamond Oval\", dataset[\"venue\"] == \"OUTsurance Oval\", \n",
    "              dataset[\"venue\"] == \"Brabourne Stadium\",dataset[\"venue\"] == \"Sardar Patel Stadium\", \n",
    "              dataset[\"venue\"] == \"Barabati Stadium\", dataset[\"venue\"] == \"Vidarbha Cricket Association Stadium, Jamtha\",\n",
    "              dataset[\"venue\"] == \"Himachal Pradesh Cricket Association Stadium\",dataset[\"venue\"] == \"Nehru Stadium\",\n",
    "              dataset[\"venue\"] == \"Dr. Y.S. Rajasekhara Reddy ACA-VDCA Cricket Stadium\",dataset[\"venue\"] == \"Subrata Roy Sahara Stadium\",\n",
    "              dataset[\"venue\"] == \"Shaheed Veer Narayan Singh International Stadium\",dataset[\"venue\"] == \"JSCA International Stadium Complex\",\n",
    "              dataset[\"venue\"] == \"Sheikh Zayed Stadium\",dataset[\"venue\"] == \"Sharjah Cricket Stadium\",\n",
    "              dataset[\"venue\"] == \"Dubai International Cricket Stadium\",dataset[\"venue\"] == \"M. A. Chidambaram Stadium\",\n",
    "              dataset[\"venue\"] == \"Feroz Shah Kotla Ground\",dataset[\"venue\"] == \"M. Chinnaswamy Stadium\",\n",
    "              dataset[\"venue\"] == \"Rajiv Gandhi Intl. Cricket Stadium\" ,dataset[\"venue\"] == \"IS Bindra Stadium\",dataset[\"venue\"] == \"ACA-VDCA Stadium\"]\n",
    "\n"
   ]
  },
  {
   "cell_type": "code",
   "execution_count": 33,
   "metadata": {},
   "outputs": [],
   "source": [
    "values = ['Hyderabad', 'Mumbai', 'Rajkot',\"Indore\",\"Bengaluru\",\"Mumbai\",\"Kolkata\",\"Delhi\",\"Mohali\",\"Kanpur\",\"Mohali\",\"Pune\",\"Jaipur\",\"Chennai\",\"Cape Town\",\"Port Elizabeth\",\"Durban\",\n",
    "          \"Centurion\",'Eastern Cape','Johannesburg','Northern Cape','Bloemfontein','Mumbai','Ahmedabad','Cuttack','Jamtha','Dharamshala','Chennai','Visakhapatnam','Pune','Raipur','Ranchi',\n",
    "          'Abu Dhabi','Sharjah','Dubai','Chennai','Delhi','Bengaluru','Hyderabad','Mohali','Visakhapatnam']\n",
    "\n",
    "\n",
    "#Removing records having null values in \"winner\" column\n",
    "\n",
    "\n",
    "\n",
    "dataset['city'] = np.where(dataset['city'].isnull(),\n",
    "                              np.select(conditions, values),\n",
    "                              dataset['city'])\n",
    "\n",
    "# #Removing records having null values in \"winner\" column\n",
    "# dataset=dataset[dataset[\"winner\"].notna()]"
   ]
  },
  {
   "cell_type": "code",
   "execution_count": 34,
   "metadata": {
    "tags": []
   },
   "outputs": [
    {
     "output_type": "stream",
     "name": "stdout",
     "text": "Royal Challengers Bangalore\nKings XI Punjab\nDelhi Daredevils\nMumbai Indians\nKolkata Knight Riders\nRajasthan Royals\nDeccan Chargers\nChennai Super Kings\nKochi Tuskers Kerala\nPune Warriors\nSunrisers Hyderabad\nGujarat Lions\nRising Pune Supergiants\nRising Pune Supergiant\nDelhi Capitals\n"
    }
   ],
   "source": [
    "for t in dataset['team1'].unique():\n",
    "    print(t)"
   ]
  },
  {
   "cell_type": "code",
   "execution_count": 35,
   "metadata": {
    "tags": []
   },
   "outputs": [
    {
     "output_type": "stream",
     "name": "stdout",
     "text": "id        city        date player_of_match  \\\n0     335982   Bangalore  2008-04-18     BB McCullum   \n1     335983  Chandigarh  2008-04-19      MEK Hussey   \n2     335984       Delhi  2008-04-19     MF Maharoof   \n3     335985      Mumbai  2008-04-20      MV Boucher   \n4     335986     Kolkata  2008-04-20       DJ Hussey   \n..       ...         ...         ...             ...   \n811  1216547       Dubai  2020-09-28  AB de Villiers   \n812  1237177       Dubai  2020-11-05       JJ Bumrah   \n813  1237178   Abu Dhabi  2020-11-06   KS Williamson   \n814  1237180   Abu Dhabi  2020-11-08      MP Stoinis   \n815  1237181       Dubai  2020-11-10        TA Boult   \n\n                                          venue  neutral_venue  \\\n0                         M Chinnaswamy Stadium              0   \n1    Punjab Cricket Association Stadium, Mohali              0   \n2                              Feroz Shah Kotla              0   \n3                              Wankhede Stadium              0   \n4                                  Eden Gardens              0   \n..                                          ...            ...   \n811         Dubai International Cricket Stadium              0   \n812         Dubai International Cricket Stadium              0   \n813                        Sheikh Zayed Stadium              0   \n814                        Sheikh Zayed Stadium              0   \n815         Dubai International Cricket Stadium              0   \n\n                           team1                        team2  \\\n0    Royal Challengers Bangalore        Kolkata Knight Riders   \n1                Kings XI Punjab          Chennai Super Kings   \n2               Delhi Daredevils             Rajasthan Royals   \n3                 Mumbai Indians  Royal Challengers Bangalore   \n4          Kolkata Knight Riders              Deccan Chargers   \n..                           ...                          ...   \n811  Royal Challengers Bangalore               Mumbai Indians   \n812               Mumbai Indians               Delhi Capitals   \n813  Royal Challengers Bangalore          Sunrisers Hyderabad   \n814               Delhi Capitals          Sunrisers Hyderabad   \n815               Delhi Capitals               Mumbai Indians   \n\n                     toss_winner toss_decision                       winner  \\\n0    Royal Challengers Bangalore         field        Kolkata Knight Riders   \n1            Chennai Super Kings           bat          Chennai Super Kings   \n2               Rajasthan Royals           bat             Delhi Daredevils   \n3                 Mumbai Indians           bat  Royal Challengers Bangalore   \n4                Deccan Chargers           bat        Kolkata Knight Riders   \n..                           ...           ...                          ...   \n811               Mumbai Indians         field  Royal Challengers Bangalore   \n812               Delhi Capitals         field               Mumbai Indians   \n813          Sunrisers Hyderabad         field          Sunrisers Hyderabad   \n814               Delhi Capitals           bat               Delhi Capitals   \n815               Delhi Capitals           bat               Mumbai Indians   \n\n      result  result_margin eliminator method      umpire1         umpire2  \n0       runs          140.0          N    NaN    Asad Rauf     RE Koertzen  \n1       runs           33.0          N    NaN    MR Benson      SL Shastri  \n2    wickets            9.0          N    NaN    Aleem Dar  GA Pratapkumar  \n3    wickets            5.0          N    NaN     SJ Davis       DJ Harper  \n4    wickets            5.0          N    NaN    BF Bowden     K Hariharan  \n..       ...            ...        ...    ...          ...             ...  \n811      tie            NaN          Y    NaN  Nitin Menon      PR Reiffel  \n812     runs           57.0          N    NaN  CB Gaffaney     Nitin Menon  \n813  wickets            6.0          N    NaN   PR Reiffel          S Ravi  \n814     runs           17.0          N    NaN   PR Reiffel          S Ravi  \n815  wickets            5.0          N    NaN  CB Gaffaney     Nitin Menon  \n\n[812 rows x 17 columns]\n"
    }
   ],
   "source": [
    "dataset=dataset[dataset[\"winner\"].notna()]\n",
    "print(dataset)\n",
    "encoder = LabelEncoder()\n"
   ]
  },
  {
   "cell_type": "code",
   "execution_count": 36,
   "metadata": {},
   "outputs": [],
   "source": [
    "\n",
    "dataset['team1'] = encoder.fit_transform(dataset['team1'])\n",
    "dataset['team2'] = encoder.fit_transform(dataset['team2'])\n",
    "# dataset['winner'] = encoder.fit_transform(dataset['winner'].astpye(str))\n",
    "dataset['toss_winner'] = encoder.fit_transform(dataset['toss_winner'])\n",
    "\n",
    "\n",
    "dataset['venue'] = encoder.fit_transform(dataset['venue'])\n",
    "\n",
    "dataset['winner'] = encoder.fit_transform(dataset['winner'].astype(str))\n"
   ]
  },
  {
   "cell_type": "code",
   "execution_count": 37,
   "metadata": {
    "tags": []
   },
   "outputs": [
    {
     "output_type": "stream",
     "name": "stdout",
     "text": "id        city        date player_of_match  venue  neutral_venue  \\\n0     335982   Bangalore  2008-04-18     BB McCullum     14              0   \n1     335983  Chandigarh  2008-04-19      MEK Hussey     23              0   \n2     335984       Delhi  2008-04-19     MF Maharoof      8              0   \n3     335985      Mumbai  2008-04-20      MV Boucher     35              0   \n4     335986     Kolkata  2008-04-20       DJ Hussey      7              0   \n..       ...         ...         ...             ...    ...            ...   \n811  1216547       Dubai  2020-09-28  AB de Villiers      6              0   \n812  1237177       Dubai  2020-11-05       JJ Bumrah      6              0   \n813  1237178   Abu Dhabi  2020-11-06   KS Williamson     30              0   \n814  1237180   Abu Dhabi  2020-11-08      MP Stoinis     30              0   \n815  1237181       Dubai  2020-11-10        TA Boult      6              0   \n\n     team1  team2  toss_winner toss_decision  winner   result  result_margin  \\\n0       13      7           13         field       7     runs          140.0   \n1        5      0            0           bat       0     runs           33.0   \n2        3     10           10           bat       3  wickets            9.0   \n3        8     13            8           bat      13  wickets            5.0   \n4        7      1            1           bat       7  wickets            5.0   \n..     ...    ...          ...           ...     ...      ...            ...   \n811     13      8            8         field      13      tie            NaN   \n812      8      2            2         field       8     runs           57.0   \n813     13     14           14         field      14  wickets            6.0   \n814      2     14            2           bat       2     runs           17.0   \n815      2      8            2           bat       8  wickets            5.0   \n\n    eliminator method      umpire1         umpire2  team1_win  team1_toss_win  \\\n0            N    NaN    Asad Rauf     RE Koertzen        0.0             1.0   \n1            N    NaN    MR Benson      SL Shastri        0.0             0.0   \n2            N    NaN    Aleem Dar  GA Pratapkumar        1.0             0.0   \n3            N    NaN     SJ Davis       DJ Harper        0.0             1.0   \n4            N    NaN    BF Bowden     K Hariharan        1.0             0.0   \n..         ...    ...          ...             ...        ...             ...   \n811          Y    NaN  Nitin Menon      PR Reiffel        1.0             0.0   \n812          N    NaN  CB Gaffaney     Nitin Menon        1.0             0.0   \n813          N    NaN   PR Reiffel          S Ravi        0.0             0.0   \n814          N    NaN   PR Reiffel          S Ravi        1.0             1.0   \n815          N    NaN  CB Gaffaney     Nitin Menon        0.0             1.0   \n\n     team1_bat  \n0            0  \n1            0  \n2            0  \n3            1  \n4            0  \n..         ...  \n811          0  \n812          0  \n813          0  \n814          1  \n815          1  \n\n[812 rows x 20 columns]\n"
    }
   ],
   "source": [
    "dataset.loc[dataset[\"winner\"]==dataset[\"team1\"],\"team1_win\"]=1\n",
    "\n",
    "dataset.loc[dataset[\"winner\"]!=dataset[\"team1\"],\"team1_win\"]=0\n",
    "dataset.loc[dataset[\"toss_winner\"]==dataset[\"team1\"],\"team1_toss_win\"]=1\n",
    "dataset.loc[dataset[\"toss_winner\"]!=dataset[\"team1\"],\"team1_toss_win\"]=0\n",
    "\n",
    "dataset[\"team1_bat\"]=0\n",
    "dataset.loc[(dataset[\"team1_toss_win\"]==1) & (dataset[\"toss_decision\"]==\"bat\"),\"team1_bat\"]=1\n",
    "\n",
    "print(dataset)\n"
   ]
  },
  {
   "cell_type": "code",
   "execution_count": 38,
   "metadata": {},
   "outputs": [
    {
     "output_type": "execute_result",
     "data": {
      "text/plain": "          id        city        date player_of_match  venue  neutral_venue  \\\n1     335983  Chandigarh  2008-04-19      MEK Hussey     23              0   \n2     335984       Delhi  2008-04-19     MF Maharoof      8              0   \n4     335986     Kolkata  2008-04-20       DJ Hussey      7              0   \n5     335987      Jaipur  2008-04-21       SR Watson     27              0   \n7     335989     Chennai  2008-04-23       ML Hayden     16              0   \n..       ...         ...         ...             ...    ...            ...   \n801  1216537   Abu Dhabi  2020-10-30       BA Stokes     30              0   \n803  1216539       Dubai  2020-09-25         PP Shaw      6              0   \n811  1216547       Dubai  2020-09-28  AB de Villiers      6              0   \n812  1237177       Dubai  2020-11-05       JJ Bumrah      6              0   \n813  1237178   Abu Dhabi  2020-11-06   KS Williamson     30              0   \n\n     team1  team2  toss_winner toss_decision  winner   result  result_margin  \\\n1        5      0            0           bat       0     runs           33.0   \n2        3     10           10           bat       3  wickets            9.0   \n4        7      1            1           bat       7  wickets            5.0   \n5       10      5            5           bat      10  wickets            6.0   \n7        0      8            8         field       0     runs            6.0   \n..     ...    ...          ...           ...     ...      ...            ...   \n801      5     10           10         field      10  wickets            7.0   \n803      2      0            0         field       2     runs           44.0   \n811     13      8            8         field      13      tie            NaN   \n812      8      2            2         field       8     runs           57.0   \n813     13     14           14         field      14  wickets            6.0   \n\n    eliminator method                umpire1         umpire2  team1_win  \\\n1            N    NaN              MR Benson      SL Shastri        0.0   \n2            N    NaN              Aleem Dar  GA Pratapkumar        1.0   \n4            N    NaN              BF Bowden     K Hariharan        1.0   \n5            N    NaN              Aleem Dar       RB Tiffin        1.0   \n7            N    NaN              DJ Harper  GA Pratapkumar        1.0   \n..         ...    ...                    ...             ...        ...   \n801          N    NaN            CB Gaffaney          S Ravi        0.0   \n803          N    NaN  KN Ananthapadmanabhan  RK Illingworth        1.0   \n811          Y    NaN            Nitin Menon      PR Reiffel        1.0   \n812          N    NaN            CB Gaffaney     Nitin Menon        1.0   \n813          N    NaN             PR Reiffel          S Ravi        0.0   \n\n     team1_toss_win  team1_bat  \n1               0.0          0  \n2               0.0          0  \n4               0.0          0  \n5               0.0          0  \n7               0.0          0  \n..              ...        ...  \n801             0.0          0  \n803             0.0          0  \n811             0.0          0  \n812             0.0          0  \n813             0.0          0  \n\n[421 rows x 20 columns]",
      "text/html": "<div>\n<style scoped>\n    .dataframe tbody tr th:only-of-type {\n        vertical-align: middle;\n    }\n\n    .dataframe tbody tr th {\n        vertical-align: top;\n    }\n\n    .dataframe thead th {\n        text-align: right;\n    }\n</style>\n<table border=\"1\" class=\"dataframe\">\n  <thead>\n    <tr style=\"text-align: right;\">\n      <th></th>\n      <th>id</th>\n      <th>city</th>\n      <th>date</th>\n      <th>player_of_match</th>\n      <th>venue</th>\n      <th>neutral_venue</th>\n      <th>team1</th>\n      <th>team2</th>\n      <th>toss_winner</th>\n      <th>toss_decision</th>\n      <th>winner</th>\n      <th>result</th>\n      <th>result_margin</th>\n      <th>eliminator</th>\n      <th>method</th>\n      <th>umpire1</th>\n      <th>umpire2</th>\n      <th>team1_win</th>\n      <th>team1_toss_win</th>\n      <th>team1_bat</th>\n    </tr>\n  </thead>\n  <tbody>\n    <tr>\n      <th>1</th>\n      <td>335983</td>\n      <td>Chandigarh</td>\n      <td>2008-04-19</td>\n      <td>MEK Hussey</td>\n      <td>23</td>\n      <td>0</td>\n      <td>5</td>\n      <td>0</td>\n      <td>0</td>\n      <td>bat</td>\n      <td>0</td>\n      <td>runs</td>\n      <td>33.0</td>\n      <td>N</td>\n      <td>NaN</td>\n      <td>MR Benson</td>\n      <td>SL Shastri</td>\n      <td>0.0</td>\n      <td>0.0</td>\n      <td>0</td>\n    </tr>\n    <tr>\n      <th>2</th>\n      <td>335984</td>\n      <td>Delhi</td>\n      <td>2008-04-19</td>\n      <td>MF Maharoof</td>\n      <td>8</td>\n      <td>0</td>\n      <td>3</td>\n      <td>10</td>\n      <td>10</td>\n      <td>bat</td>\n      <td>3</td>\n      <td>wickets</td>\n      <td>9.0</td>\n      <td>N</td>\n      <td>NaN</td>\n      <td>Aleem Dar</td>\n      <td>GA Pratapkumar</td>\n      <td>1.0</td>\n      <td>0.0</td>\n      <td>0</td>\n    </tr>\n    <tr>\n      <th>4</th>\n      <td>335986</td>\n      <td>Kolkata</td>\n      <td>2008-04-20</td>\n      <td>DJ Hussey</td>\n      <td>7</td>\n      <td>0</td>\n      <td>7</td>\n      <td>1</td>\n      <td>1</td>\n      <td>bat</td>\n      <td>7</td>\n      <td>wickets</td>\n      <td>5.0</td>\n      <td>N</td>\n      <td>NaN</td>\n      <td>BF Bowden</td>\n      <td>K Hariharan</td>\n      <td>1.0</td>\n      <td>0.0</td>\n      <td>0</td>\n    </tr>\n    <tr>\n      <th>5</th>\n      <td>335987</td>\n      <td>Jaipur</td>\n      <td>2008-04-21</td>\n      <td>SR Watson</td>\n      <td>27</td>\n      <td>0</td>\n      <td>10</td>\n      <td>5</td>\n      <td>5</td>\n      <td>bat</td>\n      <td>10</td>\n      <td>wickets</td>\n      <td>6.0</td>\n      <td>N</td>\n      <td>NaN</td>\n      <td>Aleem Dar</td>\n      <td>RB Tiffin</td>\n      <td>1.0</td>\n      <td>0.0</td>\n      <td>0</td>\n    </tr>\n    <tr>\n      <th>7</th>\n      <td>335989</td>\n      <td>Chennai</td>\n      <td>2008-04-23</td>\n      <td>ML Hayden</td>\n      <td>16</td>\n      <td>0</td>\n      <td>0</td>\n      <td>8</td>\n      <td>8</td>\n      <td>field</td>\n      <td>0</td>\n      <td>runs</td>\n      <td>6.0</td>\n      <td>N</td>\n      <td>NaN</td>\n      <td>DJ Harper</td>\n      <td>GA Pratapkumar</td>\n      <td>1.0</td>\n      <td>0.0</td>\n      <td>0</td>\n    </tr>\n    <tr>\n      <th>...</th>\n      <td>...</td>\n      <td>...</td>\n      <td>...</td>\n      <td>...</td>\n      <td>...</td>\n      <td>...</td>\n      <td>...</td>\n      <td>...</td>\n      <td>...</td>\n      <td>...</td>\n      <td>...</td>\n      <td>...</td>\n      <td>...</td>\n      <td>...</td>\n      <td>...</td>\n      <td>...</td>\n      <td>...</td>\n      <td>...</td>\n      <td>...</td>\n      <td>...</td>\n    </tr>\n    <tr>\n      <th>801</th>\n      <td>1216537</td>\n      <td>Abu Dhabi</td>\n      <td>2020-10-30</td>\n      <td>BA Stokes</td>\n      <td>30</td>\n      <td>0</td>\n      <td>5</td>\n      <td>10</td>\n      <td>10</td>\n      <td>field</td>\n      <td>10</td>\n      <td>wickets</td>\n      <td>7.0</td>\n      <td>N</td>\n      <td>NaN</td>\n      <td>CB Gaffaney</td>\n      <td>S Ravi</td>\n      <td>0.0</td>\n      <td>0.0</td>\n      <td>0</td>\n    </tr>\n    <tr>\n      <th>803</th>\n      <td>1216539</td>\n      <td>Dubai</td>\n      <td>2020-09-25</td>\n      <td>PP Shaw</td>\n      <td>6</td>\n      <td>0</td>\n      <td>2</td>\n      <td>0</td>\n      <td>0</td>\n      <td>field</td>\n      <td>2</td>\n      <td>runs</td>\n      <td>44.0</td>\n      <td>N</td>\n      <td>NaN</td>\n      <td>KN Ananthapadmanabhan</td>\n      <td>RK Illingworth</td>\n      <td>1.0</td>\n      <td>0.0</td>\n      <td>0</td>\n    </tr>\n    <tr>\n      <th>811</th>\n      <td>1216547</td>\n      <td>Dubai</td>\n      <td>2020-09-28</td>\n      <td>AB de Villiers</td>\n      <td>6</td>\n      <td>0</td>\n      <td>13</td>\n      <td>8</td>\n      <td>8</td>\n      <td>field</td>\n      <td>13</td>\n      <td>tie</td>\n      <td>NaN</td>\n      <td>Y</td>\n      <td>NaN</td>\n      <td>Nitin Menon</td>\n      <td>PR Reiffel</td>\n      <td>1.0</td>\n      <td>0.0</td>\n      <td>0</td>\n    </tr>\n    <tr>\n      <th>812</th>\n      <td>1237177</td>\n      <td>Dubai</td>\n      <td>2020-11-05</td>\n      <td>JJ Bumrah</td>\n      <td>6</td>\n      <td>0</td>\n      <td>8</td>\n      <td>2</td>\n      <td>2</td>\n      <td>field</td>\n      <td>8</td>\n      <td>runs</td>\n      <td>57.0</td>\n      <td>N</td>\n      <td>NaN</td>\n      <td>CB Gaffaney</td>\n      <td>Nitin Menon</td>\n      <td>1.0</td>\n      <td>0.0</td>\n      <td>0</td>\n    </tr>\n    <tr>\n      <th>813</th>\n      <td>1237178</td>\n      <td>Abu Dhabi</td>\n      <td>2020-11-06</td>\n      <td>KS Williamson</td>\n      <td>30</td>\n      <td>0</td>\n      <td>13</td>\n      <td>14</td>\n      <td>14</td>\n      <td>field</td>\n      <td>14</td>\n      <td>wickets</td>\n      <td>6.0</td>\n      <td>N</td>\n      <td>NaN</td>\n      <td>PR Reiffel</td>\n      <td>S Ravi</td>\n      <td>0.0</td>\n      <td>0.0</td>\n      <td>0</td>\n    </tr>\n  </tbody>\n</table>\n<p>421 rows × 20 columns</p>\n</div>"
     },
     "metadata": {},
     "execution_count": 38
    }
   ],
   "source": [
    "dataset.loc[dataset[\"toss_winner\"]==dataset[\"team1\"],\"team1_toss_win\"]=1\n",
    "dataset.loc[dataset[\"toss_winner\"]!=dataset[\"team1\"]]"
   ]
  },
  {
   "cell_type": "code",
   "execution_count": 39,
   "metadata": {},
   "outputs": [],
   "source": [
    "prediction_df = dataset[['team1','team2','team1_toss_win','team1_bat','team1_win','venue']]\n",
    "\n",
    "correlated_featues = set()\n",
    "correlation_matrix = prediction_df.drop('team1_win',axis=1).corr()\n",
    "\n",
    "for i in range(len(correlation_matrix.columns)):\n",
    "    for j in range(i):\n",
    "        if abs(correlation_matrix.iloc[i,j]) > 0.8:\n",
    "            column = correlation_matrix.columns[i]\n",
    "            correlated_features.add(column)\n",
    "\n"
   ]
  },
  {
   "cell_type": "code",
   "execution_count": 40,
   "metadata": {},
   "outputs": [],
   "source": [
    "prediction_df.drop(columns= correlated_featues)\n",
    "X = prediction_df.drop('team1_win',axis=1)\n",
    "target = prediction_df['team1_win']\n",
    "target = target.astype(int)\n",
    "\n",
    "\n",
    "\n"
   ]
  },
  {
   "cell_type": "code",
   "execution_count": 41,
   "metadata": {},
   "outputs": [
    {
     "output_type": "error",
     "ename": "NameError",
     "evalue": "name 'LogisticRegression' is not defined",
     "traceback": [
      "\u001b[0;31m---------------------------------------------------------------------------\u001b[0m",
      "\u001b[0;31mNameError\u001b[0m                                 Traceback (most recent call last)",
      "\u001b[0;32m<ipython-input-41-fdf6b64b77cd>\u001b[0m in \u001b[0;36m<module>\u001b[0;34m\u001b[0m\n\u001b[0;32m----> 1\u001b[0;31m \u001b[0mreg\u001b[0m \u001b[0;34m=\u001b[0m \u001b[0mLogisticRegression\u001b[0m\u001b[0;34m(\u001b[0m\u001b[0msolver\u001b[0m \u001b[0;34m=\u001b[0m \u001b[0;34m'lbfgs'\u001b[0m\u001b[0;34m)\u001b[0m\u001b[0;34m\u001b[0m\u001b[0;34m\u001b[0m\u001b[0m\n\u001b[0m\u001b[1;32m      2\u001b[0m \u001b[0mrfe\u001b[0m \u001b[0;34m=\u001b[0m \u001b[0mrfe\u001b[0m\u001b[0;34m.\u001b[0m\u001b[0mfit\u001b[0m\u001b[0;34m(\u001b[0m\u001b[0mX\u001b[0m\u001b[0;34m,\u001b[0m\u001b[0mtarget\u001b[0m\u001b[0;34m.\u001b[0m\u001b[0mvalues\u001b[0m\u001b[0;34m.\u001b[0m\u001b[0mravel\u001b[0m\u001b[0;34m(\u001b[0m\u001b[0;34m)\u001b[0m\u001b[0;34m)\u001b[0m\u001b[0;34m\u001b[0m\u001b[0;34m\u001b[0m\u001b[0m\n",
      "\u001b[0;31mNameError\u001b[0m: name 'LogisticRegression' is not defined"
     ]
    }
   ],
   "source": [
    "reg = LogisticRegression(solver = 'lbfgs')\n",
    "rfe = rfe.fit(X,target.values.ravel())"
   ]
  },
  {
   "cell_type": "code",
   "execution_count": 42,
   "metadata": {},
   "outputs": [],
   "source": [
    "X_train,X_test,y_train,y_test = tts(X,target,test_size=0.2,random_state=0)"
   ]
  },
  {
   "cell_type": "code",
   "execution_count": 43,
   "metadata": {
    "tags": []
   },
   "outputs": [
    {
     "output_type": "stream",
     "name": "stdout",
     "text": "team1  team2  team1_toss_win  team1_bat  venue\n37       5     10             0.0          0     23\n172      0      1             1.0          1      4\n48       5      1             1.0          0     23\n320      3      0             1.0          0     16\n627      3     11             1.0          1      8\n..     ...    ...             ...        ...    ...\n767      8      5             0.0          0     30\n192      6      0             1.0          0     18\n632      8     11             1.0          0     35\n562      5     14             1.0          1     22\n687      3      0             0.0          0      8\n\n[649 rows x 5 columns]\n"
    }
   ],
   "source": [
    "print(X_train)"
   ]
  },
  {
   "cell_type": "code",
   "execution_count": 44,
   "metadata": {
    "tags": []
   },
   "outputs": [
    {
     "output_type": "stream",
     "name": "stdout",
     "text": "[[-0.42111856  0.64791865 -0.95627103 -0.53875639  0.45760002]\n [-1.54676082 -1.41898077  1.04572864  1.85612647 -1.4295792 ]\n [-0.42111856 -1.41898077  1.04572864 -0.53875639  0.45760002]\n ...\n [ 0.25426681  0.87757414  1.04572864 -0.53875639  1.64950269]\n [-0.42111856  1.56654062  1.04572864  1.85612647  0.3582748 ]\n [-0.87137546 -1.64863627 -0.95627103 -0.53875639 -1.03227831]]\n[[-0.8771527  -0.6098245   1.0061539  -0.48461168 -0.95480836]\n [-1.54630662  0.5994382  -0.99388373 -0.48461168 -0.14315901]\n [-0.8771527   0.84129074  1.0061539  -0.48461168  1.7845082 ]\n [-0.8771527   0.35758566 -0.99388373 -0.48461168 -0.95480836]\n [-0.8771527  -1.57723466 -0.99388373 -0.48461168 -0.95480836]\n [ 1.3533604  -1.57723466 -0.99388373 -0.48461168 -0.34607135]\n [-0.43105008  0.11573312  1.0061539  -0.48461168 -1.05626453]\n [ 0.68420647 -0.85167704 -0.99388373 -0.48461168 -1.66500154]\n [-1.54630662  0.35758566 -0.99388373 -0.48461168 -0.14315901]\n [-0.43105008 -1.57723466  1.0061539   2.06350782 -1.1577207 ]\n [-0.65410139 -0.85167704 -0.99388373 -0.48461168 -0.85335219]\n [-1.54630662  0.11573312 -0.99388373 -0.48461168 -0.14315901]\n [-1.32325531  0.84129074 -0.99388373 -0.48461168  0.66849034]\n [ 0.23810385 -0.85167704 -0.99388373 -0.48461168  1.7845082 ]\n [ 0.90725778 -0.85167704  1.0061539  -0.48461168 -0.04170284]\n [ 1.3533604  -0.36797196 -0.99388373 -0.48461168 -0.24461518]\n [ 1.57641171  0.11573312 -0.99388373 -0.48461168 -1.25917687]\n [-0.8771527  -0.36797196 -0.99388373 -0.48461168  0.36412183]\n [ 1.3533604  -1.57723466  1.0061539  -0.48461168  0.1612095 ]\n [ 0.68420647 -1.33538212 -0.99388373 -0.48461168  0.97285885]\n [-1.54630662  1.8087009   1.0061539  -0.48461168 -0.04170284]\n [ 1.57641171 -0.36797196  1.0061539   2.06350782  0.66849034]\n [-1.54630662  0.84129074 -0.99388373 -0.48461168  1.58159586]\n [ 0.23810385  0.84129074  1.0061539  -0.48461168  1.7845082 ]\n [ 0.01505254  0.35758566  1.0061539  -0.48461168 -1.76645771]\n [ 0.68420647 -1.57723466 -0.99388373 -0.48461168  0.97285885]\n [-0.43105008 -1.57723466 -0.99388373 -0.48461168  0.465578  ]\n [ 0.23810385 -1.57723466 -0.99388373 -0.48461168  1.27722735]\n [ 0.23810385 -0.36797196  1.0061539  -0.48461168 -1.66500154]\n [ 0.23810385  1.8087009   1.0061539  -0.48461168  1.7845082 ]\n [ 0.01505254 -0.36797196  1.0061539  -0.48461168 -1.05626453]\n [-1.54630662  1.56684836 -0.99388373 -0.48461168 -0.14315901]\n [ 0.46115516 -1.57723466  1.0061539   2.06350782 -1.36063304]\n [ 1.57641171 -1.57723466  1.0061539  -0.48461168  0.66849034]\n [-0.8771527   0.11573312  1.0061539   2.06350782 -0.95480836]\n [-0.43105008 -0.85167704 -0.99388373 -0.48461168 -0.75189602]\n [-1.54630662  0.11573312  1.0061539   2.06350782 -0.14315901]\n [ 0.23810385  0.84129074  1.0061539   2.06350782  1.27722735]\n [ 0.46115516 -0.85167704  1.0061539   2.06350782  1.48013969]\n [ 1.57641171  0.11573312 -0.99388373 -0.48461168 -0.95480836]\n [ 1.3533604   0.84129074  1.0061539  -0.48461168 -0.34607135]\n [-0.43105008  0.84129074  1.0061539  -0.48461168 -0.65043986]\n [ 1.3533604  -0.36797196  1.0061539   2.06350782 -0.44752752]\n [ 0.23810385  1.56684836  1.0061539  -0.48461168  1.7845082 ]\n [-1.54630662  0.84129074 -0.99388373 -0.48461168 -0.04170284]\n [ 0.68420647 -1.57723466 -0.99388373 -0.48461168  1.17577118]\n [-0.65410139  1.56684836 -0.99388373 -0.48461168 -0.34607135]\n [ 1.3533604  -0.85167704  1.0061539  -0.48461168 -0.24461518]\n [-1.54630662 -0.36797196 -0.99388373 -0.48461168 -0.14315901]\n [ 1.3533604   0.11573312  1.0061539  -0.48461168 -0.34607135]\n [-0.8771527   0.11573312 -0.99388373 -0.48461168 -0.95480836]\n [ 1.3533604  -0.85167704 -0.99388373 -0.48461168 -0.34607135]\n [ 0.01505254  0.35758566  1.0061539   2.06350782 -1.05626453]\n [ 0.68420647 -0.36797196 -0.99388373 -0.48461168  1.17577118]\n [ 1.3533604   0.11573312  1.0061539  -0.48461168 -0.34607135]\n [-0.8771527  -0.36797196  1.0061539   2.06350782 -0.95480836]\n [ 0.23810385  0.84129074 -0.99388373 -0.48461168  1.7845082 ]\n [ 0.01505254  1.8087009  -0.99388373 -0.48461168 -1.05626453]\n [ 1.3533604  -0.6098245  -0.99388373 -0.48461168 -0.34607135]\n [-0.43105008  0.11573312 -0.99388373 -0.48461168  0.465578  ]\n [ 0.23810385  0.11573312  1.0061539  -0.48461168 -0.34607135]\n [-1.32325531  0.35758566  1.0061539  -0.48461168  0.66849034]\n [ 0.23810385 -1.33538212  1.0061539  -0.48461168  1.7845082 ]\n [-0.8771527  -0.36797196 -0.99388373 -0.48461168 -0.95480836]\n [-0.8771527   0.84129074 -0.99388373 -0.48461168 -0.95480836]\n [ 1.57641171 -0.36797196  1.0061539   2.06350782 -1.1577207 ]\n [ 0.23810385  1.8087009   1.0061539   2.06350782  1.7845082 ]\n [ 0.23810385  1.08314328  1.0061539  -0.48461168  1.7845082 ]\n [-0.20799877 -0.36797196 -0.99388373 -0.48461168 -0.65043986]\n [ 1.57641171  0.84129074 -0.99388373 -0.48461168  0.66849034]\n [-0.43105008  1.56684836  1.0061539   2.06350782 -0.75189602]\n [-1.54630662 -0.36797196  1.0061539   2.06350782 -0.14315901]\n [ 1.57641171  0.11573312  1.0061539   2.06350782  0.66849034]\n [ 1.3533604  -0.36797196 -0.99388373 -0.48461168 -0.34607135]\n [-0.43105008 -1.57723466 -0.99388373 -0.48461168  1.27722735]\n [-1.32325531 -1.57723466 -0.99388373 -0.48461168  1.68305203]\n [ 0.68420647  0.35758566  1.0061539  -0.48461168  0.97285885]\n [ 0.23810385  0.84129074 -0.99388373 -0.48461168  1.7845082 ]\n [ 1.3533604  -1.57723466  1.0061539  -0.48461168 -0.34607135]\n [-0.43105008  0.35758566  1.0061539   2.06350782 -0.44752752]\n [-0.43105008  0.84129074  1.0061539  -0.48461168 -0.44752752]\n [-1.100204    0.84129074  1.0061539   2.06350782 -1.1577207 ]\n [-1.32325531  0.11573312  1.0061539  -0.48461168  0.1612095 ]\n [ 0.01505254  1.56684836  1.0061539  -0.48461168 -0.54898369]\n [-0.43105008 -1.57723466 -0.99388373 -0.48461168  0.56703417]\n [ 1.13030909  1.8087009  -0.99388373 -0.48461168 -1.25917687]\n [ 0.68420647 -0.36797196 -0.99388373 -0.48461168  0.97285885]\n [-0.43105008  1.56684836  1.0061539   2.06350782  0.56703417]\n [-0.43105008  0.35758566  1.0061539  -0.48461168  0.465578  ]\n [ 0.01505254  0.35758566 -0.99388373 -0.48461168 -1.05626453]\n [ 1.57641171  0.84129074  1.0061539  -0.48461168  0.66849034]\n [ 0.23810385 -0.85167704 -0.99388373 -0.48461168  1.7845082 ]\n [ 0.01505254 -1.57723466 -0.99388373 -0.48461168 -1.05626453]\n [-0.8771527  -1.33538212 -0.99388373 -0.48461168 -0.95480836]\n [-1.54630662 -0.85167704  1.0061539   2.06350782  1.27722735]\n [ 0.68420647 -0.36797196  1.0061539  -0.48461168  0.97285885]\n [ 0.01505254  0.84129074 -0.99388373 -0.48461168  1.27722735]\n [-0.8771527  -0.36797196  1.0061539   2.06350782 -0.95480836]\n [ 1.3533604   0.11573312 -0.99388373 -0.48461168 -0.24461518]\n [ 0.01505254 -0.85167704  1.0061539   2.06350782 -1.1577207 ]\n [ 1.3533604   0.35758566 -0.99388373 -0.48461168 -0.24461518]\n [ 0.01505254 -1.57723466  1.0061539  -0.48461168 -1.05626453]\n [ 1.3533604   0.35758566  1.0061539  -0.48461168 -1.1577207 ]\n [ 0.01505254 -0.85167704  1.0061539  -0.48461168 -1.05626453]\n [-0.43105008 -0.85167704  1.0061539  -0.48461168  0.56703417]\n [-1.54630662  0.35758566 -0.99388373 -0.48461168 -0.34607135]\n [-1.100204    1.8087009   1.0061539  -0.48461168 -1.25917687]\n [ 0.68420647  0.35758566 -0.99388373 -0.48461168  0.76994651]\n [ 0.01505254 -0.36797196  1.0061539  -0.48461168 -0.34607135]\n [-0.43105008  0.35758566 -0.99388373 -0.48461168  0.56703417]\n [ 0.23810385  1.08314328  1.0061539   2.06350782  0.66849034]\n [-0.43105008 -0.6098245  -0.99388373 -0.48461168  0.465578  ]\n [ 0.23810385 -0.85167704 -0.99388373 -0.48461168  1.7845082 ]\n [ 0.68420647  1.8087009   1.0061539  -0.48461168  0.97285885]\n [ 0.68420647 -0.85167704 -0.99388373 -0.48461168  0.97285885]\n [-0.43105008  0.11573312 -0.99388373 -0.48461168 -0.04170284]\n [ 0.23810385  0.11573312  1.0061539  -0.48461168  1.7845082 ]\n [-0.43105008  0.35758566 -0.99388373 -0.48461168 -0.75189602]\n [ 0.23810385  0.5994382   1.0061539  -0.48461168  1.7845082 ]\n [ 0.68420647  0.11573312  1.0061539   2.06350782  0.97285885]\n [ 0.90725778  0.35758566  1.0061539  -0.48461168 -0.04170284]\n [ 0.01505254  0.35758566  1.0061539  -0.48461168 -1.05626453]\n [ 0.23810385  0.84129074 -0.99388373 -0.48461168 -1.05626453]\n [-1.32325531  0.84129074 -0.99388373 -0.48461168  1.68305203]\n [ 0.46115516  1.56684836  1.0061539  -0.48461168  1.48013969]\n [ 1.3533604   1.08314328  1.0061539  -0.48461168 -0.34607135]\n [-1.54630662  0.84129074 -0.99388373 -0.48461168 -0.14315901]\n [ 0.46115516 -1.33538212 -0.99388373 -0.48461168 -1.36063304]\n [-1.100204    1.56684836 -0.99388373 -0.48461168 -1.1577207 ]\n [ 1.57641171  1.56684836 -0.99388373 -0.48461168  0.66849034]\n [ 0.01505254 -1.57723466 -0.99388373 -0.48461168 -1.05626453]\n [ 1.3533604   0.35758566 -0.99388373 -0.48461168 -0.34607135]\n [-1.54630662 -0.85167704 -0.99388373 -0.48461168 -0.14315901]\n [ 1.3533604   0.84129074 -0.99388373 -0.48461168 -0.34607135]\n [-0.43105008 -1.57723466 -0.99388373 -0.48461168 -1.76645771]\n [-1.32325531  0.35758566  1.0061539   2.06350782 -0.44752752]\n [-1.32325531 -0.85167704  1.0061539   2.06350782  0.66849034]\n [ 0.23810385  0.84129074 -0.99388373 -0.48461168  1.7845082 ]\n [ 1.3533604   0.84129074  1.0061539  -0.48461168 -0.24461518]\n [-1.54630662 -0.36797196  1.0061539   2.06350782 -0.14315901]\n [-0.8771527   1.56684836 -0.99388373 -0.48461168 -0.95480836]\n [-0.8771527   0.5994382  -0.99388373 -0.48461168  1.07431502]\n [-1.54630662  0.11573312 -0.99388373 -0.48461168 -0.14315901]\n [-0.8771527   0.84129074 -0.99388373 -0.48461168 -0.95480836]\n [ 1.3533604  -1.57723466  1.0061539   2.06350782 -1.1577207 ]\n [ 0.01505254  0.84129074 -0.99388373 -0.48461168 -1.05626453]\n [-0.43105008 -1.57723466  1.0061539  -0.48461168  0.465578  ]\n [ 1.3533604  -1.57723466 -0.99388373 -0.48461168 -0.24461518]\n [-1.100204    0.84129074 -0.99388373 -0.48461168  1.17577118]\n [-1.54630662 -1.09352958  1.0061539  -0.48461168 -1.25917687]\n [-0.8771527   0.35758566 -0.99388373 -0.48461168  1.17577118]\n [ 1.3533604  -1.57723466  1.0061539  -0.48461168 -0.34607135]\n [ 1.57641171 -1.57723466  1.0061539   2.06350782  1.17577118]\n [ 0.01505254  0.84129074 -0.99388373 -0.48461168 -1.05626453]\n [ 1.57641171  0.11573312  1.0061539   2.06350782  0.66849034]\n [-1.54630662  0.5994382  -0.99388373 -0.48461168 -0.14315901]\n [ 1.57641171  0.35758566  1.0061539   2.06350782  0.66849034]\n [ 1.3533604   0.11573312 -0.99388373 -0.48461168 -0.34607135]\n [-1.54630662 -1.33538212 -0.99388373 -0.48461168 -0.44752752]\n [-0.8771527   0.35758566  1.0061539  -0.48461168 -0.95480836]\n [ 0.23810385  1.8087009   1.0061539  -0.48461168 -1.1577207 ]\n [-0.43105008 -1.33538212  1.0061539  -0.48461168 -0.75189602]\n [ 0.23810385  0.84129074  1.0061539   2.06350782 -1.66500154]]\n"
    }
   ],
   "source": [
    "from sklearn.preprocessing import StandardScaler\n",
    "sc = StandardScaler()\n",
    "\n",
    "\n",
    "\n",
    "X_train = sc.fit_transform(X_train)\n",
    "X_test = sc.fit_transform(X_test)\n",
    "\n",
    "print(X_train)\n",
    "print(X_test)"
   ]
  },
  {
   "cell_type": "code",
   "execution_count": 55,
   "metadata": {},
   "outputs": [
    {
     "output_type": "error",
     "ename": "NameError",
     "evalue": "name 'LogisticRegression' is not defined",
     "traceback": [
      "\u001b[0;31m---------------------------------------------------------------------------\u001b[0m",
      "\u001b[0;31mNameError\u001b[0m                                 Traceback (most recent call last)",
      "\u001b[0;32m<ipython-input-55-272fe020d765>\u001b[0m in \u001b[0;36m<module>\u001b[0;34m\u001b[0m\n\u001b[0;32m----> 1\u001b[0;31m \u001b[0mlgr\u001b[0m \u001b[0;34m=\u001b[0m \u001b[0mLogisticRegression\u001b[0m\u001b[0;34m(\u001b[0m\u001b[0;34m)\u001b[0m\u001b[0;34m\u001b[0m\u001b[0;34m\u001b[0m\u001b[0m\n\u001b[0m\u001b[1;32m      2\u001b[0m \u001b[0mlgr\u001b[0m\u001b[0;34m.\u001b[0m\u001b[0mfit\u001b[0m\u001b[0;34m(\u001b[0m\u001b[0mX_train\u001b[0m\u001b[0;34m,\u001b[0m\u001b[0my_train\u001b[0m\u001b[0;34m)\u001b[0m\u001b[0;34m\u001b[0m\u001b[0;34m\u001b[0m\u001b[0m\n\u001b[1;32m      3\u001b[0m \u001b[0my_pred\u001b[0m \u001b[0;34m=\u001b[0m \u001b[0mlgr\u001b[0m\u001b[0;34m.\u001b[0m\u001b[0mpredict\u001b[0m\u001b[0;34m(\u001b[0m\u001b[0mX_test\u001b[0m\u001b[0;34m)\u001b[0m\u001b[0;34m\u001b[0m\u001b[0;34m\u001b[0m\u001b[0m\n",
      "\u001b[0;31mNameError\u001b[0m: name 'LogisticRegression' is not defined"
     ]
    }
   ],
   "source": [
    "lgr = LogisticRegression()\n",
    "lgr.fit(X_train,y_train)\n",
    "y_pred = lgr.predict(X_test)"
   ]
  },
  {
   "cell_type": "code",
   "execution_count": 56,
   "metadata": {
    "tags": []
   },
   "outputs": [
    {
     "output_type": "stream",
     "name": "stdout",
     "text": "[[38 29]\n [52 44]]\n"
    },
    {
     "output_type": "error",
     "ename": "NameError",
     "evalue": "name 'lgr' is not defined",
     "traceback": [
      "\u001b[0;31m---------------------------------------------------------------------------\u001b[0m",
      "\u001b[0;31mNameError\u001b[0m                                 Traceback (most recent call last)",
      "\u001b[0;32m<ipython-input-56-8819cbb7b3eb>\u001b[0m in \u001b[0;36m<module>\u001b[0;34m\u001b[0m\n\u001b[1;32m      3\u001b[0m \u001b[0mcm\u001b[0m \u001b[0;34m=\u001b[0m \u001b[0mconfusion_matrix\u001b[0m\u001b[0;34m(\u001b[0m\u001b[0my_test\u001b[0m\u001b[0;34m,\u001b[0m\u001b[0my_pred\u001b[0m\u001b[0;34m)\u001b[0m\u001b[0;34m\u001b[0m\u001b[0;34m\u001b[0m\u001b[0m\n\u001b[1;32m      4\u001b[0m \u001b[0mprint\u001b[0m\u001b[0;34m(\u001b[0m\u001b[0mcm\u001b[0m\u001b[0;34m)\u001b[0m\u001b[0;34m\u001b[0m\u001b[0;34m\u001b[0m\u001b[0m\n\u001b[0;32m----> 5\u001b[0;31m \u001b[0mscore\u001b[0m \u001b[0;34m=\u001b[0m \u001b[0mlgr\u001b[0m\u001b[0;34m.\u001b[0m\u001b[0mscore\u001b[0m\u001b[0;34m(\u001b[0m\u001b[0mX_test\u001b[0m\u001b[0;34m,\u001b[0m\u001b[0my_test\u001b[0m\u001b[0;34m)\u001b[0m\u001b[0;34m\u001b[0m\u001b[0;34m\u001b[0m\u001b[0m\n\u001b[0m\u001b[1;32m      6\u001b[0m \u001b[0mprint\u001b[0m\u001b[0;34m(\u001b[0m\u001b[0mscore\u001b[0m\u001b[0;34m)\u001b[0m\u001b[0;34m\u001b[0m\u001b[0;34m\u001b[0m\u001b[0m\n",
      "\u001b[0;31mNameError\u001b[0m: name 'lgr' is not defined"
     ]
    }
   ],
   "source": [
    "from sklearn.metrics import confusion_matrix\n",
    "\n",
    "cm = confusion_matrix(y_test,y_pred)\n",
    "print(cm)\n",
    "score = lgr.score(X_test,y_test)\n",
    "print(score)\n"
   ]
  },
  {
   "cell_type": "code",
   "execution_count": 47,
   "metadata": {
    "tags": []
   },
   "outputs": [
    {
     "output_type": "stream",
     "name": "stdout",
     "text": "0.5030674846625767\n"
    }
   ],
   "source": [
    "from sklearn.ensemble import RandomForestClassifier\n",
    "reg = RandomForestClassifier(n_estimators=1000)\n",
    "reg.fit(X_train,y_train)\n",
    "y_pred = reg.predict(X_test)\n",
    "\n",
    "confusion_matrix(y_pred,y_test)\n",
    "score = reg.score(X_test,y_test)\n",
    "\n",
    "print(score)"
   ]
  },
  {
   "cell_type": "code",
   "execution_count": 48,
   "metadata": {},
   "outputs": [],
   "source": [
    "#training model using artificial neural net\n",
    "import keras\n",
    "import tensorflow as tf"
   ]
  },
  {
   "cell_type": "code",
   "execution_count": 49,
   "metadata": {},
   "outputs": [],
   "source": [
    "ann = tf.keras.models.Sequential()"
   ]
  },
  {
   "cell_type": "code",
   "execution_count": 50,
   "metadata": {
    "tags": []
   },
   "outputs": [
    {
     "output_type": "stream",
     "name": "stdout",
     "text": "<tensorflow.python.keras.engine.sequential.Sequential object at 0x15eabbb70>\n"
    }
   ],
   "source": [
    "print(ann)"
   ]
  },
  {
   "cell_type": "code",
   "execution_count": 51,
   "metadata": {
    "tags": []
   },
   "outputs": [
    {
     "output_type": "stream",
     "name": "stdout",
     "text": "[[-0.42111856  0.64791865 -0.95627103 -0.53875639  0.45760002]\n [-1.54676082 -1.41898077  1.04572864  1.85612647 -1.4295792 ]\n [-0.42111856 -1.41898077  1.04572864 -0.53875639  0.45760002]\n ...\n [ 0.25426681  0.87757414  1.04572864 -0.53875639  1.64950269]\n [-0.42111856  1.56654062  1.04572864  1.85612647  0.3582748 ]\n [-0.87137546 -1.64863627 -0.95627103 -0.53875639 -1.03227831]]\n[[-0.8771527  -0.6098245   1.0061539  -0.48461168 -0.95480836]\n [-1.54630662  0.5994382  -0.99388373 -0.48461168 -0.14315901]\n [-0.8771527   0.84129074  1.0061539  -0.48461168  1.7845082 ]\n [-0.8771527   0.35758566 -0.99388373 -0.48461168 -0.95480836]\n [-0.8771527  -1.57723466 -0.99388373 -0.48461168 -0.95480836]\n [ 1.3533604  -1.57723466 -0.99388373 -0.48461168 -0.34607135]\n [-0.43105008  0.11573312  1.0061539  -0.48461168 -1.05626453]\n [ 0.68420647 -0.85167704 -0.99388373 -0.48461168 -1.66500154]\n [-1.54630662  0.35758566 -0.99388373 -0.48461168 -0.14315901]\n [-0.43105008 -1.57723466  1.0061539   2.06350782 -1.1577207 ]\n [-0.65410139 -0.85167704 -0.99388373 -0.48461168 -0.85335219]\n [-1.54630662  0.11573312 -0.99388373 -0.48461168 -0.14315901]\n [-1.32325531  0.84129074 -0.99388373 -0.48461168  0.66849034]\n [ 0.23810385 -0.85167704 -0.99388373 -0.48461168  1.7845082 ]\n [ 0.90725778 -0.85167704  1.0061539  -0.48461168 -0.04170284]\n [ 1.3533604  -0.36797196 -0.99388373 -0.48461168 -0.24461518]\n [ 1.57641171  0.11573312 -0.99388373 -0.48461168 -1.25917687]\n [-0.8771527  -0.36797196 -0.99388373 -0.48461168  0.36412183]\n [ 1.3533604  -1.57723466  1.0061539  -0.48461168  0.1612095 ]\n [ 0.68420647 -1.33538212 -0.99388373 -0.48461168  0.97285885]\n [-1.54630662  1.8087009   1.0061539  -0.48461168 -0.04170284]\n [ 1.57641171 -0.36797196  1.0061539   2.06350782  0.66849034]\n [-1.54630662  0.84129074 -0.99388373 -0.48461168  1.58159586]\n [ 0.23810385  0.84129074  1.0061539  -0.48461168  1.7845082 ]\n [ 0.01505254  0.35758566  1.0061539  -0.48461168 -1.76645771]\n [ 0.68420647 -1.57723466 -0.99388373 -0.48461168  0.97285885]\n [-0.43105008 -1.57723466 -0.99388373 -0.48461168  0.465578  ]\n [ 0.23810385 -1.57723466 -0.99388373 -0.48461168  1.27722735]\n [ 0.23810385 -0.36797196  1.0061539  -0.48461168 -1.66500154]\n [ 0.23810385  1.8087009   1.0061539  -0.48461168  1.7845082 ]\n [ 0.01505254 -0.36797196  1.0061539  -0.48461168 -1.05626453]\n [-1.54630662  1.56684836 -0.99388373 -0.48461168 -0.14315901]\n [ 0.46115516 -1.57723466  1.0061539   2.06350782 -1.36063304]\n [ 1.57641171 -1.57723466  1.0061539  -0.48461168  0.66849034]\n [-0.8771527   0.11573312  1.0061539   2.06350782 -0.95480836]\n [-0.43105008 -0.85167704 -0.99388373 -0.48461168 -0.75189602]\n [-1.54630662  0.11573312  1.0061539   2.06350782 -0.14315901]\n [ 0.23810385  0.84129074  1.0061539   2.06350782  1.27722735]\n [ 0.46115516 -0.85167704  1.0061539   2.06350782  1.48013969]\n [ 1.57641171  0.11573312 -0.99388373 -0.48461168 -0.95480836]\n [ 1.3533604   0.84129074  1.0061539  -0.48461168 -0.34607135]\n [-0.43105008  0.84129074  1.0061539  -0.48461168 -0.65043986]\n [ 1.3533604  -0.36797196  1.0061539   2.06350782 -0.44752752]\n [ 0.23810385  1.56684836  1.0061539  -0.48461168  1.7845082 ]\n [-1.54630662  0.84129074 -0.99388373 -0.48461168 -0.04170284]\n [ 0.68420647 -1.57723466 -0.99388373 -0.48461168  1.17577118]\n [-0.65410139  1.56684836 -0.99388373 -0.48461168 -0.34607135]\n [ 1.3533604  -0.85167704  1.0061539  -0.48461168 -0.24461518]\n [-1.54630662 -0.36797196 -0.99388373 -0.48461168 -0.14315901]\n [ 1.3533604   0.11573312  1.0061539  -0.48461168 -0.34607135]\n [-0.8771527   0.11573312 -0.99388373 -0.48461168 -0.95480836]\n [ 1.3533604  -0.85167704 -0.99388373 -0.48461168 -0.34607135]\n [ 0.01505254  0.35758566  1.0061539   2.06350782 -1.05626453]\n [ 0.68420647 -0.36797196 -0.99388373 -0.48461168  1.17577118]\n [ 1.3533604   0.11573312  1.0061539  -0.48461168 -0.34607135]\n [-0.8771527  -0.36797196  1.0061539   2.06350782 -0.95480836]\n [ 0.23810385  0.84129074 -0.99388373 -0.48461168  1.7845082 ]\n [ 0.01505254  1.8087009  -0.99388373 -0.48461168 -1.05626453]\n [ 1.3533604  -0.6098245  -0.99388373 -0.48461168 -0.34607135]\n [-0.43105008  0.11573312 -0.99388373 -0.48461168  0.465578  ]\n [ 0.23810385  0.11573312  1.0061539  -0.48461168 -0.34607135]\n [-1.32325531  0.35758566  1.0061539  -0.48461168  0.66849034]\n [ 0.23810385 -1.33538212  1.0061539  -0.48461168  1.7845082 ]\n [-0.8771527  -0.36797196 -0.99388373 -0.48461168 -0.95480836]\n [-0.8771527   0.84129074 -0.99388373 -0.48461168 -0.95480836]\n [ 1.57641171 -0.36797196  1.0061539   2.06350782 -1.1577207 ]\n [ 0.23810385  1.8087009   1.0061539   2.06350782  1.7845082 ]\n [ 0.23810385  1.08314328  1.0061539  -0.48461168  1.7845082 ]\n [-0.20799877 -0.36797196 -0.99388373 -0.48461168 -0.65043986]\n [ 1.57641171  0.84129074 -0.99388373 -0.48461168  0.66849034]\n [-0.43105008  1.56684836  1.0061539   2.06350782 -0.75189602]\n [-1.54630662 -0.36797196  1.0061539   2.06350782 -0.14315901]\n [ 1.57641171  0.11573312  1.0061539   2.06350782  0.66849034]\n [ 1.3533604  -0.36797196 -0.99388373 -0.48461168 -0.34607135]\n [-0.43105008 -1.57723466 -0.99388373 -0.48461168  1.27722735]\n [-1.32325531 -1.57723466 -0.99388373 -0.48461168  1.68305203]\n [ 0.68420647  0.35758566  1.0061539  -0.48461168  0.97285885]\n [ 0.23810385  0.84129074 -0.99388373 -0.48461168  1.7845082 ]\n [ 1.3533604  -1.57723466  1.0061539  -0.48461168 -0.34607135]\n [-0.43105008  0.35758566  1.0061539   2.06350782 -0.44752752]\n [-0.43105008  0.84129074  1.0061539  -0.48461168 -0.44752752]\n [-1.100204    0.84129074  1.0061539   2.06350782 -1.1577207 ]\n [-1.32325531  0.11573312  1.0061539  -0.48461168  0.1612095 ]\n [ 0.01505254  1.56684836  1.0061539  -0.48461168 -0.54898369]\n [-0.43105008 -1.57723466 -0.99388373 -0.48461168  0.56703417]\n [ 1.13030909  1.8087009  -0.99388373 -0.48461168 -1.25917687]\n [ 0.68420647 -0.36797196 -0.99388373 -0.48461168  0.97285885]\n [-0.43105008  1.56684836  1.0061539   2.06350782  0.56703417]\n [-0.43105008  0.35758566  1.0061539  -0.48461168  0.465578  ]\n [ 0.01505254  0.35758566 -0.99388373 -0.48461168 -1.05626453]\n [ 1.57641171  0.84129074  1.0061539  -0.48461168  0.66849034]\n [ 0.23810385 -0.85167704 -0.99388373 -0.48461168  1.7845082 ]\n [ 0.01505254 -1.57723466 -0.99388373 -0.48461168 -1.05626453]\n [-0.8771527  -1.33538212 -0.99388373 -0.48461168 -0.95480836]\n [-1.54630662 -0.85167704  1.0061539   2.06350782  1.27722735]\n [ 0.68420647 -0.36797196  1.0061539  -0.48461168  0.97285885]\n [ 0.01505254  0.84129074 -0.99388373 -0.48461168  1.27722735]\n [-0.8771527  -0.36797196  1.0061539   2.06350782 -0.95480836]\n [ 1.3533604   0.11573312 -0.99388373 -0.48461168 -0.24461518]\n [ 0.01505254 -0.85167704  1.0061539   2.06350782 -1.1577207 ]\n [ 1.3533604   0.35758566 -0.99388373 -0.48461168 -0.24461518]\n [ 0.01505254 -1.57723466  1.0061539  -0.48461168 -1.05626453]\n [ 1.3533604   0.35758566  1.0061539  -0.48461168 -1.1577207 ]\n [ 0.01505254 -0.85167704  1.0061539  -0.48461168 -1.05626453]\n [-0.43105008 -0.85167704  1.0061539  -0.48461168  0.56703417]\n [-1.54630662  0.35758566 -0.99388373 -0.48461168 -0.34607135]\n [-1.100204    1.8087009   1.0061539  -0.48461168 -1.25917687]\n [ 0.68420647  0.35758566 -0.99388373 -0.48461168  0.76994651]\n [ 0.01505254 -0.36797196  1.0061539  -0.48461168 -0.34607135]\n [-0.43105008  0.35758566 -0.99388373 -0.48461168  0.56703417]\n [ 0.23810385  1.08314328  1.0061539   2.06350782  0.66849034]\n [-0.43105008 -0.6098245  -0.99388373 -0.48461168  0.465578  ]\n [ 0.23810385 -0.85167704 -0.99388373 -0.48461168  1.7845082 ]\n [ 0.68420647  1.8087009   1.0061539  -0.48461168  0.97285885]\n [ 0.68420647 -0.85167704 -0.99388373 -0.48461168  0.97285885]\n [-0.43105008  0.11573312 -0.99388373 -0.48461168 -0.04170284]\n [ 0.23810385  0.11573312  1.0061539  -0.48461168  1.7845082 ]\n [-0.43105008  0.35758566 -0.99388373 -0.48461168 -0.75189602]\n [ 0.23810385  0.5994382   1.0061539  -0.48461168  1.7845082 ]\n [ 0.68420647  0.11573312  1.0061539   2.06350782  0.97285885]\n [ 0.90725778  0.35758566  1.0061539  -0.48461168 -0.04170284]\n [ 0.01505254  0.35758566  1.0061539  -0.48461168 -1.05626453]\n [ 0.23810385  0.84129074 -0.99388373 -0.48461168 -1.05626453]\n [-1.32325531  0.84129074 -0.99388373 -0.48461168  1.68305203]\n [ 0.46115516  1.56684836  1.0061539  -0.48461168  1.48013969]\n [ 1.3533604   1.08314328  1.0061539  -0.48461168 -0.34607135]\n [-1.54630662  0.84129074 -0.99388373 -0.48461168 -0.14315901]\n [ 0.46115516 -1.33538212 -0.99388373 -0.48461168 -1.36063304]\n [-1.100204    1.56684836 -0.99388373 -0.48461168 -1.1577207 ]\n [ 1.57641171  1.56684836 -0.99388373 -0.48461168  0.66849034]\n [ 0.01505254 -1.57723466 -0.99388373 -0.48461168 -1.05626453]\n [ 1.3533604   0.35758566 -0.99388373 -0.48461168 -0.34607135]\n [-1.54630662 -0.85167704 -0.99388373 -0.48461168 -0.14315901]\n [ 1.3533604   0.84129074 -0.99388373 -0.48461168 -0.34607135]\n [-0.43105008 -1.57723466 -0.99388373 -0.48461168 -1.76645771]\n [-1.32325531  0.35758566  1.0061539   2.06350782 -0.44752752]\n [-1.32325531 -0.85167704  1.0061539   2.06350782  0.66849034]\n [ 0.23810385  0.84129074 -0.99388373 -0.48461168  1.7845082 ]\n [ 1.3533604   0.84129074  1.0061539  -0.48461168 -0.24461518]\n [-1.54630662 -0.36797196  1.0061539   2.06350782 -0.14315901]\n [-0.8771527   1.56684836 -0.99388373 -0.48461168 -0.95480836]\n [-0.8771527   0.5994382  -0.99388373 -0.48461168  1.07431502]\n [-1.54630662  0.11573312 -0.99388373 -0.48461168 -0.14315901]\n [-0.8771527   0.84129074 -0.99388373 -0.48461168 -0.95480836]\n [ 1.3533604  -1.57723466  1.0061539   2.06350782 -1.1577207 ]\n [ 0.01505254  0.84129074 -0.99388373 -0.48461168 -1.05626453]\n [-0.43105008 -1.57723466  1.0061539  -0.48461168  0.465578  ]\n [ 1.3533604  -1.57723466 -0.99388373 -0.48461168 -0.24461518]\n [-1.100204    0.84129074 -0.99388373 -0.48461168  1.17577118]\n [-1.54630662 -1.09352958  1.0061539  -0.48461168 -1.25917687]\n [-0.8771527   0.35758566 -0.99388373 -0.48461168  1.17577118]\n [ 1.3533604  -1.57723466  1.0061539  -0.48461168 -0.34607135]\n [ 1.57641171 -1.57723466  1.0061539   2.06350782  1.17577118]\n [ 0.01505254  0.84129074 -0.99388373 -0.48461168 -1.05626453]\n [ 1.57641171  0.11573312  1.0061539   2.06350782  0.66849034]\n [-1.54630662  0.5994382  -0.99388373 -0.48461168 -0.14315901]\n [ 1.57641171  0.35758566  1.0061539   2.06350782  0.66849034]\n [ 1.3533604   0.11573312 -0.99388373 -0.48461168 -0.34607135]\n [-1.54630662 -1.33538212 -0.99388373 -0.48461168 -0.44752752]\n [-0.8771527   0.35758566  1.0061539  -0.48461168 -0.95480836]\n [ 0.23810385  1.8087009   1.0061539  -0.48461168 -1.1577207 ]\n [-0.43105008 -1.33538212  1.0061539  -0.48461168 -0.75189602]\n [ 0.23810385  0.84129074  1.0061539   2.06350782 -1.66500154]]\n"
    }
   ],
   "source": [
    "from sklearn.preprocessing import StandardScaler\n",
    "sc = StandardScaler()\n",
    "\n",
    "\n",
    "# from sklearn.preprocessing import OneHotEncoder\n",
    "# ct = ColumnTransformer(transformers=[('encoder')], remainder='passthrough')\n",
    "\n",
    "# X = np.array(ct.fit_transform(X))\n",
    "# target = np.array(ct.fit_transform(target))\n",
    "# X_train = sc.fit_transform(X_train)\n",
    "# X_test = sc.fit_transform(X_test)\n",
    "\n",
    "print(X_train)\n",
    "print(X_test)"
   ]
  },
  {
   "cell_type": "code",
   "execution_count": 52,
   "metadata": {},
   "outputs": [],
   "source": [
    "#adding layers in Ann\n",
    "ann.add(tf.keras.layers.Dense(units=6, activation='relu'))\n",
    "ann.add(tf.keras.layers.Dense(units=6, activation='relu'))\n",
    "ann.add(tf.keras.layers.Dense(units=6, activation='sigmoid'))"
   ]
  },
  {
   "cell_type": "code",
   "execution_count": 53,
   "metadata": {},
   "outputs": [],
   "source": [
    "#compiling my ann\n",
    "ann.compile(optimizer='adam')"
   ]
  },
  {
   "cell_type": "code",
   "execution_count": 54,
   "metadata": {
    "tags": []
   },
   "outputs": [
    {
     "output_type": "stream",
     "name": "stdout",
     "text": "Epoch 1/100\n"
    },
    {
     "output_type": "error",
     "ename": "ValueError",
     "evalue": "in user code:\n\n    /Users/suryanshsoni/Desktop/ML/MLwork/lib/python3.7/site-packages/tensorflow/python/keras/engine/training.py:806 train_function  *\n        return step_function(self, iterator)\n    /Users/suryanshsoni/Desktop/ML/MLwork/lib/python3.7/site-packages/tensorflow/python/keras/engine/training.py:796 step_function  **\n        outputs = model.distribute_strategy.run(run_step, args=(data,))\n    /Users/suryanshsoni/Desktop/ML/MLwork/lib/python3.7/site-packages/tensorflow/python/distribute/distribute_lib.py:1211 run\n        return self._extended.call_for_each_replica(fn, args=args, kwargs=kwargs)\n    /Users/suryanshsoni/Desktop/ML/MLwork/lib/python3.7/site-packages/tensorflow/python/distribute/distribute_lib.py:2585 call_for_each_replica\n        return self._call_for_each_replica(fn, args, kwargs)\n    /Users/suryanshsoni/Desktop/ML/MLwork/lib/python3.7/site-packages/tensorflow/python/distribute/distribute_lib.py:2945 _call_for_each_replica\n        return fn(*args, **kwargs)\n    /Users/suryanshsoni/Desktop/ML/MLwork/lib/python3.7/site-packages/tensorflow/python/keras/engine/training.py:789 run_step  **\n        outputs = model.train_step(data)\n    /Users/suryanshsoni/Desktop/ML/MLwork/lib/python3.7/site-packages/tensorflow/python/keras/engine/training.py:757 train_step\n        self.trainable_variables)\n    /Users/suryanshsoni/Desktop/ML/MLwork/lib/python3.7/site-packages/tensorflow/python/keras/engine/training.py:2737 _minimize\n        trainable_variables))\n    /Users/suryanshsoni/Desktop/ML/MLwork/lib/python3.7/site-packages/tensorflow/python/keras/optimizer_v2/optimizer_v2.py:562 _aggregate_gradients\n        filtered_grads_and_vars = _filter_grads(grads_and_vars)\n    /Users/suryanshsoni/Desktop/ML/MLwork/lib/python3.7/site-packages/tensorflow/python/keras/optimizer_v2/optimizer_v2.py:1271 _filter_grads\n        ([v.name for _, v in grads_and_vars],))\n\n    ValueError: No gradients provided for any variable: ['dense_3/kernel:0', 'dense_3/bias:0', 'dense_4/kernel:0', 'dense_4/bias:0', 'dense_5/kernel:0', 'dense_5/bias:0'].\n",
     "traceback": [
      "\u001b[0;31m---------------------------------------------------------------------------\u001b[0m",
      "\u001b[0;31mValueError\u001b[0m                                Traceback (most recent call last)",
      "\u001b[0;32m<ipython-input-54-efe919dccbfb>\u001b[0m in \u001b[0;36m<module>\u001b[0;34m\u001b[0m\n\u001b[0;32m----> 1\u001b[0;31m \u001b[0mann\u001b[0m\u001b[0;34m.\u001b[0m\u001b[0mfit\u001b[0m\u001b[0;34m(\u001b[0m\u001b[0mX_train\u001b[0m\u001b[0;34m,\u001b[0m\u001b[0my_train\u001b[0m\u001b[0;34m,\u001b[0m\u001b[0mbatch_size\u001b[0m\u001b[0;34m=\u001b[0m\u001b[0;36m32\u001b[0m\u001b[0;34m,\u001b[0m\u001b[0mepochs\u001b[0m \u001b[0;34m=\u001b[0m \u001b[0;36m100\u001b[0m\u001b[0;34m)\u001b[0m\u001b[0;34m\u001b[0m\u001b[0;34m\u001b[0m\u001b[0m\n\u001b[0m",
      "\u001b[0;32m~/Desktop/ML/MLwork/lib/python3.7/site-packages/tensorflow/python/keras/engine/training.py\u001b[0m in \u001b[0;36m_method_wrapper\u001b[0;34m(self, *args, **kwargs)\u001b[0m\n\u001b[1;32m    106\u001b[0m   \u001b[0;32mdef\u001b[0m \u001b[0m_method_wrapper\u001b[0m\u001b[0;34m(\u001b[0m\u001b[0mself\u001b[0m\u001b[0;34m,\u001b[0m \u001b[0;34m*\u001b[0m\u001b[0margs\u001b[0m\u001b[0;34m,\u001b[0m \u001b[0;34m**\u001b[0m\u001b[0mkwargs\u001b[0m\u001b[0;34m)\u001b[0m\u001b[0;34m:\u001b[0m\u001b[0;34m\u001b[0m\u001b[0;34m\u001b[0m\u001b[0m\n\u001b[1;32m    107\u001b[0m     \u001b[0;32mif\u001b[0m \u001b[0;32mnot\u001b[0m \u001b[0mself\u001b[0m\u001b[0;34m.\u001b[0m\u001b[0m_in_multi_worker_mode\u001b[0m\u001b[0;34m(\u001b[0m\u001b[0;34m)\u001b[0m\u001b[0;34m:\u001b[0m  \u001b[0;31m# pylint: disable=protected-access\u001b[0m\u001b[0;34m\u001b[0m\u001b[0;34m\u001b[0m\u001b[0m\n\u001b[0;32m--> 108\u001b[0;31m       \u001b[0;32mreturn\u001b[0m \u001b[0mmethod\u001b[0m\u001b[0;34m(\u001b[0m\u001b[0mself\u001b[0m\u001b[0;34m,\u001b[0m \u001b[0;34m*\u001b[0m\u001b[0margs\u001b[0m\u001b[0;34m,\u001b[0m \u001b[0;34m**\u001b[0m\u001b[0mkwargs\u001b[0m\u001b[0;34m)\u001b[0m\u001b[0;34m\u001b[0m\u001b[0;34m\u001b[0m\u001b[0m\n\u001b[0m\u001b[1;32m    109\u001b[0m \u001b[0;34m\u001b[0m\u001b[0m\n\u001b[1;32m    110\u001b[0m     \u001b[0;31m# Running inside `run_distribute_coordinator` already.\u001b[0m\u001b[0;34m\u001b[0m\u001b[0;34m\u001b[0m\u001b[0;34m\u001b[0m\u001b[0m\n",
      "\u001b[0;32m~/Desktop/ML/MLwork/lib/python3.7/site-packages/tensorflow/python/keras/engine/training.py\u001b[0m in \u001b[0;36mfit\u001b[0;34m(self, x, y, batch_size, epochs, verbose, callbacks, validation_split, validation_data, shuffle, class_weight, sample_weight, initial_epoch, steps_per_epoch, validation_steps, validation_batch_size, validation_freq, max_queue_size, workers, use_multiprocessing)\u001b[0m\n\u001b[1;32m   1096\u001b[0m                 batch_size=batch_size):\n\u001b[1;32m   1097\u001b[0m               \u001b[0mcallbacks\u001b[0m\u001b[0;34m.\u001b[0m\u001b[0mon_train_batch_begin\u001b[0m\u001b[0;34m(\u001b[0m\u001b[0mstep\u001b[0m\u001b[0;34m)\u001b[0m\u001b[0;34m\u001b[0m\u001b[0;34m\u001b[0m\u001b[0m\n\u001b[0;32m-> 1098\u001b[0;31m               \u001b[0mtmp_logs\u001b[0m \u001b[0;34m=\u001b[0m \u001b[0mtrain_function\u001b[0m\u001b[0;34m(\u001b[0m\u001b[0miterator\u001b[0m\u001b[0;34m)\u001b[0m\u001b[0;34m\u001b[0m\u001b[0;34m\u001b[0m\u001b[0m\n\u001b[0m\u001b[1;32m   1099\u001b[0m               \u001b[0;32mif\u001b[0m \u001b[0mdata_handler\u001b[0m\u001b[0;34m.\u001b[0m\u001b[0mshould_sync\u001b[0m\u001b[0;34m:\u001b[0m\u001b[0;34m\u001b[0m\u001b[0;34m\u001b[0m\u001b[0m\n\u001b[1;32m   1100\u001b[0m                 \u001b[0mcontext\u001b[0m\u001b[0;34m.\u001b[0m\u001b[0masync_wait\u001b[0m\u001b[0;34m(\u001b[0m\u001b[0;34m)\u001b[0m\u001b[0;34m\u001b[0m\u001b[0;34m\u001b[0m\u001b[0m\n",
      "\u001b[0;32m~/Desktop/ML/MLwork/lib/python3.7/site-packages/tensorflow/python/eager/def_function.py\u001b[0m in \u001b[0;36m__call__\u001b[0;34m(self, *args, **kwds)\u001b[0m\n\u001b[1;32m    778\u001b[0m       \u001b[0;32melse\u001b[0m\u001b[0;34m:\u001b[0m\u001b[0;34m\u001b[0m\u001b[0;34m\u001b[0m\u001b[0m\n\u001b[1;32m    779\u001b[0m         \u001b[0mcompiler\u001b[0m \u001b[0;34m=\u001b[0m \u001b[0;34m\"nonXla\"\u001b[0m\u001b[0;34m\u001b[0m\u001b[0;34m\u001b[0m\u001b[0m\n\u001b[0;32m--> 780\u001b[0;31m         \u001b[0mresult\u001b[0m \u001b[0;34m=\u001b[0m \u001b[0mself\u001b[0m\u001b[0;34m.\u001b[0m\u001b[0m_call\u001b[0m\u001b[0;34m(\u001b[0m\u001b[0;34m*\u001b[0m\u001b[0margs\u001b[0m\u001b[0;34m,\u001b[0m \u001b[0;34m**\u001b[0m\u001b[0mkwds\u001b[0m\u001b[0;34m)\u001b[0m\u001b[0;34m\u001b[0m\u001b[0;34m\u001b[0m\u001b[0m\n\u001b[0m\u001b[1;32m    781\u001b[0m \u001b[0;34m\u001b[0m\u001b[0m\n\u001b[1;32m    782\u001b[0m       \u001b[0mnew_tracing_count\u001b[0m \u001b[0;34m=\u001b[0m \u001b[0mself\u001b[0m\u001b[0;34m.\u001b[0m\u001b[0m_get_tracing_count\u001b[0m\u001b[0;34m(\u001b[0m\u001b[0;34m)\u001b[0m\u001b[0;34m\u001b[0m\u001b[0;34m\u001b[0m\u001b[0m\n",
      "\u001b[0;32m~/Desktop/ML/MLwork/lib/python3.7/site-packages/tensorflow/python/eager/def_function.py\u001b[0m in \u001b[0;36m_call\u001b[0;34m(self, *args, **kwds)\u001b[0m\n\u001b[1;32m    821\u001b[0m       \u001b[0;31m# This is the first call of __call__, so we have to initialize.\u001b[0m\u001b[0;34m\u001b[0m\u001b[0;34m\u001b[0m\u001b[0;34m\u001b[0m\u001b[0m\n\u001b[1;32m    822\u001b[0m       \u001b[0minitializers\u001b[0m \u001b[0;34m=\u001b[0m \u001b[0;34m[\u001b[0m\u001b[0;34m]\u001b[0m\u001b[0;34m\u001b[0m\u001b[0;34m\u001b[0m\u001b[0m\n\u001b[0;32m--> 823\u001b[0;31m       \u001b[0mself\u001b[0m\u001b[0;34m.\u001b[0m\u001b[0m_initialize\u001b[0m\u001b[0;34m(\u001b[0m\u001b[0margs\u001b[0m\u001b[0;34m,\u001b[0m \u001b[0mkwds\u001b[0m\u001b[0;34m,\u001b[0m \u001b[0madd_initializers_to\u001b[0m\u001b[0;34m=\u001b[0m\u001b[0minitializers\u001b[0m\u001b[0;34m)\u001b[0m\u001b[0;34m\u001b[0m\u001b[0;34m\u001b[0m\u001b[0m\n\u001b[0m\u001b[1;32m    824\u001b[0m     \u001b[0;32mfinally\u001b[0m\u001b[0;34m:\u001b[0m\u001b[0;34m\u001b[0m\u001b[0;34m\u001b[0m\u001b[0m\n\u001b[1;32m    825\u001b[0m       \u001b[0;31m# At this point we know that the initialization is complete (or less\u001b[0m\u001b[0;34m\u001b[0m\u001b[0;34m\u001b[0m\u001b[0;34m\u001b[0m\u001b[0m\n",
      "\u001b[0;32m~/Desktop/ML/MLwork/lib/python3.7/site-packages/tensorflow/python/eager/def_function.py\u001b[0m in \u001b[0;36m_initialize\u001b[0;34m(self, args, kwds, add_initializers_to)\u001b[0m\n\u001b[1;32m    695\u001b[0m     self._concrete_stateful_fn = (\n\u001b[1;32m    696\u001b[0m         self._stateful_fn._get_concrete_function_internal_garbage_collected(  # pylint: disable=protected-access\n\u001b[0;32m--> 697\u001b[0;31m             *args, **kwds))\n\u001b[0m\u001b[1;32m    698\u001b[0m \u001b[0;34m\u001b[0m\u001b[0m\n\u001b[1;32m    699\u001b[0m     \u001b[0;32mdef\u001b[0m \u001b[0minvalid_creator_scope\u001b[0m\u001b[0;34m(\u001b[0m\u001b[0;34m*\u001b[0m\u001b[0munused_args\u001b[0m\u001b[0;34m,\u001b[0m \u001b[0;34m**\u001b[0m\u001b[0munused_kwds\u001b[0m\u001b[0;34m)\u001b[0m\u001b[0;34m:\u001b[0m\u001b[0;34m\u001b[0m\u001b[0;34m\u001b[0m\u001b[0m\n",
      "\u001b[0;32m~/Desktop/ML/MLwork/lib/python3.7/site-packages/tensorflow/python/eager/function.py\u001b[0m in \u001b[0;36m_get_concrete_function_internal_garbage_collected\u001b[0;34m(self, *args, **kwargs)\u001b[0m\n\u001b[1;32m   2853\u001b[0m       \u001b[0margs\u001b[0m\u001b[0;34m,\u001b[0m \u001b[0mkwargs\u001b[0m \u001b[0;34m=\u001b[0m \u001b[0;32mNone\u001b[0m\u001b[0;34m,\u001b[0m \u001b[0;32mNone\u001b[0m\u001b[0;34m\u001b[0m\u001b[0;34m\u001b[0m\u001b[0m\n\u001b[1;32m   2854\u001b[0m     \u001b[0;32mwith\u001b[0m \u001b[0mself\u001b[0m\u001b[0;34m.\u001b[0m\u001b[0m_lock\u001b[0m\u001b[0;34m:\u001b[0m\u001b[0;34m\u001b[0m\u001b[0;34m\u001b[0m\u001b[0m\n\u001b[0;32m-> 2855\u001b[0;31m       \u001b[0mgraph_function\u001b[0m\u001b[0;34m,\u001b[0m \u001b[0m_\u001b[0m\u001b[0;34m,\u001b[0m \u001b[0m_\u001b[0m \u001b[0;34m=\u001b[0m \u001b[0mself\u001b[0m\u001b[0;34m.\u001b[0m\u001b[0m_maybe_define_function\u001b[0m\u001b[0;34m(\u001b[0m\u001b[0margs\u001b[0m\u001b[0;34m,\u001b[0m \u001b[0mkwargs\u001b[0m\u001b[0;34m)\u001b[0m\u001b[0;34m\u001b[0m\u001b[0;34m\u001b[0m\u001b[0m\n\u001b[0m\u001b[1;32m   2856\u001b[0m     \u001b[0;32mreturn\u001b[0m \u001b[0mgraph_function\u001b[0m\u001b[0;34m\u001b[0m\u001b[0;34m\u001b[0m\u001b[0m\n\u001b[1;32m   2857\u001b[0m \u001b[0;34m\u001b[0m\u001b[0m\n",
      "\u001b[0;32m~/Desktop/ML/MLwork/lib/python3.7/site-packages/tensorflow/python/eager/function.py\u001b[0m in \u001b[0;36m_maybe_define_function\u001b[0;34m(self, args, kwargs)\u001b[0m\n\u001b[1;32m   3211\u001b[0m \u001b[0;34m\u001b[0m\u001b[0m\n\u001b[1;32m   3212\u001b[0m       \u001b[0mself\u001b[0m\u001b[0;34m.\u001b[0m\u001b[0m_function_cache\u001b[0m\u001b[0;34m.\u001b[0m\u001b[0mmissed\u001b[0m\u001b[0;34m.\u001b[0m\u001b[0madd\u001b[0m\u001b[0;34m(\u001b[0m\u001b[0mcall_context_key\u001b[0m\u001b[0;34m)\u001b[0m\u001b[0;34m\u001b[0m\u001b[0;34m\u001b[0m\u001b[0m\n\u001b[0;32m-> 3213\u001b[0;31m       \u001b[0mgraph_function\u001b[0m \u001b[0;34m=\u001b[0m \u001b[0mself\u001b[0m\u001b[0;34m.\u001b[0m\u001b[0m_create_graph_function\u001b[0m\u001b[0;34m(\u001b[0m\u001b[0margs\u001b[0m\u001b[0;34m,\u001b[0m \u001b[0mkwargs\u001b[0m\u001b[0;34m)\u001b[0m\u001b[0;34m\u001b[0m\u001b[0;34m\u001b[0m\u001b[0m\n\u001b[0m\u001b[1;32m   3214\u001b[0m       \u001b[0mself\u001b[0m\u001b[0;34m.\u001b[0m\u001b[0m_function_cache\u001b[0m\u001b[0;34m.\u001b[0m\u001b[0mprimary\u001b[0m\u001b[0;34m[\u001b[0m\u001b[0mcache_key\u001b[0m\u001b[0;34m]\u001b[0m \u001b[0;34m=\u001b[0m \u001b[0mgraph_function\u001b[0m\u001b[0;34m\u001b[0m\u001b[0;34m\u001b[0m\u001b[0m\n\u001b[1;32m   3215\u001b[0m       \u001b[0;32mreturn\u001b[0m \u001b[0mgraph_function\u001b[0m\u001b[0;34m,\u001b[0m \u001b[0margs\u001b[0m\u001b[0;34m,\u001b[0m \u001b[0mkwargs\u001b[0m\u001b[0;34m\u001b[0m\u001b[0;34m\u001b[0m\u001b[0m\n",
      "\u001b[0;32m~/Desktop/ML/MLwork/lib/python3.7/site-packages/tensorflow/python/eager/function.py\u001b[0m in \u001b[0;36m_create_graph_function\u001b[0;34m(self, args, kwargs, override_flat_arg_shapes)\u001b[0m\n\u001b[1;32m   3073\u001b[0m             \u001b[0marg_names\u001b[0m\u001b[0;34m=\u001b[0m\u001b[0marg_names\u001b[0m\u001b[0;34m,\u001b[0m\u001b[0;34m\u001b[0m\u001b[0;34m\u001b[0m\u001b[0m\n\u001b[1;32m   3074\u001b[0m             \u001b[0moverride_flat_arg_shapes\u001b[0m\u001b[0;34m=\u001b[0m\u001b[0moverride_flat_arg_shapes\u001b[0m\u001b[0;34m,\u001b[0m\u001b[0;34m\u001b[0m\u001b[0;34m\u001b[0m\u001b[0m\n\u001b[0;32m-> 3075\u001b[0;31m             capture_by_value=self._capture_by_value),\n\u001b[0m\u001b[1;32m   3076\u001b[0m         \u001b[0mself\u001b[0m\u001b[0;34m.\u001b[0m\u001b[0m_function_attributes\u001b[0m\u001b[0;34m,\u001b[0m\u001b[0;34m\u001b[0m\u001b[0;34m\u001b[0m\u001b[0m\n\u001b[1;32m   3077\u001b[0m         \u001b[0mfunction_spec\u001b[0m\u001b[0;34m=\u001b[0m\u001b[0mself\u001b[0m\u001b[0;34m.\u001b[0m\u001b[0mfunction_spec\u001b[0m\u001b[0;34m,\u001b[0m\u001b[0;34m\u001b[0m\u001b[0;34m\u001b[0m\u001b[0m\n",
      "\u001b[0;32m~/Desktop/ML/MLwork/lib/python3.7/site-packages/tensorflow/python/framework/func_graph.py\u001b[0m in \u001b[0;36mfunc_graph_from_py_func\u001b[0;34m(name, python_func, args, kwargs, signature, func_graph, autograph, autograph_options, add_control_dependencies, arg_names, op_return_value, collections, capture_by_value, override_flat_arg_shapes)\u001b[0m\n\u001b[1;32m    984\u001b[0m         \u001b[0m_\u001b[0m\u001b[0;34m,\u001b[0m \u001b[0moriginal_func\u001b[0m \u001b[0;34m=\u001b[0m \u001b[0mtf_decorator\u001b[0m\u001b[0;34m.\u001b[0m\u001b[0munwrap\u001b[0m\u001b[0;34m(\u001b[0m\u001b[0mpython_func\u001b[0m\u001b[0;34m)\u001b[0m\u001b[0;34m\u001b[0m\u001b[0;34m\u001b[0m\u001b[0m\n\u001b[1;32m    985\u001b[0m \u001b[0;34m\u001b[0m\u001b[0m\n\u001b[0;32m--> 986\u001b[0;31m       \u001b[0mfunc_outputs\u001b[0m \u001b[0;34m=\u001b[0m \u001b[0mpython_func\u001b[0m\u001b[0;34m(\u001b[0m\u001b[0;34m*\u001b[0m\u001b[0mfunc_args\u001b[0m\u001b[0;34m,\u001b[0m \u001b[0;34m**\u001b[0m\u001b[0mfunc_kwargs\u001b[0m\u001b[0;34m)\u001b[0m\u001b[0;34m\u001b[0m\u001b[0;34m\u001b[0m\u001b[0m\n\u001b[0m\u001b[1;32m    987\u001b[0m \u001b[0;34m\u001b[0m\u001b[0m\n\u001b[1;32m    988\u001b[0m       \u001b[0;31m# invariant: `func_outputs` contains only Tensors, CompositeTensors,\u001b[0m\u001b[0;34m\u001b[0m\u001b[0;34m\u001b[0m\u001b[0;34m\u001b[0m\u001b[0m\n",
      "\u001b[0;32m~/Desktop/ML/MLwork/lib/python3.7/site-packages/tensorflow/python/eager/def_function.py\u001b[0m in \u001b[0;36mwrapped_fn\u001b[0;34m(*args, **kwds)\u001b[0m\n\u001b[1;32m    598\u001b[0m         \u001b[0;31m# __wrapped__ allows AutoGraph to swap in a converted function. We give\u001b[0m\u001b[0;34m\u001b[0m\u001b[0;34m\u001b[0m\u001b[0;34m\u001b[0m\u001b[0m\n\u001b[1;32m    599\u001b[0m         \u001b[0;31m# the function a weak reference to itself to avoid a reference cycle.\u001b[0m\u001b[0;34m\u001b[0m\u001b[0;34m\u001b[0m\u001b[0;34m\u001b[0m\u001b[0m\n\u001b[0;32m--> 600\u001b[0;31m         \u001b[0;32mreturn\u001b[0m \u001b[0mweak_wrapped_fn\u001b[0m\u001b[0;34m(\u001b[0m\u001b[0;34m)\u001b[0m\u001b[0;34m.\u001b[0m\u001b[0m__wrapped__\u001b[0m\u001b[0;34m(\u001b[0m\u001b[0;34m*\u001b[0m\u001b[0margs\u001b[0m\u001b[0;34m,\u001b[0m \u001b[0;34m**\u001b[0m\u001b[0mkwds\u001b[0m\u001b[0;34m)\u001b[0m\u001b[0;34m\u001b[0m\u001b[0;34m\u001b[0m\u001b[0m\n\u001b[0m\u001b[1;32m    601\u001b[0m     \u001b[0mweak_wrapped_fn\u001b[0m \u001b[0;34m=\u001b[0m \u001b[0mweakref\u001b[0m\u001b[0;34m.\u001b[0m\u001b[0mref\u001b[0m\u001b[0;34m(\u001b[0m\u001b[0mwrapped_fn\u001b[0m\u001b[0;34m)\u001b[0m\u001b[0;34m\u001b[0m\u001b[0;34m\u001b[0m\u001b[0m\n\u001b[1;32m    602\u001b[0m \u001b[0;34m\u001b[0m\u001b[0m\n",
      "\u001b[0;32m~/Desktop/ML/MLwork/lib/python3.7/site-packages/tensorflow/python/framework/func_graph.py\u001b[0m in \u001b[0;36mwrapper\u001b[0;34m(*args, **kwargs)\u001b[0m\n\u001b[1;32m    971\u001b[0m           \u001b[0;32mexcept\u001b[0m \u001b[0mException\u001b[0m \u001b[0;32mas\u001b[0m \u001b[0me\u001b[0m\u001b[0;34m:\u001b[0m  \u001b[0;31m# pylint:disable=broad-except\u001b[0m\u001b[0;34m\u001b[0m\u001b[0;34m\u001b[0m\u001b[0m\n\u001b[1;32m    972\u001b[0m             \u001b[0;32mif\u001b[0m \u001b[0mhasattr\u001b[0m\u001b[0;34m(\u001b[0m\u001b[0me\u001b[0m\u001b[0;34m,\u001b[0m \u001b[0;34m\"ag_error_metadata\"\u001b[0m\u001b[0;34m)\u001b[0m\u001b[0;34m:\u001b[0m\u001b[0;34m\u001b[0m\u001b[0;34m\u001b[0m\u001b[0m\n\u001b[0;32m--> 973\u001b[0;31m               \u001b[0;32mraise\u001b[0m \u001b[0me\u001b[0m\u001b[0;34m.\u001b[0m\u001b[0mag_error_metadata\u001b[0m\u001b[0;34m.\u001b[0m\u001b[0mto_exception\u001b[0m\u001b[0;34m(\u001b[0m\u001b[0me\u001b[0m\u001b[0;34m)\u001b[0m\u001b[0;34m\u001b[0m\u001b[0;34m\u001b[0m\u001b[0m\n\u001b[0m\u001b[1;32m    974\u001b[0m             \u001b[0;32melse\u001b[0m\u001b[0;34m:\u001b[0m\u001b[0;34m\u001b[0m\u001b[0;34m\u001b[0m\u001b[0m\n\u001b[1;32m    975\u001b[0m               \u001b[0;32mraise\u001b[0m\u001b[0;34m\u001b[0m\u001b[0;34m\u001b[0m\u001b[0m\n",
      "\u001b[0;31mValueError\u001b[0m: in user code:\n\n    /Users/suryanshsoni/Desktop/ML/MLwork/lib/python3.7/site-packages/tensorflow/python/keras/engine/training.py:806 train_function  *\n        return step_function(self, iterator)\n    /Users/suryanshsoni/Desktop/ML/MLwork/lib/python3.7/site-packages/tensorflow/python/keras/engine/training.py:796 step_function  **\n        outputs = model.distribute_strategy.run(run_step, args=(data,))\n    /Users/suryanshsoni/Desktop/ML/MLwork/lib/python3.7/site-packages/tensorflow/python/distribute/distribute_lib.py:1211 run\n        return self._extended.call_for_each_replica(fn, args=args, kwargs=kwargs)\n    /Users/suryanshsoni/Desktop/ML/MLwork/lib/python3.7/site-packages/tensorflow/python/distribute/distribute_lib.py:2585 call_for_each_replica\n        return self._call_for_each_replica(fn, args, kwargs)\n    /Users/suryanshsoni/Desktop/ML/MLwork/lib/python3.7/site-packages/tensorflow/python/distribute/distribute_lib.py:2945 _call_for_each_replica\n        return fn(*args, **kwargs)\n    /Users/suryanshsoni/Desktop/ML/MLwork/lib/python3.7/site-packages/tensorflow/python/keras/engine/training.py:789 run_step  **\n        outputs = model.train_step(data)\n    /Users/suryanshsoni/Desktop/ML/MLwork/lib/python3.7/site-packages/tensorflow/python/keras/engine/training.py:757 train_step\n        self.trainable_variables)\n    /Users/suryanshsoni/Desktop/ML/MLwork/lib/python3.7/site-packages/tensorflow/python/keras/engine/training.py:2737 _minimize\n        trainable_variables))\n    /Users/suryanshsoni/Desktop/ML/MLwork/lib/python3.7/site-packages/tensorflow/python/keras/optimizer_v2/optimizer_v2.py:562 _aggregate_gradients\n        filtered_grads_and_vars = _filter_grads(grads_and_vars)\n    /Users/suryanshsoni/Desktop/ML/MLwork/lib/python3.7/site-packages/tensorflow/python/keras/optimizer_v2/optimizer_v2.py:1271 _filter_grads\n        ([v.name for _, v in grads_and_vars],))\n\n    ValueError: No gradients provided for any variable: ['dense_3/kernel:0', 'dense_3/bias:0', 'dense_4/kernel:0', 'dense_4/bias:0', 'dense_5/kernel:0', 'dense_5/bias:0'].\n"
     ]
    }
   ],
   "source": [
    "ann.fit(X_train,y_train,batch_size=32,epochs = 100)"
   ]
  },
  {
   "cell_type": "code",
   "execution_count": null,
   "metadata": {},
   "outputs": [],
   "source": []
  }
 ],
 "metadata": {
  "language_info": {
   "codemirror_mode": {
    "name": "ipython",
    "version": 3
   },
   "file_extension": ".py",
   "mimetype": "text/x-python",
   "name": "python",
   "nbconvert_exporter": "python",
   "pygments_lexer": "ipython3",
   "version": "3.7.3-final"
  },
  "orig_nbformat": 2,
  "kernelspec": {
   "name": "python37364bitmlworkvenv35f4563241ce4ad29a93e347d73a9d75",
   "display_name": "Python 3.7.3 64-bit ('MLwork': venv)"
  }
 },
 "nbformat": 4,
 "nbformat_minor": 2
}