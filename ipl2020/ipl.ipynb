{
 "cells": [
  {
   "cell_type": "code",
   "execution_count": 57,
   "metadata": {},
   "outputs": [],
   "source": [
    "import pandas as pd\n",
    "import numpy as np \n",
    "import matplotlib.pyplot as plt\n",
    "import keras\n",
    "from sklearn.compose import ColumnTransformer\n",
    "from sklearn.preprocessing import OneHotEncoder,LabelEncoder\n",
    "from sklearn.model_selection import train_test_split as tts\n",
    "from sklearn.linear_model import LogisticRegression"
   ]
  },
  {
   "cell_type": "code",
   "execution_count": 58,
   "metadata": {},
   "outputs": [],
   "source": [
    "dataset = pd.read_csv(\"data/iplmatches.csv\")"
   ]
  },
  {
   "cell_type": "code",
   "execution_count": 59,
   "metadata": {},
   "outputs": [
    {
     "output_type": "execute_result",
     "data": {
      "text/plain": "       id        city        date player_of_match  \\\n0  335982   Bangalore  2008-04-18     BB McCullum   \n1  335983  Chandigarh  2008-04-19      MEK Hussey   \n2  335984       Delhi  2008-04-19     MF Maharoof   \n3  335985      Mumbai  2008-04-20      MV Boucher   \n4  335986     Kolkata  2008-04-20       DJ Hussey   \n\n                                        venue  neutral_venue  \\\n0                       M Chinnaswamy Stadium              0   \n1  Punjab Cricket Association Stadium, Mohali              0   \n2                            Feroz Shah Kotla              0   \n3                            Wankhede Stadium              0   \n4                                Eden Gardens              0   \n\n                         team1                        team2  \\\n0  Royal Challengers Bangalore        Kolkata Knight Riders   \n1              Kings XI Punjab          Chennai Super Kings   \n2             Delhi Daredevils             Rajasthan Royals   \n3               Mumbai Indians  Royal Challengers Bangalore   \n4        Kolkata Knight Riders              Deccan Chargers   \n\n                   toss_winner toss_decision                       winner  \\\n0  Royal Challengers Bangalore         field        Kolkata Knight Riders   \n1          Chennai Super Kings           bat          Chennai Super Kings   \n2             Rajasthan Royals           bat             Delhi Daredevils   \n3               Mumbai Indians           bat  Royal Challengers Bangalore   \n4              Deccan Chargers           bat        Kolkata Knight Riders   \n\n    result  result_margin eliminator method    umpire1         umpire2  \n0     runs          140.0          N    NaN  Asad Rauf     RE Koertzen  \n1     runs           33.0          N    NaN  MR Benson      SL Shastri  \n2  wickets            9.0          N    NaN  Aleem Dar  GA Pratapkumar  \n3  wickets            5.0          N    NaN   SJ Davis       DJ Harper  \n4  wickets            5.0          N    NaN  BF Bowden     K Hariharan  ",
      "text/html": "<div>\n<style scoped>\n    .dataframe tbody tr th:only-of-type {\n        vertical-align: middle;\n    }\n\n    .dataframe tbody tr th {\n        vertical-align: top;\n    }\n\n    .dataframe thead th {\n        text-align: right;\n    }\n</style>\n<table border=\"1\" class=\"dataframe\">\n  <thead>\n    <tr style=\"text-align: right;\">\n      <th></th>\n      <th>id</th>\n      <th>city</th>\n      <th>date</th>\n      <th>player_of_match</th>\n      <th>venue</th>\n      <th>neutral_venue</th>\n      <th>team1</th>\n      <th>team2</th>\n      <th>toss_winner</th>\n      <th>toss_decision</th>\n      <th>winner</th>\n      <th>result</th>\n      <th>result_margin</th>\n      <th>eliminator</th>\n      <th>method</th>\n      <th>umpire1</th>\n      <th>umpire2</th>\n    </tr>\n  </thead>\n  <tbody>\n    <tr>\n      <th>0</th>\n      <td>335982</td>\n      <td>Bangalore</td>\n      <td>2008-04-18</td>\n      <td>BB McCullum</td>\n      <td>M Chinnaswamy Stadium</td>\n      <td>0</td>\n      <td>Royal Challengers Bangalore</td>\n      <td>Kolkata Knight Riders</td>\n      <td>Royal Challengers Bangalore</td>\n      <td>field</td>\n      <td>Kolkata Knight Riders</td>\n      <td>runs</td>\n      <td>140.0</td>\n      <td>N</td>\n      <td>NaN</td>\n      <td>Asad Rauf</td>\n      <td>RE Koertzen</td>\n    </tr>\n    <tr>\n      <th>1</th>\n      <td>335983</td>\n      <td>Chandigarh</td>\n      <td>2008-04-19</td>\n      <td>MEK Hussey</td>\n      <td>Punjab Cricket Association Stadium, Mohali</td>\n      <td>0</td>\n      <td>Kings XI Punjab</td>\n      <td>Chennai Super Kings</td>\n      <td>Chennai Super Kings</td>\n      <td>bat</td>\n      <td>Chennai Super Kings</td>\n      <td>runs</td>\n      <td>33.0</td>\n      <td>N</td>\n      <td>NaN</td>\n      <td>MR Benson</td>\n      <td>SL Shastri</td>\n    </tr>\n    <tr>\n      <th>2</th>\n      <td>335984</td>\n      <td>Delhi</td>\n      <td>2008-04-19</td>\n      <td>MF Maharoof</td>\n      <td>Feroz Shah Kotla</td>\n      <td>0</td>\n      <td>Delhi Daredevils</td>\n      <td>Rajasthan Royals</td>\n      <td>Rajasthan Royals</td>\n      <td>bat</td>\n      <td>Delhi Daredevils</td>\n      <td>wickets</td>\n      <td>9.0</td>\n      <td>N</td>\n      <td>NaN</td>\n      <td>Aleem Dar</td>\n      <td>GA Pratapkumar</td>\n    </tr>\n    <tr>\n      <th>3</th>\n      <td>335985</td>\n      <td>Mumbai</td>\n      <td>2008-04-20</td>\n      <td>MV Boucher</td>\n      <td>Wankhede Stadium</td>\n      <td>0</td>\n      <td>Mumbai Indians</td>\n      <td>Royal Challengers Bangalore</td>\n      <td>Mumbai Indians</td>\n      <td>bat</td>\n      <td>Royal Challengers Bangalore</td>\n      <td>wickets</td>\n      <td>5.0</td>\n      <td>N</td>\n      <td>NaN</td>\n      <td>SJ Davis</td>\n      <td>DJ Harper</td>\n    </tr>\n    <tr>\n      <th>4</th>\n      <td>335986</td>\n      <td>Kolkata</td>\n      <td>2008-04-20</td>\n      <td>DJ Hussey</td>\n      <td>Eden Gardens</td>\n      <td>0</td>\n      <td>Kolkata Knight Riders</td>\n      <td>Deccan Chargers</td>\n      <td>Deccan Chargers</td>\n      <td>bat</td>\n      <td>Kolkata Knight Riders</td>\n      <td>wickets</td>\n      <td>5.0</td>\n      <td>N</td>\n      <td>NaN</td>\n      <td>BF Bowden</td>\n      <td>K Hariharan</td>\n    </tr>\n  </tbody>\n</table>\n</div>"
     },
     "metadata": {},
     "execution_count": 59
    }
   ],
   "source": [
    "dataset.head()"
   ]
  },
  {
   "cell_type": "code",
   "execution_count": 60,
   "metadata": {
    "tags": []
   },
   "outputs": [
    {
     "output_type": "stream",
     "name": "stdout",
     "text": "<class 'pandas.core.frame.DataFrame'>\nRangeIndex: 816 entries, 0 to 815\nData columns (total 17 columns):\n #   Column           Non-Null Count  Dtype  \n---  ------           --------------  -----  \n 0   id               816 non-null    int64  \n 1   city             803 non-null    object \n 2   date             816 non-null    object \n 3   player_of_match  812 non-null    object \n 4   venue            816 non-null    object \n 5   neutral_venue    816 non-null    int64  \n 6   team1            816 non-null    object \n 7   team2            816 non-null    object \n 8   toss_winner      816 non-null    object \n 9   toss_decision    816 non-null    object \n 10  winner           812 non-null    object \n 11  result           812 non-null    object \n 12  result_margin    799 non-null    float64\n 13  eliminator       812 non-null    object \n 14  method           19 non-null     object \n 15  umpire1          816 non-null    object \n 16  umpire2          816 non-null    object \ndtypes: float64(1), int64(2), object(14)\nmemory usage: 108.5+ KB\n"
    }
   ],
   "source": [
    "dataset.info()\n",
    "\n"
   ]
  },
  {
   "cell_type": "code",
   "execution_count": 61,
   "metadata": {},
   "outputs": [],
   "source": [
    "\n",
    "conditions = [dataset[\"venue\"] == \"Rajiv Gandhi International Stadium, Uppal\",dataset[\"venue\"] == \"Maharashtra Cricket Association Stadium\",\n",
    "              dataset[\"venue\"] == \"Saurashtra Cricket Association Stadium\", dataset[\"venue\"] == \"Holkar Cricket Stadium\",\n",
    "              dataset[\"venue\"] == \"M Chinnaswamy Stadium\",dataset[\"venue\"] == \"Wankhede Stadium\",\n",
    "              dataset[\"venue\"] == \"Eden Gardens\",dataset[\"venue\"] == \"Feroz Shah Kotla\",\n",
    "              dataset[\"venue\"] == \"Punjab Cricket Association IS Bindra Stadium, Mohali\",dataset[\"venue\"] == \"Green Park\",\n",
    "              dataset[\"venue\"] == \"Punjab Cricket Association Stadium, Mohali\",dataset[\"venue\"] == \"Dr DY Patil Sports Academy\",\n",
    "              dataset[\"venue\"] == \"Sawai Mansingh Stadium\", dataset[\"venue\"] == \"MA Chidambaram Stadium, Chepauk\", \n",
    "              dataset[\"venue\"] == \"Newlands\", dataset[\"venue\"] == \"St George's Park\" , \n",
    "              dataset[\"venue\"] == \"Kingsmead\", dataset[\"venue\"] == \"SuperSport Park\",\n",
    "              dataset[\"venue\"] == \"Buffalo Park\", dataset[\"venue\"] == \"New Wanderers Stadium\",\n",
    "              dataset[\"venue\"] == \"De Beers Diamond Oval\", dataset[\"venue\"] == \"OUTsurance Oval\", \n",
    "              dataset[\"venue\"] == \"Brabourne Stadium\",dataset[\"venue\"] == \"Sardar Patel Stadium\", \n",
    "              dataset[\"venue\"] == \"Barabati Stadium\", dataset[\"venue\"] == \"Vidarbha Cricket Association Stadium, Jamtha\",\n",
    "              dataset[\"venue\"] == \"Himachal Pradesh Cricket Association Stadium\",dataset[\"venue\"] == \"Nehru Stadium\",\n",
    "              dataset[\"venue\"] == \"Dr. Y.S. Rajasekhara Reddy ACA-VDCA Cricket Stadium\",dataset[\"venue\"] == \"Subrata Roy Sahara Stadium\",\n",
    "              dataset[\"venue\"] == \"Shaheed Veer Narayan Singh International Stadium\",dataset[\"venue\"] == \"JSCA International Stadium Complex\",\n",
    "              dataset[\"venue\"] == \"Sheikh Zayed Stadium\",dataset[\"venue\"] == \"Sharjah Cricket Stadium\",\n",
    "              dataset[\"venue\"] == \"Dubai International Cricket Stadium\",dataset[\"venue\"] == \"M. A. Chidambaram Stadium\",\n",
    "              dataset[\"venue\"] == \"Feroz Shah Kotla Ground\",dataset[\"venue\"] == \"M. Chinnaswamy Stadium\",\n",
    "              dataset[\"venue\"] == \"Rajiv Gandhi Intl. Cricket Stadium\" ,dataset[\"venue\"] == \"IS Bindra Stadium\",dataset[\"venue\"] == \"ACA-VDCA Stadium\"]\n",
    "\n"
   ]
  },
  {
   "cell_type": "code",
   "execution_count": 62,
   "metadata": {},
   "outputs": [],
   "source": [
    "values = ['Hyderabad', 'Mumbai', 'Rajkot',\"Indore\",\"Bengaluru\",\"Mumbai\",\"Kolkata\",\"Delhi\",\"Mohali\",\"Kanpur\",\"Mohali\",\"Pune\",\"Jaipur\",\"Chennai\",\"Cape Town\",\"Port Elizabeth\",\"Durban\",\n",
    "          \"Centurion\",'Eastern Cape','Johannesburg','Northern Cape','Bloemfontein','Mumbai','Ahmedabad','Cuttack','Jamtha','Dharamshala','Chennai','Visakhapatnam','Pune','Raipur','Ranchi',\n",
    "          'Abu Dhabi','Sharjah','Dubai','Chennai','Delhi','Bengaluru','Hyderabad','Mohali','Visakhapatnam']\n",
    "\n",
    "\n",
    "#Removing records having null values in \"winner\" column\n",
    "\n",
    "\n",
    "\n",
    "dataset['city'] = np.where(dataset['city'].isnull(),\n",
    "                              np.select(conditions, values),\n",
    "                              dataset['city'])\n",
    "\n",
    "# #Removing records having null values in \"winner\" column\n",
    "# dataset=dataset[dataset[\"winner\"].notna()]"
   ]
  },
  {
   "cell_type": "code",
   "execution_count": 63,
   "metadata": {
    "tags": []
   },
   "outputs": [
    {
     "output_type": "stream",
     "name": "stdout",
     "text": "Royal Challengers Bangalore\nKings XI Punjab\nDelhi Daredevils\nMumbai Indians\nKolkata Knight Riders\nRajasthan Royals\nDeccan Chargers\nChennai Super Kings\nKochi Tuskers Kerala\nPune Warriors\nSunrisers Hyderabad\nGujarat Lions\nRising Pune Supergiants\nRising Pune Supergiant\nDelhi Capitals\n"
    }
   ],
   "source": [
    "for t in dataset['team1'].unique():\n",
    "    print(t)"
   ]
  },
  {
   "cell_type": "code",
   "execution_count": 64,
   "metadata": {
    "tags": []
   },
   "outputs": [
    {
     "output_type": "stream",
     "name": "stdout",
     "text": "id        city        date player_of_match  \\\n0     335982   Bangalore  2008-04-18     BB McCullum   \n1     335983  Chandigarh  2008-04-19      MEK Hussey   \n2     335984       Delhi  2008-04-19     MF Maharoof   \n3     335985      Mumbai  2008-04-20      MV Boucher   \n4     335986     Kolkata  2008-04-20       DJ Hussey   \n..       ...         ...         ...             ...   \n811  1216547       Dubai  2020-09-28  AB de Villiers   \n812  1237177       Dubai  2020-11-05       JJ Bumrah   \n813  1237178   Abu Dhabi  2020-11-06   KS Williamson   \n814  1237180   Abu Dhabi  2020-11-08      MP Stoinis   \n815  1237181       Dubai  2020-11-10        TA Boult   \n\n                                          venue  neutral_venue  \\\n0                         M Chinnaswamy Stadium              0   \n1    Punjab Cricket Association Stadium, Mohali              0   \n2                              Feroz Shah Kotla              0   \n3                              Wankhede Stadium              0   \n4                                  Eden Gardens              0   \n..                                          ...            ...   \n811         Dubai International Cricket Stadium              0   \n812         Dubai International Cricket Stadium              0   \n813                        Sheikh Zayed Stadium              0   \n814                        Sheikh Zayed Stadium              0   \n815         Dubai International Cricket Stadium              0   \n\n                           team1                        team2  \\\n0    Royal Challengers Bangalore        Kolkata Knight Riders   \n1                Kings XI Punjab          Chennai Super Kings   \n2               Delhi Daredevils             Rajasthan Royals   \n3                 Mumbai Indians  Royal Challengers Bangalore   \n4          Kolkata Knight Riders              Deccan Chargers   \n..                           ...                          ...   \n811  Royal Challengers Bangalore               Mumbai Indians   \n812               Mumbai Indians               Delhi Capitals   \n813  Royal Challengers Bangalore          Sunrisers Hyderabad   \n814               Delhi Capitals          Sunrisers Hyderabad   \n815               Delhi Capitals               Mumbai Indians   \n\n                     toss_winner toss_decision                       winner  \\\n0    Royal Challengers Bangalore         field        Kolkata Knight Riders   \n1            Chennai Super Kings           bat          Chennai Super Kings   \n2               Rajasthan Royals           bat             Delhi Daredevils   \n3                 Mumbai Indians           bat  Royal Challengers Bangalore   \n4                Deccan Chargers           bat        Kolkata Knight Riders   \n..                           ...           ...                          ...   \n811               Mumbai Indians         field  Royal Challengers Bangalore   \n812               Delhi Capitals         field               Mumbai Indians   \n813          Sunrisers Hyderabad         field          Sunrisers Hyderabad   \n814               Delhi Capitals           bat               Delhi Capitals   \n815               Delhi Capitals           bat               Mumbai Indians   \n\n      result  result_margin eliminator method      umpire1         umpire2  \n0       runs          140.0          N    NaN    Asad Rauf     RE Koertzen  \n1       runs           33.0          N    NaN    MR Benson      SL Shastri  \n2    wickets            9.0          N    NaN    Aleem Dar  GA Pratapkumar  \n3    wickets            5.0          N    NaN     SJ Davis       DJ Harper  \n4    wickets            5.0          N    NaN    BF Bowden     K Hariharan  \n..       ...            ...        ...    ...          ...             ...  \n811      tie            NaN          Y    NaN  Nitin Menon      PR Reiffel  \n812     runs           57.0          N    NaN  CB Gaffaney     Nitin Menon  \n813  wickets            6.0          N    NaN   PR Reiffel          S Ravi  \n814     runs           17.0          N    NaN   PR Reiffel          S Ravi  \n815  wickets            5.0          N    NaN  CB Gaffaney     Nitin Menon  \n\n[812 rows x 17 columns]\n"
    }
   ],
   "source": [
    "dataset=dataset[dataset[\"winner\"].notna()]\n",
    "print(dataset)\n",
    "encoder = LabelEncoder()\n"
   ]
  },
  {
   "cell_type": "code",
   "execution_count": 65,
   "metadata": {},
   "outputs": [],
   "source": [
    "\n",
    "dataset['team1'] = encoder.fit_transform(dataset['team1'])\n",
    "dataset['team2'] = encoder.fit_transform(dataset['team2'])\n",
    "# dataset['winner'] = encoder.fit_transform(dataset['winner'].astpye(str))\n",
    "dataset['toss_winner'] = encoder.fit_transform(dataset['toss_winner'])\n",
    "\n",
    "\n",
    "dataset['venue'] = encoder.fit_transform(dataset['venue'])\n",
    "\n",
    "dataset['winner'] = encoder.fit_transform(dataset['winner'].astype(str))\n"
   ]
  },
  {
   "cell_type": "code",
   "execution_count": 66,
   "metadata": {
    "tags": []
   },
   "outputs": [
    {
     "output_type": "stream",
     "name": "stdout",
     "text": "id        city        date player_of_match  venue  neutral_venue  \\\n0     335982   Bangalore  2008-04-18     BB McCullum     14              0   \n1     335983  Chandigarh  2008-04-19      MEK Hussey     23              0   \n2     335984       Delhi  2008-04-19     MF Maharoof      8              0   \n3     335985      Mumbai  2008-04-20      MV Boucher     35              0   \n4     335986     Kolkata  2008-04-20       DJ Hussey      7              0   \n..       ...         ...         ...             ...    ...            ...   \n811  1216547       Dubai  2020-09-28  AB de Villiers      6              0   \n812  1237177       Dubai  2020-11-05       JJ Bumrah      6              0   \n813  1237178   Abu Dhabi  2020-11-06   KS Williamson     30              0   \n814  1237180   Abu Dhabi  2020-11-08      MP Stoinis     30              0   \n815  1237181       Dubai  2020-11-10        TA Boult      6              0   \n\n     team1  team2  toss_winner toss_decision  winner   result  result_margin  \\\n0       13      7           13         field       7     runs          140.0   \n1        5      0            0           bat       0     runs           33.0   \n2        3     10           10           bat       3  wickets            9.0   \n3        8     13            8           bat      13  wickets            5.0   \n4        7      1            1           bat       7  wickets            5.0   \n..     ...    ...          ...           ...     ...      ...            ...   \n811     13      8            8         field      13      tie            NaN   \n812      8      2            2         field       8     runs           57.0   \n813     13     14           14         field      14  wickets            6.0   \n814      2     14            2           bat       2     runs           17.0   \n815      2      8            2           bat       8  wickets            5.0   \n\n    eliminator method      umpire1         umpire2  team1_win  team1_toss_win  \\\n0            N    NaN    Asad Rauf     RE Koertzen        0.0             1.0   \n1            N    NaN    MR Benson      SL Shastri        0.0             0.0   \n2            N    NaN    Aleem Dar  GA Pratapkumar        1.0             0.0   \n3            N    NaN     SJ Davis       DJ Harper        0.0             1.0   \n4            N    NaN    BF Bowden     K Hariharan        1.0             0.0   \n..         ...    ...          ...             ...        ...             ...   \n811          Y    NaN  Nitin Menon      PR Reiffel        1.0             0.0   \n812          N    NaN  CB Gaffaney     Nitin Menon        1.0             0.0   \n813          N    NaN   PR Reiffel          S Ravi        0.0             0.0   \n814          N    NaN   PR Reiffel          S Ravi        1.0             1.0   \n815          N    NaN  CB Gaffaney     Nitin Menon        0.0             1.0   \n\n     team1_bat  \n0            0  \n1            0  \n2            0  \n3            1  \n4            0  \n..         ...  \n811          0  \n812          0  \n813          0  \n814          1  \n815          1  \n\n[812 rows x 20 columns]\n"
    }
   ],
   "source": [
    "dataset.loc[dataset[\"winner\"]==dataset[\"team1\"],\"team1_win\"]=1\n",
    "\n",
    "dataset.loc[dataset[\"winner\"]!=dataset[\"team1\"],\"team1_win\"]=0\n",
    "dataset.loc[dataset[\"toss_winner\"]==dataset[\"team1\"],\"team1_toss_win\"]=1\n",
    "dataset.loc[dataset[\"toss_winner\"]!=dataset[\"team1\"],\"team1_toss_win\"]=0\n",
    "\n",
    "dataset[\"team1_bat\"]=0\n",
    "dataset.loc[(dataset[\"team1_toss_win\"]==1) & (dataset[\"toss_decision\"]==\"bat\"),\"team1_bat\"]=1\n",
    "\n",
    "print(dataset)\n"
   ]
  },
  {
   "cell_type": "code",
   "execution_count": 67,
   "metadata": {},
   "outputs": [
    {
     "output_type": "execute_result",
     "data": {
      "text/plain": "          id        city        date player_of_match  venue  neutral_venue  \\\n1     335983  Chandigarh  2008-04-19      MEK Hussey     23              0   \n2     335984       Delhi  2008-04-19     MF Maharoof      8              0   \n4     335986     Kolkata  2008-04-20       DJ Hussey      7              0   \n5     335987      Jaipur  2008-04-21       SR Watson     27              0   \n7     335989     Chennai  2008-04-23       ML Hayden     16              0   \n..       ...         ...         ...             ...    ...            ...   \n801  1216537   Abu Dhabi  2020-10-30       BA Stokes     30              0   \n803  1216539       Dubai  2020-09-25         PP Shaw      6              0   \n811  1216547       Dubai  2020-09-28  AB de Villiers      6              0   \n812  1237177       Dubai  2020-11-05       JJ Bumrah      6              0   \n813  1237178   Abu Dhabi  2020-11-06   KS Williamson     30              0   \n\n     team1  team2  toss_winner toss_decision  winner   result  result_margin  \\\n1        5      0            0           bat       0     runs           33.0   \n2        3     10           10           bat       3  wickets            9.0   \n4        7      1            1           bat       7  wickets            5.0   \n5       10      5            5           bat      10  wickets            6.0   \n7        0      8            8         field       0     runs            6.0   \n..     ...    ...          ...           ...     ...      ...            ...   \n801      5     10           10         field      10  wickets            7.0   \n803      2      0            0         field       2     runs           44.0   \n811     13      8            8         field      13      tie            NaN   \n812      8      2            2         field       8     runs           57.0   \n813     13     14           14         field      14  wickets            6.0   \n\n    eliminator method                umpire1         umpire2  team1_win  \\\n1            N    NaN              MR Benson      SL Shastri        0.0   \n2            N    NaN              Aleem Dar  GA Pratapkumar        1.0   \n4            N    NaN              BF Bowden     K Hariharan        1.0   \n5            N    NaN              Aleem Dar       RB Tiffin        1.0   \n7            N    NaN              DJ Harper  GA Pratapkumar        1.0   \n..         ...    ...                    ...             ...        ...   \n801          N    NaN            CB Gaffaney          S Ravi        0.0   \n803          N    NaN  KN Ananthapadmanabhan  RK Illingworth        1.0   \n811          Y    NaN            Nitin Menon      PR Reiffel        1.0   \n812          N    NaN            CB Gaffaney     Nitin Menon        1.0   \n813          N    NaN             PR Reiffel          S Ravi        0.0   \n\n     team1_toss_win  team1_bat  \n1               0.0          0  \n2               0.0          0  \n4               0.0          0  \n5               0.0          0  \n7               0.0          0  \n..              ...        ...  \n801             0.0          0  \n803             0.0          0  \n811             0.0          0  \n812             0.0          0  \n813             0.0          0  \n\n[421 rows x 20 columns]",
      "text/html": "<div>\n<style scoped>\n    .dataframe tbody tr th:only-of-type {\n        vertical-align: middle;\n    }\n\n    .dataframe tbody tr th {\n        vertical-align: top;\n    }\n\n    .dataframe thead th {\n        text-align: right;\n    }\n</style>\n<table border=\"1\" class=\"dataframe\">\n  <thead>\n    <tr style=\"text-align: right;\">\n      <th></th>\n      <th>id</th>\n      <th>city</th>\n      <th>date</th>\n      <th>player_of_match</th>\n      <th>venue</th>\n      <th>neutral_venue</th>\n      <th>team1</th>\n      <th>team2</th>\n      <th>toss_winner</th>\n      <th>toss_decision</th>\n      <th>winner</th>\n      <th>result</th>\n      <th>result_margin</th>\n      <th>eliminator</th>\n      <th>method</th>\n      <th>umpire1</th>\n      <th>umpire2</th>\n      <th>team1_win</th>\n      <th>team1_toss_win</th>\n      <th>team1_bat</th>\n    </tr>\n  </thead>\n  <tbody>\n    <tr>\n      <th>1</th>\n      <td>335983</td>\n      <td>Chandigarh</td>\n      <td>2008-04-19</td>\n      <td>MEK Hussey</td>\n      <td>23</td>\n      <td>0</td>\n      <td>5</td>\n      <td>0</td>\n      <td>0</td>\n      <td>bat</td>\n      <td>0</td>\n      <td>runs</td>\n      <td>33.0</td>\n      <td>N</td>\n      <td>NaN</td>\n      <td>MR Benson</td>\n      <td>SL Shastri</td>\n      <td>0.0</td>\n      <td>0.0</td>\n      <td>0</td>\n    </tr>\n    <tr>\n      <th>2</th>\n      <td>335984</td>\n      <td>Delhi</td>\n      <td>2008-04-19</td>\n      <td>MF Maharoof</td>\n      <td>8</td>\n      <td>0</td>\n      <td>3</td>\n      <td>10</td>\n      <td>10</td>\n      <td>bat</td>\n      <td>3</td>\n      <td>wickets</td>\n      <td>9.0</td>\n      <td>N</td>\n      <td>NaN</td>\n      <td>Aleem Dar</td>\n      <td>GA Pratapkumar</td>\n      <td>1.0</td>\n      <td>0.0</td>\n      <td>0</td>\n    </tr>\n    <tr>\n      <th>4</th>\n      <td>335986</td>\n      <td>Kolkata</td>\n      <td>2008-04-20</td>\n      <td>DJ Hussey</td>\n      <td>7</td>\n      <td>0</td>\n      <td>7</td>\n      <td>1</td>\n      <td>1</td>\n      <td>bat</td>\n      <td>7</td>\n      <td>wickets</td>\n      <td>5.0</td>\n      <td>N</td>\n      <td>NaN</td>\n      <td>BF Bowden</td>\n      <td>K Hariharan</td>\n      <td>1.0</td>\n      <td>0.0</td>\n      <td>0</td>\n    </tr>\n    <tr>\n      <th>5</th>\n      <td>335987</td>\n      <td>Jaipur</td>\n      <td>2008-04-21</td>\n      <td>SR Watson</td>\n      <td>27</td>\n      <td>0</td>\n      <td>10</td>\n      <td>5</td>\n      <td>5</td>\n      <td>bat</td>\n      <td>10</td>\n      <td>wickets</td>\n      <td>6.0</td>\n      <td>N</td>\n      <td>NaN</td>\n      <td>Aleem Dar</td>\n      <td>RB Tiffin</td>\n      <td>1.0</td>\n      <td>0.0</td>\n      <td>0</td>\n    </tr>\n    <tr>\n      <th>7</th>\n      <td>335989</td>\n      <td>Chennai</td>\n      <td>2008-04-23</td>\n      <td>ML Hayden</td>\n      <td>16</td>\n      <td>0</td>\n      <td>0</td>\n      <td>8</td>\n      <td>8</td>\n      <td>field</td>\n      <td>0</td>\n      <td>runs</td>\n      <td>6.0</td>\n      <td>N</td>\n      <td>NaN</td>\n      <td>DJ Harper</td>\n      <td>GA Pratapkumar</td>\n      <td>1.0</td>\n      <td>0.0</td>\n      <td>0</td>\n    </tr>\n    <tr>\n      <th>...</th>\n      <td>...</td>\n      <td>...</td>\n      <td>...</td>\n      <td>...</td>\n      <td>...</td>\n      <td>...</td>\n      <td>...</td>\n      <td>...</td>\n      <td>...</td>\n      <td>...</td>\n      <td>...</td>\n      <td>...</td>\n      <td>...</td>\n      <td>...</td>\n      <td>...</td>\n      <td>...</td>\n      <td>...</td>\n      <td>...</td>\n      <td>...</td>\n      <td>...</td>\n    </tr>\n    <tr>\n      <th>801</th>\n      <td>1216537</td>\n      <td>Abu Dhabi</td>\n      <td>2020-10-30</td>\n      <td>BA Stokes</td>\n      <td>30</td>\n      <td>0</td>\n      <td>5</td>\n      <td>10</td>\n      <td>10</td>\n      <td>field</td>\n      <td>10</td>\n      <td>wickets</td>\n      <td>7.0</td>\n      <td>N</td>\n      <td>NaN</td>\n      <td>CB Gaffaney</td>\n      <td>S Ravi</td>\n      <td>0.0</td>\n      <td>0.0</td>\n      <td>0</td>\n    </tr>\n    <tr>\n      <th>803</th>\n      <td>1216539</td>\n      <td>Dubai</td>\n      <td>2020-09-25</td>\n      <td>PP Shaw</td>\n      <td>6</td>\n      <td>0</td>\n      <td>2</td>\n      <td>0</td>\n      <td>0</td>\n      <td>field</td>\n      <td>2</td>\n      <td>runs</td>\n      <td>44.0</td>\n      <td>N</td>\n      <td>NaN</td>\n      <td>KN Ananthapadmanabhan</td>\n      <td>RK Illingworth</td>\n      <td>1.0</td>\n      <td>0.0</td>\n      <td>0</td>\n    </tr>\n    <tr>\n      <th>811</th>\n      <td>1216547</td>\n      <td>Dubai</td>\n      <td>2020-09-28</td>\n      <td>AB de Villiers</td>\n      <td>6</td>\n      <td>0</td>\n      <td>13</td>\n      <td>8</td>\n      <td>8</td>\n      <td>field</td>\n      <td>13</td>\n      <td>tie</td>\n      <td>NaN</td>\n      <td>Y</td>\n      <td>NaN</td>\n      <td>Nitin Menon</td>\n      <td>PR Reiffel</td>\n      <td>1.0</td>\n      <td>0.0</td>\n      <td>0</td>\n    </tr>\n    <tr>\n      <th>812</th>\n      <td>1237177</td>\n      <td>Dubai</td>\n      <td>2020-11-05</td>\n      <td>JJ Bumrah</td>\n      <td>6</td>\n      <td>0</td>\n      <td>8</td>\n      <td>2</td>\n      <td>2</td>\n      <td>field</td>\n      <td>8</td>\n      <td>runs</td>\n      <td>57.0</td>\n      <td>N</td>\n      <td>NaN</td>\n      <td>CB Gaffaney</td>\n      <td>Nitin Menon</td>\n      <td>1.0</td>\n      <td>0.0</td>\n      <td>0</td>\n    </tr>\n    <tr>\n      <th>813</th>\n      <td>1237178</td>\n      <td>Abu Dhabi</td>\n      <td>2020-11-06</td>\n      <td>KS Williamson</td>\n      <td>30</td>\n      <td>0</td>\n      <td>13</td>\n      <td>14</td>\n      <td>14</td>\n      <td>field</td>\n      <td>14</td>\n      <td>wickets</td>\n      <td>6.0</td>\n      <td>N</td>\n      <td>NaN</td>\n      <td>PR Reiffel</td>\n      <td>S Ravi</td>\n      <td>0.0</td>\n      <td>0.0</td>\n      <td>0</td>\n    </tr>\n  </tbody>\n</table>\n<p>421 rows × 20 columns</p>\n</div>"
     },
     "metadata": {},
     "execution_count": 67
    }
   ],
   "source": [
    "dataset.loc[dataset[\"toss_winner\"]==dataset[\"team1\"],\"team1_toss_win\"]=1\n",
    "dataset.loc[dataset[\"toss_winner\"]!=dataset[\"team1\"]]"
   ]
  },
  {
   "cell_type": "code",
   "execution_count": 68,
   "metadata": {},
   "outputs": [],
   "source": [
    "prediction_df = dataset[['team1','team2','team1_toss_win','team1_bat','team1_win','venue']]\n",
    "\n",
    "correlated_featues = set()\n",
    "correlation_matrix = prediction_df.drop('team1_win',axis=1).corr()\n",
    "\n",
    "for i in range(len(correlation_matrix.columns)):\n",
    "    for j in range(i):\n",
    "        if abs(correlation_matrix.iloc[i,j]) > 0.8:\n",
    "            column = correlation_matrix.columns[i]\n",
    "            correlated_features.add(column)\n",
    "\n"
   ]
  },
  {
   "cell_type": "code",
   "execution_count": 69,
   "metadata": {},
   "outputs": [],
   "source": [
    "prediction_df.drop(columns= correlated_featues)\n",
    "X = prediction_df.drop('team1_win',axis=1)\n",
    "target = prediction_df['team1_win']\n",
    "target = target.astype(int)\n",
    "\n",
    "\n",
    "\n"
   ]
  },
  {
   "cell_type": "code",
   "execution_count": 84,
   "metadata": {},
   "outputs": [],
   "source": [
    "reg = LogisticRegression(solver = 'lbfgs')\n",
    "reg = reg.fit(X,target.values.ravel())"
   ]
  },
  {
   "cell_type": "code",
   "execution_count": 85,
   "metadata": {},
   "outputs": [],
   "source": [
    "X_train,X_test,y_train,y_test = tts(X,target,test_size=0.2,random_state=0)"
   ]
  },
  {
   "cell_type": "code",
   "execution_count": 72,
   "metadata": {
    "tags": []
   },
   "outputs": [
    {
     "output_type": "stream",
     "name": "stdout",
     "text": "team1  team2  team1_toss_win  team1_bat  venue\n37       5     10             0.0          0     23\n172      0      1             1.0          1      4\n48       5      1             1.0          0     23\n320      3      0             1.0          0     16\n627      3     11             1.0          1      8\n..     ...    ...             ...        ...    ...\n767      8      5             0.0          0     30\n192      6      0             1.0          0     18\n632      8     11             1.0          0     35\n562      5     14             1.0          1     22\n687      3      0             0.0          0      8\n\n[649 rows x 5 columns]\n"
    }
   ],
   "source": [
    "print(X_train)"
   ]
  },
  {
   "cell_type": "code",
   "execution_count": 86,
   "metadata": {
    "tags": []
   },
   "outputs": [
    {
     "output_type": "stream",
     "name": "stdout",
     "text": "[[-0.42111856  0.64791865 -0.95627103 -0.53875639  0.45760002]\n [-1.54676082 -1.41898077  1.04572864  1.85612647 -1.4295792 ]\n [-0.42111856 -1.41898077  1.04572864 -0.53875639  0.45760002]\n ...\n [ 0.25426681  0.87757414  1.04572864 -0.53875639  1.64950269]\n [-0.42111856  1.56654062  1.04572864  1.85612647  0.3582748 ]\n [-0.87137546 -1.64863627 -0.95627103 -0.53875639 -1.03227831]]\n[[-0.8771527  -0.6098245   1.0061539  -0.48461168 -0.95480836]\n [-1.54630662  0.5994382  -0.99388373 -0.48461168 -0.14315901]\n [-0.8771527   0.84129074  1.0061539  -0.48461168  1.7845082 ]\n [-0.8771527   0.35758566 -0.99388373 -0.48461168 -0.95480836]\n [-0.8771527  -1.57723466 -0.99388373 -0.48461168 -0.95480836]\n [ 1.3533604  -1.57723466 -0.99388373 -0.48461168 -0.34607135]\n [-0.43105008  0.11573312  1.0061539  -0.48461168 -1.05626453]\n [ 0.68420647 -0.85167704 -0.99388373 -0.48461168 -1.66500154]\n [-1.54630662  0.35758566 -0.99388373 -0.48461168 -0.14315901]\n [-0.43105008 -1.57723466  1.0061539   2.06350782 -1.1577207 ]\n [-0.65410139 -0.85167704 -0.99388373 -0.48461168 -0.85335219]\n [-1.54630662  0.11573312 -0.99388373 -0.48461168 -0.14315901]\n [-1.32325531  0.84129074 -0.99388373 -0.48461168  0.66849034]\n [ 0.23810385 -0.85167704 -0.99388373 -0.48461168  1.7845082 ]\n [ 0.90725778 -0.85167704  1.0061539  -0.48461168 -0.04170284]\n [ 1.3533604  -0.36797196 -0.99388373 -0.48461168 -0.24461518]\n [ 1.57641171  0.11573312 -0.99388373 -0.48461168 -1.25917687]\n [-0.8771527  -0.36797196 -0.99388373 -0.48461168  0.36412183]\n [ 1.3533604  -1.57723466  1.0061539  -0.48461168  0.1612095 ]\n [ 0.68420647 -1.33538212 -0.99388373 -0.48461168  0.97285885]\n [-1.54630662  1.8087009   1.0061539  -0.48461168 -0.04170284]\n [ 1.57641171 -0.36797196  1.0061539   2.06350782  0.66849034]\n [-1.54630662  0.84129074 -0.99388373 -0.48461168  1.58159586]\n [ 0.23810385  0.84129074  1.0061539  -0.48461168  1.7845082 ]\n [ 0.01505254  0.35758566  1.0061539  -0.48461168 -1.76645771]\n [ 0.68420647 -1.57723466 -0.99388373 -0.48461168  0.97285885]\n [-0.43105008 -1.57723466 -0.99388373 -0.48461168  0.465578  ]\n [ 0.23810385 -1.57723466 -0.99388373 -0.48461168  1.27722735]\n [ 0.23810385 -0.36797196  1.0061539  -0.48461168 -1.66500154]\n [ 0.23810385  1.8087009   1.0061539  -0.48461168  1.7845082 ]\n [ 0.01505254 -0.36797196  1.0061539  -0.48461168 -1.05626453]\n [-1.54630662  1.56684836 -0.99388373 -0.48461168 -0.14315901]\n [ 0.46115516 -1.57723466  1.0061539   2.06350782 -1.36063304]\n [ 1.57641171 -1.57723466  1.0061539  -0.48461168  0.66849034]\n [-0.8771527   0.11573312  1.0061539   2.06350782 -0.95480836]\n [-0.43105008 -0.85167704 -0.99388373 -0.48461168 -0.75189602]\n [-1.54630662  0.11573312  1.0061539   2.06350782 -0.14315901]\n [ 0.23810385  0.84129074  1.0061539   2.06350782  1.27722735]\n [ 0.46115516 -0.85167704  1.0061539   2.06350782  1.48013969]\n [ 1.57641171  0.11573312 -0.99388373 -0.48461168 -0.95480836]\n [ 1.3533604   0.84129074  1.0061539  -0.48461168 -0.34607135]\n [-0.43105008  0.84129074  1.0061539  -0.48461168 -0.65043986]\n [ 1.3533604  -0.36797196  1.0061539   2.06350782 -0.44752752]\n [ 0.23810385  1.56684836  1.0061539  -0.48461168  1.7845082 ]\n [-1.54630662  0.84129074 -0.99388373 -0.48461168 -0.04170284]\n [ 0.68420647 -1.57723466 -0.99388373 -0.48461168  1.17577118]\n [-0.65410139  1.56684836 -0.99388373 -0.48461168 -0.34607135]\n [ 1.3533604  -0.85167704  1.0061539  -0.48461168 -0.24461518]\n [-1.54630662 -0.36797196 -0.99388373 -0.48461168 -0.14315901]\n [ 1.3533604   0.11573312  1.0061539  -0.48461168 -0.34607135]\n [-0.8771527   0.11573312 -0.99388373 -0.48461168 -0.95480836]\n [ 1.3533604  -0.85167704 -0.99388373 -0.48461168 -0.34607135]\n [ 0.01505254  0.35758566  1.0061539   2.06350782 -1.05626453]\n [ 0.68420647 -0.36797196 -0.99388373 -0.48461168  1.17577118]\n [ 1.3533604   0.11573312  1.0061539  -0.48461168 -0.34607135]\n [-0.8771527  -0.36797196  1.0061539   2.06350782 -0.95480836]\n [ 0.23810385  0.84129074 -0.99388373 -0.48461168  1.7845082 ]\n [ 0.01505254  1.8087009  -0.99388373 -0.48461168 -1.05626453]\n [ 1.3533604  -0.6098245  -0.99388373 -0.48461168 -0.34607135]\n [-0.43105008  0.11573312 -0.99388373 -0.48461168  0.465578  ]\n [ 0.23810385  0.11573312  1.0061539  -0.48461168 -0.34607135]\n [-1.32325531  0.35758566  1.0061539  -0.48461168  0.66849034]\n [ 0.23810385 -1.33538212  1.0061539  -0.48461168  1.7845082 ]\n [-0.8771527  -0.36797196 -0.99388373 -0.48461168 -0.95480836]\n [-0.8771527   0.84129074 -0.99388373 -0.48461168 -0.95480836]\n [ 1.57641171 -0.36797196  1.0061539   2.06350782 -1.1577207 ]\n [ 0.23810385  1.8087009   1.0061539   2.06350782  1.7845082 ]\n [ 0.23810385  1.08314328  1.0061539  -0.48461168  1.7845082 ]\n [-0.20799877 -0.36797196 -0.99388373 -0.48461168 -0.65043986]\n [ 1.57641171  0.84129074 -0.99388373 -0.48461168  0.66849034]\n [-0.43105008  1.56684836  1.0061539   2.06350782 -0.75189602]\n [-1.54630662 -0.36797196  1.0061539   2.06350782 -0.14315901]\n [ 1.57641171  0.11573312  1.0061539   2.06350782  0.66849034]\n [ 1.3533604  -0.36797196 -0.99388373 -0.48461168 -0.34607135]\n [-0.43105008 -1.57723466 -0.99388373 -0.48461168  1.27722735]\n [-1.32325531 -1.57723466 -0.99388373 -0.48461168  1.68305203]\n [ 0.68420647  0.35758566  1.0061539  -0.48461168  0.97285885]\n [ 0.23810385  0.84129074 -0.99388373 -0.48461168  1.7845082 ]\n [ 1.3533604  -1.57723466  1.0061539  -0.48461168 -0.34607135]\n [-0.43105008  0.35758566  1.0061539   2.06350782 -0.44752752]\n [-0.43105008  0.84129074  1.0061539  -0.48461168 -0.44752752]\n [-1.100204    0.84129074  1.0061539   2.06350782 -1.1577207 ]\n [-1.32325531  0.11573312  1.0061539  -0.48461168  0.1612095 ]\n [ 0.01505254  1.56684836  1.0061539  -0.48461168 -0.54898369]\n [-0.43105008 -1.57723466 -0.99388373 -0.48461168  0.56703417]\n [ 1.13030909  1.8087009  -0.99388373 -0.48461168 -1.25917687]\n [ 0.68420647 -0.36797196 -0.99388373 -0.48461168  0.97285885]\n [-0.43105008  1.56684836  1.0061539   2.06350782  0.56703417]\n [-0.43105008  0.35758566  1.0061539  -0.48461168  0.465578  ]\n [ 0.01505254  0.35758566 -0.99388373 -0.48461168 -1.05626453]\n [ 1.57641171  0.84129074  1.0061539  -0.48461168  0.66849034]\n [ 0.23810385 -0.85167704 -0.99388373 -0.48461168  1.7845082 ]\n [ 0.01505254 -1.57723466 -0.99388373 -0.48461168 -1.05626453]\n [-0.8771527  -1.33538212 -0.99388373 -0.48461168 -0.95480836]\n [-1.54630662 -0.85167704  1.0061539   2.06350782  1.27722735]\n [ 0.68420647 -0.36797196  1.0061539  -0.48461168  0.97285885]\n [ 0.01505254  0.84129074 -0.99388373 -0.48461168  1.27722735]\n [-0.8771527  -0.36797196  1.0061539   2.06350782 -0.95480836]\n [ 1.3533604   0.11573312 -0.99388373 -0.48461168 -0.24461518]\n [ 0.01505254 -0.85167704  1.0061539   2.06350782 -1.1577207 ]\n [ 1.3533604   0.35758566 -0.99388373 -0.48461168 -0.24461518]\n [ 0.01505254 -1.57723466  1.0061539  -0.48461168 -1.05626453]\n [ 1.3533604   0.35758566  1.0061539  -0.48461168 -1.1577207 ]\n [ 0.01505254 -0.85167704  1.0061539  -0.48461168 -1.05626453]\n [-0.43105008 -0.85167704  1.0061539  -0.48461168  0.56703417]\n [-1.54630662  0.35758566 -0.99388373 -0.48461168 -0.34607135]\n [-1.100204    1.8087009   1.0061539  -0.48461168 -1.25917687]\n [ 0.68420647  0.35758566 -0.99388373 -0.48461168  0.76994651]\n [ 0.01505254 -0.36797196  1.0061539  -0.48461168 -0.34607135]\n [-0.43105008  0.35758566 -0.99388373 -0.48461168  0.56703417]\n [ 0.23810385  1.08314328  1.0061539   2.06350782  0.66849034]\n [-0.43105008 -0.6098245  -0.99388373 -0.48461168  0.465578  ]\n [ 0.23810385 -0.85167704 -0.99388373 -0.48461168  1.7845082 ]\n [ 0.68420647  1.8087009   1.0061539  -0.48461168  0.97285885]\n [ 0.68420647 -0.85167704 -0.99388373 -0.48461168  0.97285885]\n [-0.43105008  0.11573312 -0.99388373 -0.48461168 -0.04170284]\n [ 0.23810385  0.11573312  1.0061539  -0.48461168  1.7845082 ]\n [-0.43105008  0.35758566 -0.99388373 -0.48461168 -0.75189602]\n [ 0.23810385  0.5994382   1.0061539  -0.48461168  1.7845082 ]\n [ 0.68420647  0.11573312  1.0061539   2.06350782  0.97285885]\n [ 0.90725778  0.35758566  1.0061539  -0.48461168 -0.04170284]\n [ 0.01505254  0.35758566  1.0061539  -0.48461168 -1.05626453]\n [ 0.23810385  0.84129074 -0.99388373 -0.48461168 -1.05626453]\n [-1.32325531  0.84129074 -0.99388373 -0.48461168  1.68305203]\n [ 0.46115516  1.56684836  1.0061539  -0.48461168  1.48013969]\n [ 1.3533604   1.08314328  1.0061539  -0.48461168 -0.34607135]\n [-1.54630662  0.84129074 -0.99388373 -0.48461168 -0.14315901]\n [ 0.46115516 -1.33538212 -0.99388373 -0.48461168 -1.36063304]\n [-1.100204    1.56684836 -0.99388373 -0.48461168 -1.1577207 ]\n [ 1.57641171  1.56684836 -0.99388373 -0.48461168  0.66849034]\n [ 0.01505254 -1.57723466 -0.99388373 -0.48461168 -1.05626453]\n [ 1.3533604   0.35758566 -0.99388373 -0.48461168 -0.34607135]\n [-1.54630662 -0.85167704 -0.99388373 -0.48461168 -0.14315901]\n [ 1.3533604   0.84129074 -0.99388373 -0.48461168 -0.34607135]\n [-0.43105008 -1.57723466 -0.99388373 -0.48461168 -1.76645771]\n [-1.32325531  0.35758566  1.0061539   2.06350782 -0.44752752]\n [-1.32325531 -0.85167704  1.0061539   2.06350782  0.66849034]\n [ 0.23810385  0.84129074 -0.99388373 -0.48461168  1.7845082 ]\n [ 1.3533604   0.84129074  1.0061539  -0.48461168 -0.24461518]\n [-1.54630662 -0.36797196  1.0061539   2.06350782 -0.14315901]\n [-0.8771527   1.56684836 -0.99388373 -0.48461168 -0.95480836]\n [-0.8771527   0.5994382  -0.99388373 -0.48461168  1.07431502]\n [-1.54630662  0.11573312 -0.99388373 -0.48461168 -0.14315901]\n [-0.8771527   0.84129074 -0.99388373 -0.48461168 -0.95480836]\n [ 1.3533604  -1.57723466  1.0061539   2.06350782 -1.1577207 ]\n [ 0.01505254  0.84129074 -0.99388373 -0.48461168 -1.05626453]\n [-0.43105008 -1.57723466  1.0061539  -0.48461168  0.465578  ]\n [ 1.3533604  -1.57723466 -0.99388373 -0.48461168 -0.24461518]\n [-1.100204    0.84129074 -0.99388373 -0.48461168  1.17577118]\n [-1.54630662 -1.09352958  1.0061539  -0.48461168 -1.25917687]\n [-0.8771527   0.35758566 -0.99388373 -0.48461168  1.17577118]\n [ 1.3533604  -1.57723466  1.0061539  -0.48461168 -0.34607135]\n [ 1.57641171 -1.57723466  1.0061539   2.06350782  1.17577118]\n [ 0.01505254  0.84129074 -0.99388373 -0.48461168 -1.05626453]\n [ 1.57641171  0.11573312  1.0061539   2.06350782  0.66849034]\n [-1.54630662  0.5994382  -0.99388373 -0.48461168 -0.14315901]\n [ 1.57641171  0.35758566  1.0061539   2.06350782  0.66849034]\n [ 1.3533604   0.11573312 -0.99388373 -0.48461168 -0.34607135]\n [-1.54630662 -1.33538212 -0.99388373 -0.48461168 -0.44752752]\n [-0.8771527   0.35758566  1.0061539  -0.48461168 -0.95480836]\n [ 0.23810385  1.8087009   1.0061539  -0.48461168 -1.1577207 ]\n [-0.43105008 -1.33538212  1.0061539  -0.48461168 -0.75189602]\n [ 0.23810385  0.84129074  1.0061539   2.06350782 -1.66500154]]\n"
    }
   ],
   "source": [
    "from sklearn.preprocessing import StandardScaler\n",
    "sc = StandardScaler()\n",
    "\n",
    "\n",
    "\n",
    "X_train = sc.fit_transform(X_train)\n",
    "X_test = sc.fit_transform(X_test)\n",
    "\n",
    "print(X_train)\n",
    "print(X_test)"
   ]
  },
  {
   "cell_type": "code",
   "execution_count": 87,
   "metadata": {},
   "outputs": [],
   "source": [
    "lgr = LogisticRegression()\n",
    "lgr.fit(X_train,y_train)\n",
    "y_pred = lgr.predict(X_test)"
   ]
  },
  {
   "cell_type": "code",
   "execution_count": 88,
   "metadata": {
    "tags": []
   },
   "outputs": [
    {
     "output_type": "stream",
     "name": "stdout",
     "text": "[[ 9 58]\n [16 80]]\n0.5460122699386503\n"
    }
   ],
   "source": [
    "from sklearn.metrics import confusion_matrix\n",
    "\n",
    "cm = confusion_matrix(y_test,y_pred)\n",
    "print(cm)\n",
    "score = lgr.score(X_test,y_test)\n",
    "print(score)\n"
   ]
  },
  {
   "cell_type": "code",
   "execution_count": 90,
   "metadata": {
    "tags": []
   },
   "outputs": [
    {
     "output_type": "stream",
     "name": "stdout",
     "text": "0.50920245398773\n"
    }
   ],
   "source": [
    "from sklearn.ensemble import RandomForestClassifier\n",
    "reg = RandomForestClassifier(n_estimators=1000)\n",
    "reg.fit(X_train,y_train)\n",
    "y_pred = reg.predict(X_test)\n",
    "\n",
    "confusion_matrix(y_pred,y_test)\n",
    "score = reg.score(X_test,y_test)\n",
    "\n",
    "print(score)"
   ]
  },
  {
   "cell_type": "code",
   "execution_count": 91,
   "metadata": {},
   "outputs": [],
   "source": [
    "#training model using artificial neural net\n",
    "import keras\n",
    "import tensorflow as tf"
   ]
  },
  {
   "cell_type": "code",
   "execution_count": 92,
   "metadata": {},
   "outputs": [],
   "source": [
    "ann = tf.keras.models.Sequential()"
   ]
  },
  {
   "cell_type": "code",
   "execution_count": 93,
   "metadata": {
    "tags": []
   },
   "outputs": [
    {
     "output_type": "stream",
     "name": "stdout",
     "text": "<tensorflow.python.keras.engine.sequential.Sequential object at 0x15ead2fd0>\n"
    }
   ],
   "source": [
    "print(ann)"
   ]
  },
  {
   "cell_type": "code",
   "execution_count": 80,
   "metadata": {
    "tags": []
   },
   "outputs": [
    {
     "output_type": "stream",
     "name": "stdout",
     "text": "[[-0.42111856  0.64791865 -0.95627103 -0.53875639  0.45760002]\n [-1.54676082 -1.41898077  1.04572864  1.85612647 -1.4295792 ]\n [-0.42111856 -1.41898077  1.04572864 -0.53875639  0.45760002]\n ...\n [ 0.25426681  0.87757414  1.04572864 -0.53875639  1.64950269]\n [-0.42111856  1.56654062  1.04572864  1.85612647  0.3582748 ]\n [-0.87137546 -1.64863627 -0.95627103 -0.53875639 -1.03227831]]\n[[-0.8771527  -0.6098245   1.0061539  -0.48461168 -0.95480836]\n [-1.54630662  0.5994382  -0.99388373 -0.48461168 -0.14315901]\n [-0.8771527   0.84129074  1.0061539  -0.48461168  1.7845082 ]\n [-0.8771527   0.35758566 -0.99388373 -0.48461168 -0.95480836]\n [-0.8771527  -1.57723466 -0.99388373 -0.48461168 -0.95480836]\n [ 1.3533604  -1.57723466 -0.99388373 -0.48461168 -0.34607135]\n [-0.43105008  0.11573312  1.0061539  -0.48461168 -1.05626453]\n [ 0.68420647 -0.85167704 -0.99388373 -0.48461168 -1.66500154]\n [-1.54630662  0.35758566 -0.99388373 -0.48461168 -0.14315901]\n [-0.43105008 -1.57723466  1.0061539   2.06350782 -1.1577207 ]\n [-0.65410139 -0.85167704 -0.99388373 -0.48461168 -0.85335219]\n [-1.54630662  0.11573312 -0.99388373 -0.48461168 -0.14315901]\n [-1.32325531  0.84129074 -0.99388373 -0.48461168  0.66849034]\n [ 0.23810385 -0.85167704 -0.99388373 -0.48461168  1.7845082 ]\n [ 0.90725778 -0.85167704  1.0061539  -0.48461168 -0.04170284]\n [ 1.3533604  -0.36797196 -0.99388373 -0.48461168 -0.24461518]\n [ 1.57641171  0.11573312 -0.99388373 -0.48461168 -1.25917687]\n [-0.8771527  -0.36797196 -0.99388373 -0.48461168  0.36412183]\n [ 1.3533604  -1.57723466  1.0061539  -0.48461168  0.1612095 ]\n [ 0.68420647 -1.33538212 -0.99388373 -0.48461168  0.97285885]\n [-1.54630662  1.8087009   1.0061539  -0.48461168 -0.04170284]\n [ 1.57641171 -0.36797196  1.0061539   2.06350782  0.66849034]\n [-1.54630662  0.84129074 -0.99388373 -0.48461168  1.58159586]\n [ 0.23810385  0.84129074  1.0061539  -0.48461168  1.7845082 ]\n [ 0.01505254  0.35758566  1.0061539  -0.48461168 -1.76645771]\n [ 0.68420647 -1.57723466 -0.99388373 -0.48461168  0.97285885]\n [-0.43105008 -1.57723466 -0.99388373 -0.48461168  0.465578  ]\n [ 0.23810385 -1.57723466 -0.99388373 -0.48461168  1.27722735]\n [ 0.23810385 -0.36797196  1.0061539  -0.48461168 -1.66500154]\n [ 0.23810385  1.8087009   1.0061539  -0.48461168  1.7845082 ]\n [ 0.01505254 -0.36797196  1.0061539  -0.48461168 -1.05626453]\n [-1.54630662  1.56684836 -0.99388373 -0.48461168 -0.14315901]\n [ 0.46115516 -1.57723466  1.0061539   2.06350782 -1.36063304]\n [ 1.57641171 -1.57723466  1.0061539  -0.48461168  0.66849034]\n [-0.8771527   0.11573312  1.0061539   2.06350782 -0.95480836]\n [-0.43105008 -0.85167704 -0.99388373 -0.48461168 -0.75189602]\n [-1.54630662  0.11573312  1.0061539   2.06350782 -0.14315901]\n [ 0.23810385  0.84129074  1.0061539   2.06350782  1.27722735]\n [ 0.46115516 -0.85167704  1.0061539   2.06350782  1.48013969]\n [ 1.57641171  0.11573312 -0.99388373 -0.48461168 -0.95480836]\n [ 1.3533604   0.84129074  1.0061539  -0.48461168 -0.34607135]\n [-0.43105008  0.84129074  1.0061539  -0.48461168 -0.65043986]\n [ 1.3533604  -0.36797196  1.0061539   2.06350782 -0.44752752]\n [ 0.23810385  1.56684836  1.0061539  -0.48461168  1.7845082 ]\n [-1.54630662  0.84129074 -0.99388373 -0.48461168 -0.04170284]\n [ 0.68420647 -1.57723466 -0.99388373 -0.48461168  1.17577118]\n [-0.65410139  1.56684836 -0.99388373 -0.48461168 -0.34607135]\n [ 1.3533604  -0.85167704  1.0061539  -0.48461168 -0.24461518]\n [-1.54630662 -0.36797196 -0.99388373 -0.48461168 -0.14315901]\n [ 1.3533604   0.11573312  1.0061539  -0.48461168 -0.34607135]\n [-0.8771527   0.11573312 -0.99388373 -0.48461168 -0.95480836]\n [ 1.3533604  -0.85167704 -0.99388373 -0.48461168 -0.34607135]\n [ 0.01505254  0.35758566  1.0061539   2.06350782 -1.05626453]\n [ 0.68420647 -0.36797196 -0.99388373 -0.48461168  1.17577118]\n [ 1.3533604   0.11573312  1.0061539  -0.48461168 -0.34607135]\n [-0.8771527  -0.36797196  1.0061539   2.06350782 -0.95480836]\n [ 0.23810385  0.84129074 -0.99388373 -0.48461168  1.7845082 ]\n [ 0.01505254  1.8087009  -0.99388373 -0.48461168 -1.05626453]\n [ 1.3533604  -0.6098245  -0.99388373 -0.48461168 -0.34607135]\n [-0.43105008  0.11573312 -0.99388373 -0.48461168  0.465578  ]\n [ 0.23810385  0.11573312  1.0061539  -0.48461168 -0.34607135]\n [-1.32325531  0.35758566  1.0061539  -0.48461168  0.66849034]\n [ 0.23810385 -1.33538212  1.0061539  -0.48461168  1.7845082 ]\n [-0.8771527  -0.36797196 -0.99388373 -0.48461168 -0.95480836]\n [-0.8771527   0.84129074 -0.99388373 -0.48461168 -0.95480836]\n [ 1.57641171 -0.36797196  1.0061539   2.06350782 -1.1577207 ]\n [ 0.23810385  1.8087009   1.0061539   2.06350782  1.7845082 ]\n [ 0.23810385  1.08314328  1.0061539  -0.48461168  1.7845082 ]\n [-0.20799877 -0.36797196 -0.99388373 -0.48461168 -0.65043986]\n [ 1.57641171  0.84129074 -0.99388373 -0.48461168  0.66849034]\n [-0.43105008  1.56684836  1.0061539   2.06350782 -0.75189602]\n [-1.54630662 -0.36797196  1.0061539   2.06350782 -0.14315901]\n [ 1.57641171  0.11573312  1.0061539   2.06350782  0.66849034]\n [ 1.3533604  -0.36797196 -0.99388373 -0.48461168 -0.34607135]\n [-0.43105008 -1.57723466 -0.99388373 -0.48461168  1.27722735]\n [-1.32325531 -1.57723466 -0.99388373 -0.48461168  1.68305203]\n [ 0.68420647  0.35758566  1.0061539  -0.48461168  0.97285885]\n [ 0.23810385  0.84129074 -0.99388373 -0.48461168  1.7845082 ]\n [ 1.3533604  -1.57723466  1.0061539  -0.48461168 -0.34607135]\n [-0.43105008  0.35758566  1.0061539   2.06350782 -0.44752752]\n [-0.43105008  0.84129074  1.0061539  -0.48461168 -0.44752752]\n [-1.100204    0.84129074  1.0061539   2.06350782 -1.1577207 ]\n [-1.32325531  0.11573312  1.0061539  -0.48461168  0.1612095 ]\n [ 0.01505254  1.56684836  1.0061539  -0.48461168 -0.54898369]\n [-0.43105008 -1.57723466 -0.99388373 -0.48461168  0.56703417]\n [ 1.13030909  1.8087009  -0.99388373 -0.48461168 -1.25917687]\n [ 0.68420647 -0.36797196 -0.99388373 -0.48461168  0.97285885]\n [-0.43105008  1.56684836  1.0061539   2.06350782  0.56703417]\n [-0.43105008  0.35758566  1.0061539  -0.48461168  0.465578  ]\n [ 0.01505254  0.35758566 -0.99388373 -0.48461168 -1.05626453]\n [ 1.57641171  0.84129074  1.0061539  -0.48461168  0.66849034]\n [ 0.23810385 -0.85167704 -0.99388373 -0.48461168  1.7845082 ]\n [ 0.01505254 -1.57723466 -0.99388373 -0.48461168 -1.05626453]\n [-0.8771527  -1.33538212 -0.99388373 -0.48461168 -0.95480836]\n [-1.54630662 -0.85167704  1.0061539   2.06350782  1.27722735]\n [ 0.68420647 -0.36797196  1.0061539  -0.48461168  0.97285885]\n [ 0.01505254  0.84129074 -0.99388373 -0.48461168  1.27722735]\n [-0.8771527  -0.36797196  1.0061539   2.06350782 -0.95480836]\n [ 1.3533604   0.11573312 -0.99388373 -0.48461168 -0.24461518]\n [ 0.01505254 -0.85167704  1.0061539   2.06350782 -1.1577207 ]\n [ 1.3533604   0.35758566 -0.99388373 -0.48461168 -0.24461518]\n [ 0.01505254 -1.57723466  1.0061539  -0.48461168 -1.05626453]\n [ 1.3533604   0.35758566  1.0061539  -0.48461168 -1.1577207 ]\n [ 0.01505254 -0.85167704  1.0061539  -0.48461168 -1.05626453]\n [-0.43105008 -0.85167704  1.0061539  -0.48461168  0.56703417]\n [-1.54630662  0.35758566 -0.99388373 -0.48461168 -0.34607135]\n [-1.100204    1.8087009   1.0061539  -0.48461168 -1.25917687]\n [ 0.68420647  0.35758566 -0.99388373 -0.48461168  0.76994651]\n [ 0.01505254 -0.36797196  1.0061539  -0.48461168 -0.34607135]\n [-0.43105008  0.35758566 -0.99388373 -0.48461168  0.56703417]\n [ 0.23810385  1.08314328  1.0061539   2.06350782  0.66849034]\n [-0.43105008 -0.6098245  -0.99388373 -0.48461168  0.465578  ]\n [ 0.23810385 -0.85167704 -0.99388373 -0.48461168  1.7845082 ]\n [ 0.68420647  1.8087009   1.0061539  -0.48461168  0.97285885]\n [ 0.68420647 -0.85167704 -0.99388373 -0.48461168  0.97285885]\n [-0.43105008  0.11573312 -0.99388373 -0.48461168 -0.04170284]\n [ 0.23810385  0.11573312  1.0061539  -0.48461168  1.7845082 ]\n [-0.43105008  0.35758566 -0.99388373 -0.48461168 -0.75189602]\n [ 0.23810385  0.5994382   1.0061539  -0.48461168  1.7845082 ]\n [ 0.68420647  0.11573312  1.0061539   2.06350782  0.97285885]\n [ 0.90725778  0.35758566  1.0061539  -0.48461168 -0.04170284]\n [ 0.01505254  0.35758566  1.0061539  -0.48461168 -1.05626453]\n [ 0.23810385  0.84129074 -0.99388373 -0.48461168 -1.05626453]\n [-1.32325531  0.84129074 -0.99388373 -0.48461168  1.68305203]\n [ 0.46115516  1.56684836  1.0061539  -0.48461168  1.48013969]\n [ 1.3533604   1.08314328  1.0061539  -0.48461168 -0.34607135]\n [-1.54630662  0.84129074 -0.99388373 -0.48461168 -0.14315901]\n [ 0.46115516 -1.33538212 -0.99388373 -0.48461168 -1.36063304]\n [-1.100204    1.56684836 -0.99388373 -0.48461168 -1.1577207 ]\n [ 1.57641171  1.56684836 -0.99388373 -0.48461168  0.66849034]\n [ 0.01505254 -1.57723466 -0.99388373 -0.48461168 -1.05626453]\n [ 1.3533604   0.35758566 -0.99388373 -0.48461168 -0.34607135]\n [-1.54630662 -0.85167704 -0.99388373 -0.48461168 -0.14315901]\n [ 1.3533604   0.84129074 -0.99388373 -0.48461168 -0.34607135]\n [-0.43105008 -1.57723466 -0.99388373 -0.48461168 -1.76645771]\n [-1.32325531  0.35758566  1.0061539   2.06350782 -0.44752752]\n [-1.32325531 -0.85167704  1.0061539   2.06350782  0.66849034]\n [ 0.23810385  0.84129074 -0.99388373 -0.48461168  1.7845082 ]\n [ 1.3533604   0.84129074  1.0061539  -0.48461168 -0.24461518]\n [-1.54630662 -0.36797196  1.0061539   2.06350782 -0.14315901]\n [-0.8771527   1.56684836 -0.99388373 -0.48461168 -0.95480836]\n [-0.8771527   0.5994382  -0.99388373 -0.48461168  1.07431502]\n [-1.54630662  0.11573312 -0.99388373 -0.48461168 -0.14315901]\n [-0.8771527   0.84129074 -0.99388373 -0.48461168 -0.95480836]\n [ 1.3533604  -1.57723466  1.0061539   2.06350782 -1.1577207 ]\n [ 0.01505254  0.84129074 -0.99388373 -0.48461168 -1.05626453]\n [-0.43105008 -1.57723466  1.0061539  -0.48461168  0.465578  ]\n [ 1.3533604  -1.57723466 -0.99388373 -0.48461168 -0.24461518]\n [-1.100204    0.84129074 -0.99388373 -0.48461168  1.17577118]\n [-1.54630662 -1.09352958  1.0061539  -0.48461168 -1.25917687]\n [-0.8771527   0.35758566 -0.99388373 -0.48461168  1.17577118]\n [ 1.3533604  -1.57723466  1.0061539  -0.48461168 -0.34607135]\n [ 1.57641171 -1.57723466  1.0061539   2.06350782  1.17577118]\n [ 0.01505254  0.84129074 -0.99388373 -0.48461168 -1.05626453]\n [ 1.57641171  0.11573312  1.0061539   2.06350782  0.66849034]\n [-1.54630662  0.5994382  -0.99388373 -0.48461168 -0.14315901]\n [ 1.57641171  0.35758566  1.0061539   2.06350782  0.66849034]\n [ 1.3533604   0.11573312 -0.99388373 -0.48461168 -0.34607135]\n [-1.54630662 -1.33538212 -0.99388373 -0.48461168 -0.44752752]\n [-0.8771527   0.35758566  1.0061539  -0.48461168 -0.95480836]\n [ 0.23810385  1.8087009   1.0061539  -0.48461168 -1.1577207 ]\n [-0.43105008 -1.33538212  1.0061539  -0.48461168 -0.75189602]\n [ 0.23810385  0.84129074  1.0061539   2.06350782 -1.66500154]]\n"
    }
   ],
   "source": [
    "from sklearn.preprocessing import StandardScaler\n",
    "sc = StandardScaler()\n",
    "\n",
    "\n",
    "# from sklearn.preprocessing import OneHotEncoder\n",
    "# ct = ColumnTransformer(transformers=[('encoder')], remainder='passthrough')\n",
    "\n",
    "# X = np.array(ct.fit_transform(X))\n",
    "# target = np.array(ct.fit_transform(target))\n",
    "# X_train = sc.fit_transform(X_train)\n",
    "# X_test = sc.fit_transform(X_test)\n",
    "\n",
    "print(X_train)\n",
    "print(X_test)"
   ]
  },
  {
   "cell_type": "code",
   "execution_count": 94,
   "metadata": {},
   "outputs": [],
   "source": [
    "#adding layers in Ann\n",
    "ann.add(tf.keras.layers.Dense(units=6, activation='relu'))\n",
    "ann.add(tf.keras.layers.Dense(units=6, activation='relu'))\n",
    "ann.add(tf.keras.layers.Dense(units=6, activation='sigmoid'))"
   ]
  },
  {
   "cell_type": "code",
   "execution_count": 107,
   "metadata": {},
   "outputs": [],
   "source": [
    "#compiling my ann\n",
    "ann.compile(optimizer='adam')"
   ]
  },
  {
   "cell_type": "code",
   "execution_count": null,
   "metadata": {},
   "outputs": [],
   "source": []
  }
 ],
 "metadata": {
  "language_info": {
   "codemirror_mode": {
    "name": "ipython",
    "version": 3
   },
   "file_extension": ".py",
   "mimetype": "text/x-python",
   "name": "python",
   "nbconvert_exporter": "python",
   "pygments_lexer": "ipython3",
   "version": "3.7.3-final"
  },
  "orig_nbformat": 2,
  "kernelspec": {
   "name": "python37364bitmlworkvenv35f4563241ce4ad29a93e347d73a9d75",
   "display_name": "Python 3.7.3 64-bit ('MLwork': venv)"
  }
 },
 "nbformat": 4,
 "nbformat_minor": 2
}