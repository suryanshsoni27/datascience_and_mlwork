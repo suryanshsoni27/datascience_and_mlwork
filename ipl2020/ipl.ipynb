{
 "cells": [
  {
   "cell_type": "code",
   "execution_count": 129,
   "metadata": {},
   "outputs": [],
   "source": [
    "import pandas as pd\n",
    "import numpy as np \n",
    "import matplotlib.pyplot as plt\n",
    "import keras\n",
    "from sklearn.compose import ColumnTransformer\n",
    "from sklearn.preprocessing import OneHotEncoder,LabelEncoder\n",
    "from sklearn.model_selection import train_test_split as tts"
   ]
  },
  {
   "cell_type": "code",
   "execution_count": 130,
   "metadata": {},
   "outputs": [],
   "source": [
    "dataset = pd.read_csv(\"data/iplmatches.csv\")"
   ]
  },
  {
   "cell_type": "code",
   "execution_count": 131,
   "metadata": {},
   "outputs": [
    {
     "output_type": "execute_result",
     "data": {
      "text/plain": "       id        city        date player_of_match  \\\n0  335982   Bangalore  2008-04-18     BB McCullum   \n1  335983  Chandigarh  2008-04-19      MEK Hussey   \n2  335984       Delhi  2008-04-19     MF Maharoof   \n3  335985      Mumbai  2008-04-20      MV Boucher   \n4  335986     Kolkata  2008-04-20       DJ Hussey   \n\n                                        venue  neutral_venue  \\\n0                       M Chinnaswamy Stadium              0   \n1  Punjab Cricket Association Stadium, Mohali              0   \n2                            Feroz Shah Kotla              0   \n3                            Wankhede Stadium              0   \n4                                Eden Gardens              0   \n\n                         team1                        team2  \\\n0  Royal Challengers Bangalore        Kolkata Knight Riders   \n1              Kings XI Punjab          Chennai Super Kings   \n2             Delhi Daredevils             Rajasthan Royals   \n3               Mumbai Indians  Royal Challengers Bangalore   \n4        Kolkata Knight Riders              Deccan Chargers   \n\n                   toss_winner toss_decision                       winner  \\\n0  Royal Challengers Bangalore         field        Kolkata Knight Riders   \n1          Chennai Super Kings           bat          Chennai Super Kings   \n2             Rajasthan Royals           bat             Delhi Daredevils   \n3               Mumbai Indians           bat  Royal Challengers Bangalore   \n4              Deccan Chargers           bat        Kolkata Knight Riders   \n\n    result  result_margin eliminator method    umpire1         umpire2  \n0     runs          140.0          N    NaN  Asad Rauf     RE Koertzen  \n1     runs           33.0          N    NaN  MR Benson      SL Shastri  \n2  wickets            9.0          N    NaN  Aleem Dar  GA Pratapkumar  \n3  wickets            5.0          N    NaN   SJ Davis       DJ Harper  \n4  wickets            5.0          N    NaN  BF Bowden     K Hariharan  ",
      "text/html": "<div>\n<style scoped>\n    .dataframe tbody tr th:only-of-type {\n        vertical-align: middle;\n    }\n\n    .dataframe tbody tr th {\n        vertical-align: top;\n    }\n\n    .dataframe thead th {\n        text-align: right;\n    }\n</style>\n<table border=\"1\" class=\"dataframe\">\n  <thead>\n    <tr style=\"text-align: right;\">\n      <th></th>\n      <th>id</th>\n      <th>city</th>\n      <th>date</th>\n      <th>player_of_match</th>\n      <th>venue</th>\n      <th>neutral_venue</th>\n      <th>team1</th>\n      <th>team2</th>\n      <th>toss_winner</th>\n      <th>toss_decision</th>\n      <th>winner</th>\n      <th>result</th>\n      <th>result_margin</th>\n      <th>eliminator</th>\n      <th>method</th>\n      <th>umpire1</th>\n      <th>umpire2</th>\n    </tr>\n  </thead>\n  <tbody>\n    <tr>\n      <th>0</th>\n      <td>335982</td>\n      <td>Bangalore</td>\n      <td>2008-04-18</td>\n      <td>BB McCullum</td>\n      <td>M Chinnaswamy Stadium</td>\n      <td>0</td>\n      <td>Royal Challengers Bangalore</td>\n      <td>Kolkata Knight Riders</td>\n      <td>Royal Challengers Bangalore</td>\n      <td>field</td>\n      <td>Kolkata Knight Riders</td>\n      <td>runs</td>\n      <td>140.0</td>\n      <td>N</td>\n      <td>NaN</td>\n      <td>Asad Rauf</td>\n      <td>RE Koertzen</td>\n    </tr>\n    <tr>\n      <th>1</th>\n      <td>335983</td>\n      <td>Chandigarh</td>\n      <td>2008-04-19</td>\n      <td>MEK Hussey</td>\n      <td>Punjab Cricket Association Stadium, Mohali</td>\n      <td>0</td>\n      <td>Kings XI Punjab</td>\n      <td>Chennai Super Kings</td>\n      <td>Chennai Super Kings</td>\n      <td>bat</td>\n      <td>Chennai Super Kings</td>\n      <td>runs</td>\n      <td>33.0</td>\n      <td>N</td>\n      <td>NaN</td>\n      <td>MR Benson</td>\n      <td>SL Shastri</td>\n    </tr>\n    <tr>\n      <th>2</th>\n      <td>335984</td>\n      <td>Delhi</td>\n      <td>2008-04-19</td>\n      <td>MF Maharoof</td>\n      <td>Feroz Shah Kotla</td>\n      <td>0</td>\n      <td>Delhi Daredevils</td>\n      <td>Rajasthan Royals</td>\n      <td>Rajasthan Royals</td>\n      <td>bat</td>\n      <td>Delhi Daredevils</td>\n      <td>wickets</td>\n      <td>9.0</td>\n      <td>N</td>\n      <td>NaN</td>\n      <td>Aleem Dar</td>\n      <td>GA Pratapkumar</td>\n    </tr>\n    <tr>\n      <th>3</th>\n      <td>335985</td>\n      <td>Mumbai</td>\n      <td>2008-04-20</td>\n      <td>MV Boucher</td>\n      <td>Wankhede Stadium</td>\n      <td>0</td>\n      <td>Mumbai Indians</td>\n      <td>Royal Challengers Bangalore</td>\n      <td>Mumbai Indians</td>\n      <td>bat</td>\n      <td>Royal Challengers Bangalore</td>\n      <td>wickets</td>\n      <td>5.0</td>\n      <td>N</td>\n      <td>NaN</td>\n      <td>SJ Davis</td>\n      <td>DJ Harper</td>\n    </tr>\n    <tr>\n      <th>4</th>\n      <td>335986</td>\n      <td>Kolkata</td>\n      <td>2008-04-20</td>\n      <td>DJ Hussey</td>\n      <td>Eden Gardens</td>\n      <td>0</td>\n      <td>Kolkata Knight Riders</td>\n      <td>Deccan Chargers</td>\n      <td>Deccan Chargers</td>\n      <td>bat</td>\n      <td>Kolkata Knight Riders</td>\n      <td>wickets</td>\n      <td>5.0</td>\n      <td>N</td>\n      <td>NaN</td>\n      <td>BF Bowden</td>\n      <td>K Hariharan</td>\n    </tr>\n  </tbody>\n</table>\n</div>"
     },
     "metadata": {},
     "execution_count": 131
    }
   ],
   "source": [
    "dataset.head()"
   ]
  },
  {
   "cell_type": "code",
   "execution_count": 132,
   "metadata": {
    "tags": []
   },
   "outputs": [
    {
     "output_type": "stream",
     "name": "stdout",
     "text": "<class 'pandas.core.frame.DataFrame'>\nRangeIndex: 816 entries, 0 to 815\nData columns (total 17 columns):\n #   Column           Non-Null Count  Dtype  \n---  ------           --------------  -----  \n 0   id               816 non-null    int64  \n 1   city             803 non-null    object \n 2   date             816 non-null    object \n 3   player_of_match  812 non-null    object \n 4   venue            816 non-null    object \n 5   neutral_venue    816 non-null    int64  \n 6   team1            816 non-null    object \n 7   team2            816 non-null    object \n 8   toss_winner      816 non-null    object \n 9   toss_decision    816 non-null    object \n 10  winner           812 non-null    object \n 11  result           812 non-null    object \n 12  result_margin    799 non-null    float64\n 13  eliminator       812 non-null    object \n 14  method           19 non-null     object \n 15  umpire1          816 non-null    object \n 16  umpire2          816 non-null    object \ndtypes: float64(1), int64(2), object(14)\nmemory usage: 108.5+ KB\n"
    }
   ],
   "source": [
    "dataset.info()\n",
    "encoder = LabelEncoder()\n"
   ]
  },
  {
   "cell_type": "code",
   "execution_count": 133,
   "metadata": {},
   "outputs": [],
   "source": [
    "\n",
    "conditions = [dataset[\"venue\"] == \"Rajiv Gandhi International Stadium, Uppal\",dataset[\"venue\"] == \"Maharashtra Cricket Association Stadium\",\n",
    "              dataset[\"venue\"] == \"Saurashtra Cricket Association Stadium\", dataset[\"venue\"] == \"Holkar Cricket Stadium\",\n",
    "              dataset[\"venue\"] == \"M Chinnaswamy Stadium\",dataset[\"venue\"] == \"Wankhede Stadium\",\n",
    "              dataset[\"venue\"] == \"Eden Gardens\",dataset[\"venue\"] == \"Feroz Shah Kotla\",\n",
    "              dataset[\"venue\"] == \"Punjab Cricket Association IS Bindra Stadium, Mohali\",dataset[\"venue\"] == \"Green Park\",\n",
    "              dataset[\"venue\"] == \"Punjab Cricket Association Stadium, Mohali\",dataset[\"venue\"] == \"Dr DY Patil Sports Academy\",\n",
    "              dataset[\"venue\"] == \"Sawai Mansingh Stadium\", dataset[\"venue\"] == \"MA Chidambaram Stadium, Chepauk\", \n",
    "              dataset[\"venue\"] == \"Newlands\", dataset[\"venue\"] == \"St George's Park\" , \n",
    "              dataset[\"venue\"] == \"Kingsmead\", dataset[\"venue\"] == \"SuperSport Park\",\n",
    "              dataset[\"venue\"] == \"Buffalo Park\", dataset[\"venue\"] == \"New Wanderers Stadium\",\n",
    "              dataset[\"venue\"] == \"De Beers Diamond Oval\", dataset[\"venue\"] == \"OUTsurance Oval\", \n",
    "              dataset[\"venue\"] == \"Brabourne Stadium\",dataset[\"venue\"] == \"Sardar Patel Stadium\", \n",
    "              dataset[\"venue\"] == \"Barabati Stadium\", dataset[\"venue\"] == \"Vidarbha Cricket Association Stadium, Jamtha\",\n",
    "              dataset[\"venue\"] == \"Himachal Pradesh Cricket Association Stadium\",dataset[\"venue\"] == \"Nehru Stadium\",\n",
    "              dataset[\"venue\"] == \"Dr. Y.S. Rajasekhara Reddy ACA-VDCA Cricket Stadium\",dataset[\"venue\"] == \"Subrata Roy Sahara Stadium\",\n",
    "              dataset[\"venue\"] == \"Shaheed Veer Narayan Singh International Stadium\",dataset[\"venue\"] == \"JSCA International Stadium Complex\",\n",
    "              dataset[\"venue\"] == \"Sheikh Zayed Stadium\",dataset[\"venue\"] == \"Sharjah Cricket Stadium\",\n",
    "              dataset[\"venue\"] == \"Dubai International Cricket Stadium\",dataset[\"venue\"] == \"M. A. Chidambaram Stadium\",\n",
    "              dataset[\"venue\"] == \"Feroz Shah Kotla Ground\",dataset[\"venue\"] == \"M. Chinnaswamy Stadium\",\n",
    "              dataset[\"venue\"] == \"Rajiv Gandhi Intl. Cricket Stadium\" ,dataset[\"venue\"] == \"IS Bindra Stadium\",dataset[\"venue\"] == \"ACA-VDCA Stadium\"]\n",
    "\n"
   ]
  },
  {
   "cell_type": "code",
   "execution_count": 134,
   "metadata": {},
   "outputs": [],
   "source": [
    "values = ['Hyderabad', 'Mumbai', 'Rajkot',\"Indore\",\"Bengaluru\",\"Mumbai\",\"Kolkata\",\"Delhi\",\"Mohali\",\"Kanpur\",\"Mohali\",\"Pune\",\"Jaipur\",\"Chennai\",\"Cape Town\",\"Port Elizabeth\",\"Durban\",\n",
    "          \"Centurion\",'Eastern Cape','Johannesburg','Northern Cape','Bloemfontein','Mumbai','Ahmedabad','Cuttack','Jamtha','Dharamshala','Chennai','Visakhapatnam','Pune','Raipur','Ranchi',\n",
    "          'Abu Dhabi','Sharjah','Dubai','Chennai','Delhi','Bengaluru','Hyderabad','Mohali','Visakhapatnam']\n",
    "\n",
    "\n",
    "#Removing records having null values in \"winner\" column\n",
    "\n",
    "\n",
    "\n",
    "dataset['city'] = np.where(dataset['city'].isnull(),\n",
    "                              np.select(conditions, values),\n",
    "                              dataset['city'])\n",
    "\n",
    "# #Removing records having null values in \"winner\" column\n",
    "# dataset=dataset[dataset[\"winner\"].notna()]"
   ]
  },
  {
   "cell_type": "code",
   "execution_count": 140,
   "metadata": {
    "tags": []
   },
   "outputs": [
    {
     "output_type": "stream",
     "name": "stdout",
     "text": "Royal Challengers Bangalore\nKings XI Punjab\nDelhi Daredevils\nMumbai Indians\nKolkata Knight Riders\nRajasthan Royals\nDeccan Chargers\nChennai Super Kings\nKochi Tuskers Kerala\nPune Warriors\nSunrisers Hyderabad\nGujarat Lions\nRising Pune Supergiants\nRising Pune Supergiant\nDelhi Capitals\n"
    }
   ],
   "source": [
    "for t in dataset['team1'].unique():\n",
    "    print(t)"
   ]
  },
  {
   "cell_type": "code",
   "execution_count": null,
   "metadata": {},
   "outputs": [],
   "source": []
  }
 ],
 "metadata": {
  "language_info": {
   "codemirror_mode": {
    "name": "ipython",
    "version": 3
   },
   "file_extension": ".py",
   "mimetype": "text/x-python",
   "name": "python",
   "nbconvert_exporter": "python",
   "pygments_lexer": "ipython3",
   "version": "3.7.3-final"
  },
  "orig_nbformat": 2,
  "kernelspec": {
   "name": "python37364bitmlworkvenv35f4563241ce4ad29a93e347d73a9d75",
   "display_name": "Python 3.7.3 64-bit ('MLwork': venv)"
  }
 },
 "nbformat": 4,
 "nbformat_minor": 2
}