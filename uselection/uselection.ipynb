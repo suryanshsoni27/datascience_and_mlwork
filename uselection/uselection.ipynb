{
 "cells": [
  {
   "cell_type": "code",
   "execution_count": 11,
   "metadata": {},
   "outputs": [],
   "source": [
    "import pandas as pd\n",
    "import numpy as np \n",
    "from sklearn.ensemble import RandomForestClassifier\n",
    "import matplotlib.pyplot as plt\n",
    "import keras"
   ]
  },
  {
   "cell_type": "code",
   "execution_count": 12,
   "metadata": {},
   "outputs": [],
   "source": [
    "data = pd.read_csv(\"data/governors_county.csv\")"
   ]
  },
  {
   "cell_type": "code",
   "execution_count": 13,
   "metadata": {},
   "outputs": [
    {
     "output_type": "execute_result",
     "data": {
      "text/plain": "      state             county  current_votes  total_votes  percent\n0  Delaware        Kent County          85415        87025      100\n1  Delaware  New Castle County         280039       287633      100\n2  Delaware      Sussex County         127181       129352      100\n3   Indiana       Adams County          14154        14238       99\n4   Indiana       Allen County         168312       164793       95",
      "text/html": "<div>\n<style scoped>\n    .dataframe tbody tr th:only-of-type {\n        vertical-align: middle;\n    }\n\n    .dataframe tbody tr th {\n        vertical-align: top;\n    }\n\n    .dataframe thead th {\n        text-align: right;\n    }\n</style>\n<table border=\"1\" class=\"dataframe\">\n  <thead>\n    <tr style=\"text-align: right;\">\n      <th></th>\n      <th>state</th>\n      <th>county</th>\n      <th>current_votes</th>\n      <th>total_votes</th>\n      <th>percent</th>\n    </tr>\n  </thead>\n  <tbody>\n    <tr>\n      <th>0</th>\n      <td>Delaware</td>\n      <td>Kent County</td>\n      <td>85415</td>\n      <td>87025</td>\n      <td>100</td>\n    </tr>\n    <tr>\n      <th>1</th>\n      <td>Delaware</td>\n      <td>New Castle County</td>\n      <td>280039</td>\n      <td>287633</td>\n      <td>100</td>\n    </tr>\n    <tr>\n      <th>2</th>\n      <td>Delaware</td>\n      <td>Sussex County</td>\n      <td>127181</td>\n      <td>129352</td>\n      <td>100</td>\n    </tr>\n    <tr>\n      <th>3</th>\n      <td>Indiana</td>\n      <td>Adams County</td>\n      <td>14154</td>\n      <td>14238</td>\n      <td>99</td>\n    </tr>\n    <tr>\n      <th>4</th>\n      <td>Indiana</td>\n      <td>Allen County</td>\n      <td>168312</td>\n      <td>164793</td>\n      <td>95</td>\n    </tr>\n  </tbody>\n</table>\n</div>"
     },
     "metadata": {},
     "execution_count": 13
    }
   ],
   "source": [
    "data.head()"
   ]
  },
  {
   "cell_type": "code",
   "execution_count": null,
   "metadata": {},
   "outputs": [],
   "source": []
  }
 ],
 "metadata": {
  "language_info": {
   "codemirror_mode": {
    "name": "ipython",
    "version": 3
   },
   "file_extension": ".py",
   "mimetype": "text/x-python",
   "name": "python",
   "nbconvert_exporter": "python",
   "pygments_lexer": "ipython3",
   "version": "3.7.3-final"
  },
  "orig_nbformat": 2,
  "kernelspec": {
   "name": "python37364bitmlworkvenv3afc1b8f7d2a4b5899fe6159d1eaa597",
   "display_name": "Python 3.7.3 64-bit ('MLwork': venv)"
  }
 },
 "nbformat": 4,
 "nbformat_minor": 2
}