{
 "cells": [
  {
   "cell_type": "code",
   "execution_count": 70,
   "metadata": {},
   "outputs": [],
   "source": [
    "import numpy as np \n",
    "import matplotlib.pyplot as plt \n",
    "import pandas as pd "
   ]
  },
  {
   "cell_type": "code",
   "execution_count": 71,
   "metadata": {},
   "outputs": [],
   "source": [
    "tesla = pd.read_csv(\"data/TSLA.csv\")\n",
    "tesla.drop(['Adj Close'], axis = 1)\n",
    "trainingset = tesla.iloc[:,1:2].values\n"
   ]
  },
  {
   "cell_type": "code",
   "execution_count": 72,
   "metadata": {},
   "outputs": [],
   "source": [
    "from sklearn.preprocessing import MinMaxScaler"
   ]
  },
  {
   "cell_type": "code",
   "execution_count": 73,
   "metadata": {
    "tags": []
   },
   "outputs": [
    {
     "output_type": "stream",
     "name": "stdout",
     "text": "[[[0.00434948]\n  [0.01467569]\n  [0.01347426]\n  ...\n  [0.00688921]\n  [0.00722379]\n  [0.00719337]]\n\n [[0.01467569]\n  [0.01347426]\n  [0.01043267]\n  ...\n  [0.00722379]\n  [0.00719337]\n  [0.00570299]]\n\n [[0.01347426]\n  [0.01043267]\n  [0.00587028]\n  ...\n  [0.00719337]\n  [0.00570299]\n  [0.00579424]]\n\n ...\n\n [[0.25809445]\n  [0.26977416]\n  [0.26242871]\n  ...\n  [0.37451143]\n  [0.37413124]\n  [0.3713482 ]]\n\n [[0.26977416]\n  [0.26242871]\n  [0.26475553]\n  ...\n  [0.37413124]\n  [0.3713482 ]\n  [0.38147671]]\n\n [[0.26242871]\n  [0.26475553]\n  [0.27657212]\n  ...\n  [0.3713482 ]\n  [0.38147671]\n  [0.38067069]]]\n"
    }
   ],
   "source": [
    "mnmsc = MinMaxScaler(feature_range=(0,1))\n",
    "trainingset_sc = mnmsc.fit_transform(trainingset)\n",
    "X_train = []\n",
    "y_train = []\n",
    "for i in range(60, 1258):\n",
    "    X_train.append(trainingset_sc[i-60:i, 0])\n",
    "    y_train.append(trainingset_sc[i, 0])\n",
    "X_train, y_train = np.array(X_train), np.array(y_train)\n",
    "\n",
    "# Reshaping\n",
    "X_train = np.reshape(X_train, (X_train.shape[0], X_train.shape[1], 1))\n",
    "print(X_train)\n"
   ]
  },
  {
   "cell_type": "code",
   "execution_count": 74,
   "metadata": {},
   "outputs": [],
   "source": [
    "from keras.models import Sequential\n",
    "from keras.layers import Dense\n",
    "from keras.layers import LSTM\n",
    "from keras.layers import Dropout\n"
   ]
  },
  {
   "cell_type": "code",
   "execution_count": 75,
   "metadata": {},
   "outputs": [],
   "source": [
    "regressor = Sequential()\n",
    "regressor.add(LSTM(units=100,return_sequences=True, input_shape = (X_train.shape[1],1)))\n",
    "regressor.add(Dropout(0.2))\n",
    "regressor.add(LSTM(units=100,return_sequences=True, input_shape = (X_train.shape[1],1)))\n",
    "regressor.add(Dropout(0.2))\n",
    "regressor.add(LSTM(units=100,return_sequences=True, input_shape = (X_train.shape[1],1)))\n",
    "regressor.add(Dropout(0.2))\n",
    "\n",
    "regressor.add(LSTM(units=100,return_sequences=True))\n",
    "regressor.add(Dropout(0.2))\n",
    "regressor.add(Dense(units = 1))\n",
    "\n",
    "regressor.compile(optimizer='adam',loss='mean_squared_error')\n",
    "\n",
    "\n"
   ]
  },
  {
   "cell_type": "code",
   "execution_count": 76,
   "metadata": {
    "tags": []
   },
   "outputs": [
    {
     "output_type": "stream",
     "name": "stdout",
     "text": "Epoch 1/100\n38/38 [==============================] - 3s 90ms/step - loss: 0.0071\nEpoch 2/100\n38/38 [==============================] - 3s 79ms/step - loss: 0.0031\nEpoch 3/100\n38/38 [==============================] - 3s 78ms/step - loss: 0.0027\nEpoch 4/100\n38/38 [==============================] - 3s 78ms/step - loss: 0.0023\nEpoch 5/100\n38/38 [==============================] - 3s 79ms/step - loss: 0.0021\nEpoch 6/100\n38/38 [==============================] - 3s 78ms/step - loss: 0.0020\nEpoch 7/100\n38/38 [==============================] - 3s 79ms/step - loss: 0.0018\nEpoch 8/100\n38/38 [==============================] - 3s 77ms/step - loss: 0.0017\nEpoch 9/100\n38/38 [==============================] - 3s 78ms/step - loss: 0.0016\nEpoch 10/100\n38/38 [==============================] - 3s 78ms/step - loss: 0.0016\nEpoch 11/100\n38/38 [==============================] - 3s 77ms/step - loss: 0.0016\nEpoch 12/100\n38/38 [==============================] - 3s 77ms/step - loss: 0.0014\nEpoch 13/100\n38/38 [==============================] - 3s 78ms/step - loss: 0.0015\nEpoch 14/100\n38/38 [==============================] - 3s 78ms/step - loss: 0.0014\nEpoch 15/100\n38/38 [==============================] - 3s 78ms/step - loss: 0.0013\nEpoch 16/100\n38/38 [==============================] - 3s 78ms/step - loss: 0.0013\nEpoch 17/100\n38/38 [==============================] - 3s 79ms/step - loss: 0.0013\nEpoch 18/100\n38/38 [==============================] - 3s 79ms/step - loss: 0.0012\nEpoch 19/100\n38/38 [==============================] - 3s 81ms/step - loss: 0.0012\nEpoch 20/100\n38/38 [==============================] - 3s 83ms/step - loss: 0.0012\nEpoch 21/100\n38/38 [==============================] - 3s 80ms/step - loss: 0.0012\nEpoch 22/100\n38/38 [==============================] - 3s 81ms/step - loss: 0.0012\nEpoch 23/100\n38/38 [==============================] - 3s 82ms/step - loss: 0.0012\nEpoch 24/100\n38/38 [==============================] - 3s 81ms/step - loss: 0.0011\nEpoch 25/100\n38/38 [==============================] - 3s 81ms/step - loss: 0.0011\nEpoch 26/100\n38/38 [==============================] - 3s 80ms/step - loss: 0.0011\nEpoch 27/100\n38/38 [==============================] - 3s 80ms/step - loss: 0.0011\nEpoch 28/100\n38/38 [==============================] - 3s 79ms/step - loss: 0.0011\nEpoch 29/100\n38/38 [==============================] - 3s 79ms/step - loss: 0.0011\nEpoch 30/100\n38/38 [==============================] - 3s 79ms/step - loss: 0.0011\nEpoch 31/100\n38/38 [==============================] - 3s 79ms/step - loss: 0.0012\nEpoch 32/100\n38/38 [==============================] - 3s 79ms/step - loss: 0.0010\nEpoch 33/100\n38/38 [==============================] - 3s 80ms/step - loss: 0.0010\nEpoch 34/100\n38/38 [==============================] - 3s 79ms/step - loss: 0.0010\nEpoch 35/100\n38/38 [==============================] - 3s 80ms/step - loss: 0.0011\nEpoch 36/100\n38/38 [==============================] - 3s 79ms/step - loss: 0.0010\nEpoch 37/100\n38/38 [==============================] - 3s 79ms/step - loss: 0.0011\nEpoch 38/100\n38/38 [==============================] - 3s 80ms/step - loss: 0.0011\nEpoch 39/100\n38/38 [==============================] - 3s 79ms/step - loss: 0.0010\nEpoch 40/100\n38/38 [==============================] - 3s 85ms/step - loss: 0.0012\nEpoch 41/100\n38/38 [==============================] - 3s 81ms/step - loss: 0.0010\nEpoch 42/100\n38/38 [==============================] - 3s 80ms/step - loss: 0.0011\nEpoch 43/100\n38/38 [==============================] - 3s 80ms/step - loss: 0.0011\nEpoch 44/100\n38/38 [==============================] - 3s 80ms/step - loss: 0.0011\nEpoch 45/100\n38/38 [==============================] - 3s 79ms/step - loss: 0.0012\nEpoch 46/100\n38/38 [==============================] - 3s 81ms/step - loss: 0.0011\nEpoch 47/100\n38/38 [==============================] - 3s 81ms/step - loss: 0.0010\nEpoch 48/100\n38/38 [==============================] - 3s 80ms/step - loss: 0.0011\nEpoch 49/100\n38/38 [==============================] - 3s 81ms/step - loss: 0.0010\nEpoch 50/100\n38/38 [==============================] - 3s 81ms/step - loss: 0.0010\nEpoch 51/100\n38/38 [==============================] - 3s 80ms/step - loss: 0.0010\nEpoch 52/100\n38/38 [==============================] - 3s 81ms/step - loss: 0.0011\nEpoch 53/100\n38/38 [==============================] - 3s 80ms/step - loss: 0.0010\nEpoch 54/100\n38/38 [==============================] - 3s 81ms/step - loss: 0.0010\nEpoch 55/100\n38/38 [==============================] - 3s 84ms/step - loss: 0.0010\nEpoch 56/100\n38/38 [==============================] - 3s 81ms/step - loss: 0.0010\nEpoch 57/100\n38/38 [==============================] - 3s 81ms/step - loss: 0.0010\nEpoch 58/100\n38/38 [==============================] - 3s 80ms/step - loss: 0.0011\nEpoch 59/100\n38/38 [==============================] - 3s 80ms/step - loss: 0.0010\nEpoch 60/100\n38/38 [==============================] - 3s 81ms/step - loss: 9.8896e-04\nEpoch 61/100\n38/38 [==============================] - 3s 80ms/step - loss: 0.0010\nEpoch 62/100\n38/38 [==============================] - 3s 80ms/step - loss: 9.8149e-04\nEpoch 63/100\n38/38 [==============================] - 3s 81ms/step - loss: 9.7623e-04\nEpoch 64/100\n38/38 [==============================] - 3s 81ms/step - loss: 0.0010\nEpoch 65/100\n38/38 [==============================] - 3s 81ms/step - loss: 0.0010\nEpoch 66/100\n38/38 [==============================] - 3s 80ms/step - loss: 0.0010\nEpoch 67/100\n38/38 [==============================] - 3s 80ms/step - loss: 0.0010\nEpoch 68/100\n38/38 [==============================] - 3s 80ms/step - loss: 0.0011\nEpoch 69/100\n38/38 [==============================] - 3s 80ms/step - loss: 0.0011\nEpoch 70/100\n38/38 [==============================] - 3s 80ms/step - loss: 9.8282e-04\nEpoch 71/100\n38/38 [==============================] - 3s 80ms/step - loss: 9.9919e-04\nEpoch 72/100\n38/38 [==============================] - 3s 81ms/step - loss: 0.0010\nEpoch 73/100\n38/38 [==============================] - 3s 80ms/step - loss: 9.7472e-04\nEpoch 74/100\n38/38 [==============================] - 3s 80ms/step - loss: 9.8013e-04\nEpoch 75/100\n38/38 [==============================] - 3s 81ms/step - loss: 9.9303e-04\nEpoch 76/100\n38/38 [==============================] - 3s 80ms/step - loss: 9.6562e-04\nEpoch 77/100\n38/38 [==============================] - 3s 80ms/step - loss: 9.9572e-04\nEpoch 78/100\n38/38 [==============================] - 3s 80ms/step - loss: 0.0010\nEpoch 79/100\n38/38 [==============================] - 3s 85ms/step - loss: 0.0010\nEpoch 80/100\n38/38 [==============================] - 3s 81ms/step - loss: 9.8950e-04\nEpoch 81/100\n38/38 [==============================] - 3s 80ms/step - loss: 0.0010\nEpoch 82/100\n38/38 [==============================] - 3s 82ms/step - loss: 9.9579e-04\nEpoch 83/100\n38/38 [==============================] - 3s 80ms/step - loss: 9.4360e-04\nEpoch 84/100\n38/38 [==============================] - 3s 80ms/step - loss: 9.8826e-04\nEpoch 85/100\n38/38 [==============================] - 3s 80ms/step - loss: 9.6865e-04\nEpoch 86/100\n38/38 [==============================] - 3s 81ms/step - loss: 9.5857e-04\nEpoch 87/100\n38/38 [==============================] - 3s 81ms/step - loss: 9.8382e-04\nEpoch 88/100\n38/38 [==============================] - 3s 80ms/step - loss: 9.7497e-04\nEpoch 89/100\n38/38 [==============================] - 3s 81ms/step - loss: 9.7034e-04\nEpoch 90/100\n38/38 [==============================] - 3s 80ms/step - loss: 9.7359e-04\nEpoch 91/100\n38/38 [==============================] - 3s 80ms/step - loss: 9.8828e-04\nEpoch 92/100\n38/38 [==============================] - 3s 80ms/step - loss: 9.5015e-04\nEpoch 93/100\n38/38 [==============================] - 3s 79ms/step - loss: 9.2898e-04\nEpoch 94/100\n38/38 [==============================] - 3s 79ms/step - loss: 0.0010\nEpoch 95/100\n38/38 [==============================] - 3s 82ms/step - loss: 0.0010\nEpoch 96/100\n38/38 [==============================] - 3s 79ms/step - loss: 9.4290e-04\nEpoch 97/100\n38/38 [==============================] - 3s 80ms/step - loss: 9.9670e-04\nEpoch 98/100\n38/38 [==============================] - 3s 80ms/step - loss: 9.5020e-04\nEpoch 99/100\n38/38 [==============================] - 3s 79ms/step - loss: 9.5417e-04\nEpoch 100/100\n38/38 [==============================] - 3s 79ms/step - loss: 9.4111e-04\n"
    },
    {
     "output_type": "execute_result",
     "data": {
      "text/plain": "<tensorflow.python.keras.callbacks.History at 0x158dd97b8>"
     },
     "metadata": {},
     "execution_count": 76
    }
   ],
   "source": [
    "regressor.fit(X_train,y_train,epochs = 100,batch_size = 32)"
   ]
  },
  {
   "cell_type": "code",
   "execution_count": 97,
   "metadata": {},
   "outputs": [],
   "source": [
    "tesla[0:1800].to_csv('data/training.csv')\n",
    "tesla[1800:2100].to_csv('data/test.csv')"
   ]
  },
  {
   "cell_type": "code",
   "execution_count": null,
   "metadata": {},
   "outputs": [],
   "source": [
    "dataset_test = tesla.iloc[:,2000:2145].values\n",
    "real_stock_price = dataset_test[:, 1:2]\n",
    "\n",
    "dataset_total = pd.concat((tesla['Open']),axis = 0)\n",
    "inputs = dataset_total[len(dataset_total)- len(dataset_total) - 240].values\n",
    "\n",
    "inputs = inputs.reshape(-1,1)\n",
    "inputs = sc.transform(inputs)\n",
    "X_test = []\n",
    "\n",
    "for i in range(240,260):\n",
    "    X_test.append(input[i-240:i,0])\n",
    "X_test = np.array(X_test)\n",
    "X_test = np.reshape(X_test,(X_test.shape[0],X_test.shape[1],1))\n",
    "\n",
    "predicted_price = regressor.predict(X_test)\n"
   ]
  }
 ],
 "metadata": {
  "language_info": {
   "codemirror_mode": {
    "name": "ipython",
    "version": 3
   },
   "file_extension": ".py",
   "mimetype": "text/x-python",
   "name": "python",
   "nbconvert_exporter": "python",
   "pygments_lexer": "ipython3",
   "version": "3.7.3-final"
  },
  "orig_nbformat": 2,
  "kernelspec": {
   "name": "python37364bitmlworkvenv3afc1b8f7d2a4b5899fe6159d1eaa597",
   "display_name": "Python 3.7.3 64-bit ('MLwork': venv)"
  }
 },
 "nbformat": 4,
 "nbformat_minor": 2
}