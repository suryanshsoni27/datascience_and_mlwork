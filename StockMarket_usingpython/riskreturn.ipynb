{
 "cells": [
  {
   "cell_type": "code",
   "execution_count": 8,
   "metadata": {},
   "outputs": [],
   "source": [
    "import numpy as np \n",
    "import pandas as pd \n",
    "import matplotlib.pyplot as plt \n",
    "import pandas_datareader as wb\n"
   ]
  },
  {
   "cell_type": "code",
   "execution_count": 9,
   "metadata": {},
   "outputs": [],
   "source": [
    "ticker = ['PG','BEI.DE']\n",
    "sec_data = pd.DataFrame()\n",
    "\n",
    "for t in ticker:\n",
    "    sec_data[t] = wb.DataReader(t,data_source = 'yahoo',start='2007-1-1')['Adj Close']"
   ]
  },
  {
   "cell_type": "code",
   "execution_count": 10,
   "metadata": {},
   "outputs": [],
   "source": [
    "sec_returns = np.log(sec_data/sec_data.shift(1))"
   ]
  },
  {
   "cell_type": "code",
   "execution_count": 11,
   "metadata": {},
   "outputs": [
    {
     "output_type": "execute_result",
     "data": {
      "text/plain": "                    PG     BEI.DE\nDate                             \n2020-11-20  139.300003  97.099998\n2020-11-23  138.759995  95.480003\n2020-11-24  138.309998  93.639999\n2020-11-25  138.679993  95.120003\n2020-11-27  138.610001  94.900002",
      "text/html": "<div>\n<style scoped>\n    .dataframe tbody tr th:only-of-type {\n        vertical-align: middle;\n    }\n\n    .dataframe tbody tr th {\n        vertical-align: top;\n    }\n\n    .dataframe thead th {\n        text-align: right;\n    }\n</style>\n<table border=\"1\" class=\"dataframe\">\n  <thead>\n    <tr style=\"text-align: right;\">\n      <th></th>\n      <th>PG</th>\n      <th>BEI.DE</th>\n    </tr>\n    <tr>\n      <th>Date</th>\n      <th></th>\n      <th></th>\n    </tr>\n  </thead>\n  <tbody>\n    <tr>\n      <th>2020-11-20</th>\n      <td>139.300003</td>\n      <td>97.099998</td>\n    </tr>\n    <tr>\n      <th>2020-11-23</th>\n      <td>138.759995</td>\n      <td>95.480003</td>\n    </tr>\n    <tr>\n      <th>2020-11-24</th>\n      <td>138.309998</td>\n      <td>93.639999</td>\n    </tr>\n    <tr>\n      <th>2020-11-25</th>\n      <td>138.679993</td>\n      <td>95.120003</td>\n    </tr>\n    <tr>\n      <th>2020-11-27</th>\n      <td>138.610001</td>\n      <td>94.900002</td>\n    </tr>\n  </tbody>\n</table>\n</div>"
     },
     "metadata": {},
     "execution_count": 11
    }
   ],
   "source": [
    "sec_data.tail()"
   ]
  },
  {
   "cell_type": "code",
   "execution_count": 13,
   "metadata": {
    "tags": []
   },
   "outputs": [
    {
     "output_type": "stream",
     "name": "stdout",
     "text": "PG    BEI.DE\nDate                          \n2007-01-03       NaN       NaN\n2007-01-04 -0.007621  0.006544\n2007-01-05 -0.008624 -0.020772\n2007-01-08  0.002202  0.000202\n2007-01-09 -0.002517 -0.022858\n...              ...       ...\n2020-11-20 -0.001650  0.000000\n2020-11-23 -0.003884 -0.016825\n2020-11-24 -0.003248 -0.019459\n2020-11-25  0.002672  0.015682\n2020-11-27 -0.000505 -0.002316\n\n[3502 rows x 2 columns]\n"
    }
   ],
   "source": [
    "print(sec_returns)"
   ]
  },
  {
   "cell_type": "code",
   "execution_count": null,
   "metadata": {},
   "outputs": [],
   "source": [
    "sec_returns['PG'].mean()\n",
    "sec_returns['PG'].std()\n",
    "sec_returns['PG'].std()*250**0.5"
   ]
  }
 ],
 "metadata": {
  "language_info": {
   "codemirror_mode": {
    "name": "ipython",
    "version": 3
   },
   "file_extension": ".py",
   "mimetype": "text/x-python",
   "name": "python",
   "nbconvert_exporter": "python",
   "pygments_lexer": "ipython3",
   "version": "3.7.3-final"
  },
  "orig_nbformat": 2,
  "kernelspec": {
   "name": "python_defaultSpec_1606715663276",
   "display_name": "Python 3.7.3 64-bit ('3.7.3': pyenv)"
  }
 },
 "nbformat": 4,
 "nbformat_minor": 2
}