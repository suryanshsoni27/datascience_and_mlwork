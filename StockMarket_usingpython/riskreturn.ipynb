{
 "cells": [
  {
   "cell_type": "code",
   "execution_count": 34,
   "metadata": {},
   "outputs": [],
   "source": [
    "import numpy as np \n",
    "import pandas as pd \n",
    "import matplotlib.pyplot as plt \n",
    "import pandas_datareader as wb\n"
   ]
  },
  {
   "cell_type": "code",
   "execution_count": 35,
   "metadata": {},
   "outputs": [],
   "source": [
    "ticker = ['PG','BEI.DE']\n",
    "sec_data = pd.DataFrame()\n",
    "\n",
    "for t in ticker:\n",
    "    sec_data[t] = wb.DataReader(t,data_source = 'yahoo',start='2007-1-1')['Adj Close']"
   ]
  },
  {
   "cell_type": "code",
   "execution_count": 36,
   "metadata": {},
   "outputs": [],
   "source": [
    "sec_returns = np.log(sec_data/sec_data.shift(1))"
   ]
  },
  {
   "cell_type": "code",
   "execution_count": 37,
   "metadata": {},
   "outputs": [
    {
     "output_type": "execute_result",
     "data": {
      "text/plain": "                    PG     BEI.DE\nDate                             \n2020-11-23  138.759995  95.480003\n2020-11-24  138.309998  93.639999\n2020-11-25  138.679993  95.120003\n2020-11-27  138.610001  94.900002\n2020-11-30  138.869995  93.739998",
      "text/html": "<div>\n<style scoped>\n    .dataframe tbody tr th:only-of-type {\n        vertical-align: middle;\n    }\n\n    .dataframe tbody tr th {\n        vertical-align: top;\n    }\n\n    .dataframe thead th {\n        text-align: right;\n    }\n</style>\n<table border=\"1\" class=\"dataframe\">\n  <thead>\n    <tr style=\"text-align: right;\">\n      <th></th>\n      <th>PG</th>\n      <th>BEI.DE</th>\n    </tr>\n    <tr>\n      <th>Date</th>\n      <th></th>\n      <th></th>\n    </tr>\n  </thead>\n  <tbody>\n    <tr>\n      <th>2020-11-23</th>\n      <td>138.759995</td>\n      <td>95.480003</td>\n    </tr>\n    <tr>\n      <th>2020-11-24</th>\n      <td>138.309998</td>\n      <td>93.639999</td>\n    </tr>\n    <tr>\n      <th>2020-11-25</th>\n      <td>138.679993</td>\n      <td>95.120003</td>\n    </tr>\n    <tr>\n      <th>2020-11-27</th>\n      <td>138.610001</td>\n      <td>94.900002</td>\n    </tr>\n    <tr>\n      <th>2020-11-30</th>\n      <td>138.869995</td>\n      <td>93.739998</td>\n    </tr>\n  </tbody>\n</table>\n</div>"
     },
     "metadata": {},
     "execution_count": 37
    }
   ],
   "source": [
    "sec_data.tail()"
   ]
  },
  {
   "cell_type": "code",
   "execution_count": 38,
   "metadata": {
    "tags": []
   },
   "outputs": [
    {
     "output_type": "stream",
     "name": "stdout",
     "text": "PG    BEI.DE\nDate                          \n2007-01-03       NaN       NaN\n2007-01-04 -0.007621  0.006544\n2007-01-05 -0.008624 -0.020772\n2007-01-08  0.002202  0.000202\n2007-01-09 -0.002517 -0.022858\n...              ...       ...\n2020-11-23 -0.003884 -0.016825\n2020-11-24 -0.003248 -0.019459\n2020-11-25  0.002672  0.015682\n2020-11-27 -0.000505 -0.002316\n2020-11-30  0.001874 -0.012299\n\n[3503 rows x 2 columns]\n"
    }
   ],
   "source": [
    "print(sec_returns)"
   ]
  },
  {
   "cell_type": "code",
   "execution_count": 39,
   "metadata": {},
   "outputs": [
    {
     "output_type": "execute_result",
     "data": {
      "text/plain": "0.01190465254023263"
     },
     "metadata": {},
     "execution_count": 39
    }
   ],
   "source": [
    "sec_returns['PG'].mean()\n",
    "sec_returns['PG'].std()"
   ]
  },
  {
   "cell_type": "code",
   "execution_count": 40,
   "metadata": {},
   "outputs": [
    {
     "output_type": "execute_result",
     "data": {
      "text/plain": "0.18822908390022197"
     },
     "metadata": {},
     "execution_count": 40
    }
   ],
   "source": [
    "\n",
    "\n",
    "sec_returns['PG'].std()*250**0.5"
   ]
  },
  {
   "cell_type": "code",
   "execution_count": 41,
   "metadata": {},
   "outputs": [
    {
     "output_type": "execute_result",
     "data": {
      "text/plain": "0.00014172075210366718"
     },
     "metadata": {},
     "execution_count": 41
    }
   ],
   "source": [
    "PG_var = sec_returns['PG'].var()\n",
    "PG_var"
   ]
  },
  {
   "cell_type": "code",
   "execution_count": 42,
   "metadata": {},
   "outputs": [
    {
     "output_type": "execute_result",
     "data": {
      "text/plain": "0.00019268840973546848"
     },
     "metadata": {},
     "execution_count": 42
    }
   ],
   "source": [
    "BEI_var = sec_returns['BEI.DE'].var()\n",
    "BEI_var"
   ]
  },
  {
   "cell_type": "code",
   "execution_count": 43,
   "metadata": {},
   "outputs": [
    {
     "output_type": "execute_result",
     "data": {
      "text/plain": "0.0354301880259168"
     },
     "metadata": {},
     "execution_count": 43
    }
   ],
   "source": [
    "PG_var_a = sec_returns['PG'].var()*250\n",
    "\n",
    "PG_var_a"
   ]
  },
  {
   "cell_type": "code",
   "execution_count": 44,
   "metadata": {},
   "outputs": [
    {
     "output_type": "execute_result",
     "data": {
      "text/plain": "0.0354301880259168"
     },
     "metadata": {},
     "execution_count": 44
    }
   ],
   "source": [
    "PG_var_a = sec_returns['PG'].var()*250\n",
    "PG_var_a"
   ]
  },
  {
   "cell_type": "code",
   "execution_count": 45,
   "metadata": {},
   "outputs": [
    {
     "output_type": "execute_result",
     "data": {
      "text/plain": "0.04817210243386712"
     },
     "metadata": {},
     "execution_count": 45
    }
   ],
   "source": [
    "BEI_var_a = sec_returns['BEI.DE'].var() * 250\n",
    "BEI_var_a"
   ]
  },
  {
   "cell_type": "code",
   "execution_count": 46,
   "metadata": {},
   "outputs": [
    {
     "output_type": "execute_result",
     "data": {
      "text/plain": "              PG    BEI.DE\nPG      0.000142  0.000045\nBEI.DE  0.000045  0.000193",
      "text/html": "<div>\n<style scoped>\n    .dataframe tbody tr th:only-of-type {\n        vertical-align: middle;\n    }\n\n    .dataframe tbody tr th {\n        vertical-align: top;\n    }\n\n    .dataframe thead th {\n        text-align: right;\n    }\n</style>\n<table border=\"1\" class=\"dataframe\">\n  <thead>\n    <tr style=\"text-align: right;\">\n      <th></th>\n      <th>PG</th>\n      <th>BEI.DE</th>\n    </tr>\n  </thead>\n  <tbody>\n    <tr>\n      <th>PG</th>\n      <td>0.000142</td>\n      <td>0.000045</td>\n    </tr>\n    <tr>\n      <th>BEI.DE</th>\n      <td>0.000045</td>\n      <td>0.000193</td>\n    </tr>\n  </tbody>\n</table>\n</div>"
     },
     "metadata": {},
     "execution_count": 46
    }
   ],
   "source": [
    "cov_matrix = sec_returns.cov()\n",
    "cov_matrix"
   ]
  },
  {
   "cell_type": "code",
   "execution_count": 47,
   "metadata": {},
   "outputs": [
    {
     "output_type": "execute_result",
     "data": {
      "text/plain": "              PG    BEI.DE\nPG      1.000000  0.269844\nBEI.DE  0.269844  1.000000",
      "text/html": "<div>\n<style scoped>\n    .dataframe tbody tr th:only-of-type {\n        vertical-align: middle;\n    }\n\n    .dataframe tbody tr th {\n        vertical-align: top;\n    }\n\n    .dataframe thead th {\n        text-align: right;\n    }\n</style>\n<table border=\"1\" class=\"dataframe\">\n  <thead>\n    <tr style=\"text-align: right;\">\n      <th></th>\n      <th>PG</th>\n      <th>BEI.DE</th>\n    </tr>\n  </thead>\n  <tbody>\n    <tr>\n      <th>PG</th>\n      <td>1.000000</td>\n      <td>0.269844</td>\n    </tr>\n    <tr>\n      <th>BEI.DE</th>\n      <td>0.269844</td>\n      <td>1.000000</td>\n    </tr>\n  </tbody>\n</table>\n</div>"
     },
     "metadata": {},
     "execution_count": 47
    }
   ],
   "source": [
    "corr_matrix = sec_returns.corr()\n",
    "corr_matrix"
   ]
  },
  {
   "cell_type": "code",
   "execution_count": 83,
   "metadata": {},
   "outputs": [
    {
     "output_type": "execute_result",
     "data": {
      "text/plain": "0.026484782266404112"
     },
     "metadata": {},
     "execution_count": 83
    }
   ],
   "source": [
    "weights = np.array([0.5,0.5])\n",
    "pfolio_var = np.dot(weights.T, np.dot(sec_returns.cov()*250,weights))\n",
    "pfolio_var\n",
    "\n",
    " "
   ]
  },
  {
   "cell_type": "code",
   "execution_count": 84,
   "metadata": {},
   "outputs": [],
   "source": [
    "pfolio_var = pfolio_var ** 0.5"
   ]
  },
  {
   "cell_type": "code",
   "execution_count": 85,
   "metadata": {},
   "outputs": [
    {
     "output_type": "execute_result",
     "data": {
      "text/plain": "16.274145835159555"
     },
     "metadata": {},
     "execution_count": 85
    }
   ],
   "source": [
    "pfolio_var * 100"
   ]
  },
  {
   "cell_type": "code",
   "execution_count": 90,
   "metadata": {},
   "outputs": [
    {
     "output_type": "execute_result",
     "data": {
      "text/plain": "0.0354301880259168"
     },
     "metadata": {},
     "execution_count": 90
    }
   ],
   "source": [
    "\n",
    "weights = np.array([0.5,0.5])\n",
    "weights[0]\n",
    "weights[1]\n",
    "\n",
    "float(PG_var_a)"
   ]
  },
  {
   "cell_type": "code",
   "execution_count": 91,
   "metadata": {},
   "outputs": [
    {
     "output_type": "execute_result",
     "data": {
      "text/plain": "PG    0.03543\ndtype: float64"
     },
     "metadata": {},
     "execution_count": 91
    }
   ],
   "source": [
    "#diversifiable risk:\n",
    "PG_var_a = sec_returns[['PG']].var() * 250\n",
    "\n",
    "PG_var_a"
   ]
  },
  {
   "cell_type": "code",
   "execution_count": 92,
   "metadata": {},
   "outputs": [
    {
     "output_type": "execute_result",
     "data": {
      "text/plain": "BEI.DE    0.048172\ndtype: float64"
     },
     "metadata": {},
     "execution_count": 92
    }
   ],
   "source": [
    "BEI_var_a = sec_returns[['BEI.DE']].var() * 250\n",
    "BEI_var_a"
   ]
  },
  {
   "cell_type": "code",
   "execution_count": 93,
   "metadata": {},
   "outputs": [
    {
     "output_type": "execute_result",
     "data": {
      "text/plain": "0.04817210243386712"
     },
     "metadata": {},
     "execution_count": 93
    }
   ],
   "source": [
    "PG_var_a = sec_returns['PG'].var() * 250\n",
    "BEI_var_a = sec_returns['BEI.DE'].var()*250\n",
    "BEI_var_a"
   ]
  },
  {
   "cell_type": "code",
   "execution_count": 94,
   "metadata": {},
   "outputs": [],
   "source": [
    "dr = pfolio_var - (weights[0] ** 2* PG_var_a) - (weights[1] ** 2* BEI_var_a)"
   ]
  },
  {
   "cell_type": "code",
   "execution_count": 95,
   "metadata": {},
   "outputs": [
    {
     "output_type": "execute_result",
     "data": {
      "text/plain": "14.184088573664958"
     },
     "metadata": {},
     "execution_count": 95
    }
   ],
   "source": [
    "dr*100"
   ]
  },
  {
   "cell_type": "code",
   "execution_count": 96,
   "metadata": {},
   "outputs": [
    {
     "output_type": "execute_result",
     "data": {
      "text/plain": "0.02090057261494599"
     },
     "metadata": {},
     "execution_count": 96
    }
   ],
   "source": [
    "n_dr_1 = pfolio_var - dr\n",
    "n_dr_1"
   ]
  },
  {
   "cell_type": "code",
   "execution_count": 97,
   "metadata": {},
   "outputs": [],
   "source": [
    "n_dr_2 = (weights[0] ** 2 * PG_var_a) + (weights[1]**2*BEI_var_a)\n",
    "\n",
    "n_dr_2"
   ]
  },
  {
   "cell_type": "code",
   "execution_count": 98,
   "metadata": {},
   "outputs": [
    {
     "output_type": "execute_result",
     "data": {
      "text/plain": "False"
     },
     "metadata": {},
     "execution_count": 98
    }
   ],
   "source": [
    "n_dr_1 == n_dr_2"
   ]
  },
  {
   "cell_type": "code",
   "execution_count": null,
   "metadata": {},
   "outputs": [],
   "source": []
  }
 ],
 "metadata": {
  "language_info": {
   "codemirror_mode": {
    "name": "ipython",
    "version": 3
   },
   "file_extension": ".py",
   "mimetype": "text/x-python",
   "name": "python",
   "nbconvert_exporter": "python",
   "pygments_lexer": "ipython3",
   "version": "3.7.3-final"
  },
  "orig_nbformat": 2,
  "kernelspec": {
   "name": "python_defaultSpec_1606803013191",
   "display_name": "Python 3.7.3 64-bit ('3.7.3': pyenv)"
  }
 },
 "nbformat": 4,
 "nbformat_minor": 2
}